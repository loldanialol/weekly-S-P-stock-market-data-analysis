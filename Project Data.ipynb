{
 "cells": [
  {
   "cell_type": "markdown",
   "id": "354e2e86",
   "metadata": {},
   "source": [
    "# Danial Razavi\n",
    "# Weekly Project"
   ]
  },
  {
   "cell_type": "markdown",
   "id": "b0eee68b",
   "metadata": {},
   "source": [
    "### Import libraries"
   ]
  },
  {
   "cell_type": "code",
   "execution_count": 1,
   "id": "b9da0f4a",
   "metadata": {},
   "outputs": [],
   "source": [
    "import numpy as np\n",
    "import pandas as pd\n",
    "import seaborn as sns\n",
    "import matplotlib.pyplot as plt"
   ]
  },
  {
   "cell_type": "code",
   "execution_count": 2,
   "id": "d700d308",
   "metadata": {},
   "outputs": [],
   "source": [
    "from os import listdir"
   ]
  },
  {
   "cell_type": "code",
   "execution_count": 3,
   "id": "c7bcc454",
   "metadata": {},
   "outputs": [
    {
     "name": "stdout",
     "output_type": "stream",
     "text": [
      "['.ipynb_checkpoints', 'Project Data.ipynb', 'weekly.csv']\n"
     ]
    }
   ],
   "source": [
    "files=listdir()\n",
    "print(files)"
   ]
  },
  {
   "cell_type": "markdown",
   "id": "f3b67afd",
   "metadata": {},
   "source": [
    "# Business understanding \n",
    "## (first step CRISP-DM)"
   ]
  },
  {
   "cell_type": "code",
   "execution_count": 4,
   "id": "6e730e35",
   "metadata": {
    "scrolled": true
   },
   "outputs": [
    {
     "data": {
      "text/html": [
       "<div>\n",
       "<style scoped>\n",
       "    .dataframe tbody tr th:only-of-type {\n",
       "        vertical-align: middle;\n",
       "    }\n",
       "\n",
       "    .dataframe tbody tr th {\n",
       "        vertical-align: top;\n",
       "    }\n",
       "\n",
       "    .dataframe thead th {\n",
       "        text-align: right;\n",
       "    }\n",
       "</style>\n",
       "<table border=\"1\" class=\"dataframe\">\n",
       "  <thead>\n",
       "    <tr style=\"text-align: right;\">\n",
       "      <th></th>\n",
       "      <th>Year</th>\n",
       "      <th>Lag1</th>\n",
       "      <th>Lag2</th>\n",
       "      <th>Lag3</th>\n",
       "      <th>Lag4</th>\n",
       "      <th>Lag5</th>\n",
       "      <th>Volume</th>\n",
       "      <th>Today</th>\n",
       "      <th>Direction</th>\n",
       "    </tr>\n",
       "  </thead>\n",
       "  <tbody>\n",
       "    <tr>\n",
       "      <th>0</th>\n",
       "      <td>1990</td>\n",
       "      <td>0.816</td>\n",
       "      <td>1.572</td>\n",
       "      <td>-3.936</td>\n",
       "      <td>-0.229</td>\n",
       "      <td>-3.484</td>\n",
       "      <td>0.154976</td>\n",
       "      <td>-0.270</td>\n",
       "      <td>Down</td>\n",
       "    </tr>\n",
       "    <tr>\n",
       "      <th>1</th>\n",
       "      <td>1990</td>\n",
       "      <td>-0.270</td>\n",
       "      <td>0.816</td>\n",
       "      <td>1.572</td>\n",
       "      <td>-3.936</td>\n",
       "      <td>-0.229</td>\n",
       "      <td>0.148574</td>\n",
       "      <td>-2.576</td>\n",
       "      <td>Down</td>\n",
       "    </tr>\n",
       "    <tr>\n",
       "      <th>2</th>\n",
       "      <td>1990</td>\n",
       "      <td>-2.576</td>\n",
       "      <td>-0.270</td>\n",
       "      <td>0.816</td>\n",
       "      <td>1.572</td>\n",
       "      <td>-3.936</td>\n",
       "      <td>0.159837</td>\n",
       "      <td>3.514</td>\n",
       "      <td>Up</td>\n",
       "    </tr>\n",
       "    <tr>\n",
       "      <th>3</th>\n",
       "      <td>1990</td>\n",
       "      <td>3.514</td>\n",
       "      <td>-2.576</td>\n",
       "      <td>-0.270</td>\n",
       "      <td>0.816</td>\n",
       "      <td>1.572</td>\n",
       "      <td>0.161630</td>\n",
       "      <td>0.712</td>\n",
       "      <td>Up</td>\n",
       "    </tr>\n",
       "    <tr>\n",
       "      <th>4</th>\n",
       "      <td>1990</td>\n",
       "      <td>0.712</td>\n",
       "      <td>3.514</td>\n",
       "      <td>-2.576</td>\n",
       "      <td>-0.270</td>\n",
       "      <td>0.816</td>\n",
       "      <td>0.153728</td>\n",
       "      <td>1.178</td>\n",
       "      <td>Up</td>\n",
       "    </tr>\n",
       "    <tr>\n",
       "      <th>...</th>\n",
       "      <td>...</td>\n",
       "      <td>...</td>\n",
       "      <td>...</td>\n",
       "      <td>...</td>\n",
       "      <td>...</td>\n",
       "      <td>...</td>\n",
       "      <td>...</td>\n",
       "      <td>...</td>\n",
       "      <td>...</td>\n",
       "    </tr>\n",
       "    <tr>\n",
       "      <th>1084</th>\n",
       "      <td>2010</td>\n",
       "      <td>-0.861</td>\n",
       "      <td>0.043</td>\n",
       "      <td>-2.173</td>\n",
       "      <td>3.599</td>\n",
       "      <td>0.015</td>\n",
       "      <td>3.205160</td>\n",
       "      <td>2.969</td>\n",
       "      <td>Up</td>\n",
       "    </tr>\n",
       "    <tr>\n",
       "      <th>1085</th>\n",
       "      <td>2010</td>\n",
       "      <td>2.969</td>\n",
       "      <td>-0.861</td>\n",
       "      <td>0.043</td>\n",
       "      <td>-2.173</td>\n",
       "      <td>3.599</td>\n",
       "      <td>4.242568</td>\n",
       "      <td>1.281</td>\n",
       "      <td>Up</td>\n",
       "    </tr>\n",
       "    <tr>\n",
       "      <th>1086</th>\n",
       "      <td>2010</td>\n",
       "      <td>1.281</td>\n",
       "      <td>2.969</td>\n",
       "      <td>-0.861</td>\n",
       "      <td>0.043</td>\n",
       "      <td>-2.173</td>\n",
       "      <td>4.835082</td>\n",
       "      <td>0.283</td>\n",
       "      <td>Up</td>\n",
       "    </tr>\n",
       "    <tr>\n",
       "      <th>1087</th>\n",
       "      <td>2010</td>\n",
       "      <td>0.283</td>\n",
       "      <td>1.281</td>\n",
       "      <td>2.969</td>\n",
       "      <td>-0.861</td>\n",
       "      <td>0.043</td>\n",
       "      <td>4.454044</td>\n",
       "      <td>1.034</td>\n",
       "      <td>Up</td>\n",
       "    </tr>\n",
       "    <tr>\n",
       "      <th>1088</th>\n",
       "      <td>2010</td>\n",
       "      <td>1.034</td>\n",
       "      <td>0.283</td>\n",
       "      <td>1.281</td>\n",
       "      <td>2.969</td>\n",
       "      <td>-0.861</td>\n",
       "      <td>2.707105</td>\n",
       "      <td>0.069</td>\n",
       "      <td>Up</td>\n",
       "    </tr>\n",
       "  </tbody>\n",
       "</table>\n",
       "<p>1089 rows × 9 columns</p>\n",
       "</div>"
      ],
      "text/plain": [
       "      Year   Lag1   Lag2   Lag3   Lag4   Lag5    Volume  Today Direction\n",
       "0     1990  0.816  1.572 -3.936 -0.229 -3.484  0.154976 -0.270      Down\n",
       "1     1990 -0.270  0.816  1.572 -3.936 -0.229  0.148574 -2.576      Down\n",
       "2     1990 -2.576 -0.270  0.816  1.572 -3.936  0.159837  3.514        Up\n",
       "3     1990  3.514 -2.576 -0.270  0.816  1.572  0.161630  0.712        Up\n",
       "4     1990  0.712  3.514 -2.576 -0.270  0.816  0.153728  1.178        Up\n",
       "...    ...    ...    ...    ...    ...    ...       ...    ...       ...\n",
       "1084  2010 -0.861  0.043 -2.173  3.599  0.015  3.205160  2.969        Up\n",
       "1085  2010  2.969 -0.861  0.043 -2.173  3.599  4.242568  1.281        Up\n",
       "1086  2010  1.281  2.969 -0.861  0.043 -2.173  4.835082  0.283        Up\n",
       "1087  2010  0.283  1.281  2.969 -0.861  0.043  4.454044  1.034        Up\n",
       "1088  2010  1.034  0.283  1.281  2.969 -0.861  2.707105  0.069        Up\n",
       "\n",
       "[1089 rows x 9 columns]"
      ]
     },
     "execution_count": 4,
     "metadata": {},
     "output_type": "execute_result"
    }
   ],
   "source": [
    "df=pd.read_csv('weekly.csv')\n",
    "df"
   ]
  },
  {
   "cell_type": "code",
   "execution_count": 5,
   "id": "669ba9f3",
   "metadata": {},
   "outputs": [
    {
     "data": {
      "text/plain": [
       "Index(['Year', 'Lag1', 'Lag2', 'Lag3', 'Lag4', 'Lag5', 'Volume', 'Today',\n",
       "       'Direction'],\n",
       "      dtype='object')"
      ]
     },
     "execution_count": 5,
     "metadata": {},
     "output_type": "execute_result"
    }
   ],
   "source": [
    "df.columns"
   ]
  },
  {
   "cell_type": "markdown",
   "id": "562a24b6",
   "metadata": {},
   "source": [
    "'Year': The year that the observation was recorded <br>\n",
    "'Lag1': Percentage return for previous week <br>\n",
    "'Lag2': Percentage return for 2 weeks previous <br>\n",
    "'Lag3': Percentage return for 3 weeks previous <br>\n",
    "'Lag4': Percentage return for 4 weeks previous <br>\n",
    "'Lag5': Percentage return for 5 weeks previous <br>\n",
    "'Volume': Volume of shares traded (average number of daily shares traded in billions) <br>\n",
    "'Today': Percentage return for this week <br>\n",
    "'Direction': A factor with levels Down and Up indicating whether the market had a positive or negative return on a given week <br>"
   ]
  },
  {
   "cell_type": "markdown",
   "id": "fe9a7327",
   "metadata": {},
   "source": [
    "# Data Underatanding Data Prepration \n",
    "## (second step CRISP-DM)"
   ]
  },
  {
   "cell_type": "markdown",
   "id": "fe86c1e4",
   "metadata": {},
   "source": [
    "#### Investigating missing data"
   ]
  },
  {
   "cell_type": "code",
   "execution_count": 6,
   "id": "a0b5b4db",
   "metadata": {},
   "outputs": [
    {
     "name": "stdout",
     "output_type": "stream",
     "text": [
      "<class 'pandas.core.frame.DataFrame'>\n",
      "RangeIndex: 1089 entries, 0 to 1088\n",
      "Data columns (total 9 columns):\n",
      " #   Column     Non-Null Count  Dtype  \n",
      "---  ------     --------------  -----  \n",
      " 0   Year       1089 non-null   int64  \n",
      " 1   Lag1       1089 non-null   float64\n",
      " 2   Lag2       1089 non-null   float64\n",
      " 3   Lag3       1089 non-null   float64\n",
      " 4   Lag4       1089 non-null   float64\n",
      " 5   Lag5       1089 non-null   float64\n",
      " 6   Volume     1089 non-null   float64\n",
      " 7   Today      1089 non-null   float64\n",
      " 8   Direction  1089 non-null   object \n",
      "dtypes: float64(7), int64(1), object(1)\n",
      "memory usage: 76.7+ KB\n"
     ]
    }
   ],
   "source": [
    "df.info()"
   ]
  },
  {
   "cell_type": "code",
   "execution_count": 7,
   "id": "8c4d62ed",
   "metadata": {},
   "outputs": [
    {
     "data": {
      "text/plain": [
       "Year         0\n",
       "Lag1         0\n",
       "Lag2         0\n",
       "Lag3         0\n",
       "Lag4         0\n",
       "Lag5         0\n",
       "Volume       0\n",
       "Today        0\n",
       "Direction    0\n",
       "dtype: int64"
      ]
     },
     "execution_count": 7,
     "metadata": {},
     "output_type": "execute_result"
    }
   ],
   "source": [
    "df.isna().sum()"
   ]
  },
  {
   "cell_type": "markdown",
   "id": "197e0bab",
   "metadata": {},
   "source": [
    "### result: There are no missing values in our dataset."
   ]
  },
  {
   "cell_type": "markdown",
   "id": "661012ea",
   "metadata": {},
   "source": [
    "## Visualiztion"
   ]
  },
  {
   "cell_type": "markdown",
   "id": "95eb3842",
   "metadata": {},
   "source": [
    "### UP vs. DOWN (Direction)"
   ]
  },
  {
   "cell_type": "code",
   "execution_count": 8,
   "id": "492687d5",
   "metadata": {
    "scrolled": false
   },
   "outputs": [
    {
     "data": {
      "text/plain": [
       "<AxesSubplot:xlabel='Direction', ylabel='count'>"
      ]
     },
     "execution_count": 8,
     "metadata": {},
     "output_type": "execute_result"
    },
    {
     "data": {
      "image/png": "[encoded data removed]",
      "text/plain": [
       "<Figure size 864x360 with 1 Axes>"
      ]
     },
     "metadata": {
      "needs_background": "light"
     },
     "output_type": "display_data"
    }
   ],
   "source": [
    "plt.figure(figsize=(12,5))\n",
    "sns.set_style('whitegrid')\n",
    "sns.countplot(x='Direction',data=df)"
   ]
  },
  {
   "cell_type": "markdown",
   "id": "6318f9c4",
   "metadata": {},
   "source": [
    "### Lag 1 to 5"
   ]
  },
  {
   "cell_type": "code",
   "execution_count": 9,
   "id": "954f12b0",
   "metadata": {
    "scrolled": true
   },
   "outputs": [
    {
     "data": {
      "text/plain": [
       "<AxesSubplot:>"
      ]
     },
     "execution_count": 9,
     "metadata": {},
     "output_type": "execute_result"
    },
    {
     "data": {
      "image/png": "[encoded data removed]",
      "text/plain": [
       "<Figure size 864x360 with 1 Axes>"
      ]
     },
     "metadata": {},
     "output_type": "display_data"
    }
   ],
   "source": [
    "plt.figure(figsize=(12,5))\n",
    "df['Lag1'].hist(color='red',bins=40)"
   ]
  },
  {
   "cell_type": "markdown",
   "id": "7b5bb6ce",
   "metadata": {},
   "source": [
    "### Volume"
   ]
  },
  {
   "cell_type": "code",
   "execution_count": 10,
   "id": "35970031",
   "metadata": {
    "scrolled": false
   },
   "outputs": [
    {
     "data": {
      "text/plain": [
       "<AxesSubplot:>"
      ]
     },
     "execution_count": 10,
     "metadata": {},
     "output_type": "execute_result"
    },
    {
     "data": {
      "image/png": "[encoded data removed]",
      "text/plain": [
       "<Figure size 864x360 with 1 Axes>"
      ]
     },
     "metadata": {},
     "output_type": "display_data"
    }
   ],
   "source": [
    "plt.figure(figsize=(12,5))\n",
    "df['Volume'].hist(color='Purple',bins=40)"
   ]
  },
  {
   "cell_type": "code",
   "execution_count": 11,
   "id": "fcf17279",
   "metadata": {},
   "outputs": [
    {
     "data": {
      "text/plain": [
       "<AxesSubplot:xlabel='Direction', ylabel='Volume'>"
      ]
     },
     "execution_count": 11,
     "metadata": {},
     "output_type": "execute_result"
    },
    {
     "data": {
      "image/png": "[encoded data removed]",
      "text/plain": [
       "<Figure size 432x288 with 1 Axes>"
      ]
     },
     "metadata": {},
     "output_type": "display_data"
    }
   ],
   "source": [
    "sns.boxplot(x='Direction',y='Volume',data=df)"
   ]
  },
  {
   "cell_type": "markdown",
   "id": "a8aac678",
   "metadata": {},
   "source": [
    "#### Why is the above boxplot  like this? "
   ]
  },
  {
   "cell_type": "markdown",
   "id": "755f7fdb",
   "metadata": {},
   "source": [
    "Over the years, more people have entered the stock market due to <br>\n",
    "the maturing of the stock market and the growth of the population, <br>\n",
    "and as a result, the volume of transactions increases as the years  <br>\n",
    "go by. <br>"
   ]
  },
  {
   "cell_type": "markdown",
   "id": "957c5d0f",
   "metadata": {},
   "source": [
    "### Direction beside Year"
   ]
  },
  {
   "cell_type": "code",
   "execution_count": 12,
   "id": "7b243462",
   "metadata": {
    "scrolled": true
   },
   "outputs": [
    {
     "data": {
      "text/html": [
       "<div>\n",
       "<style scoped>\n",
       "    .dataframe tbody tr th:only-of-type {\n",
       "        vertical-align: middle;\n",
       "    }\n",
       "\n",
       "    .dataframe tbody tr th {\n",
       "        vertical-align: top;\n",
       "    }\n",
       "\n",
       "    .dataframe thead th {\n",
       "        text-align: right;\n",
       "    }\n",
       "</style>\n",
       "<table border=\"1\" class=\"dataframe\">\n",
       "  <thead>\n",
       "    <tr style=\"text-align: right;\">\n",
       "      <th>Year</th>\n",
       "      <th>1990</th>\n",
       "      <th>1991</th>\n",
       "      <th>1992</th>\n",
       "      <th>1993</th>\n",
       "      <th>1994</th>\n",
       "      <th>1995</th>\n",
       "      <th>1996</th>\n",
       "      <th>1997</th>\n",
       "      <th>1998</th>\n",
       "      <th>1999</th>\n",
       "      <th>...</th>\n",
       "      <th>2001</th>\n",
       "      <th>2002</th>\n",
       "      <th>2003</th>\n",
       "      <th>2004</th>\n",
       "      <th>2005</th>\n",
       "      <th>2006</th>\n",
       "      <th>2007</th>\n",
       "      <th>2008</th>\n",
       "      <th>2009</th>\n",
       "      <th>2010</th>\n",
       "    </tr>\n",
       "    <tr>\n",
       "      <th>Direction</th>\n",
       "      <th></th>\n",
       "      <th></th>\n",
       "      <th></th>\n",
       "      <th></th>\n",
       "      <th></th>\n",
       "      <th></th>\n",
       "      <th></th>\n",
       "      <th></th>\n",
       "      <th></th>\n",
       "      <th></th>\n",
       "      <th></th>\n",
       "      <th></th>\n",
       "      <th></th>\n",
       "      <th></th>\n",
       "      <th></th>\n",
       "      <th></th>\n",
       "      <th></th>\n",
       "      <th></th>\n",
       "      <th></th>\n",
       "      <th></th>\n",
       "      <th></th>\n",
       "    </tr>\n",
       "  </thead>\n",
       "  <tbody>\n",
       "    <tr>\n",
       "      <th>Down</th>\n",
       "      <td>23</td>\n",
       "      <td>21</td>\n",
       "      <td>23</td>\n",
       "      <td>21</td>\n",
       "      <td>25</td>\n",
       "      <td>16</td>\n",
       "      <td>21</td>\n",
       "      <td>24</td>\n",
       "      <td>19</td>\n",
       "      <td>22</td>\n",
       "      <td>...</td>\n",
       "      <td>27</td>\n",
       "      <td>30</td>\n",
       "      <td>18</td>\n",
       "      <td>24</td>\n",
       "      <td>22</td>\n",
       "      <td>23</td>\n",
       "      <td>24</td>\n",
       "      <td>29</td>\n",
       "      <td>23</td>\n",
       "      <td>20</td>\n",
       "    </tr>\n",
       "    <tr>\n",
       "      <th>Up</th>\n",
       "      <td>24</td>\n",
       "      <td>31</td>\n",
       "      <td>29</td>\n",
       "      <td>31</td>\n",
       "      <td>27</td>\n",
       "      <td>36</td>\n",
       "      <td>32</td>\n",
       "      <td>28</td>\n",
       "      <td>33</td>\n",
       "      <td>30</td>\n",
       "      <td>...</td>\n",
       "      <td>25</td>\n",
       "      <td>22</td>\n",
       "      <td>34</td>\n",
       "      <td>28</td>\n",
       "      <td>30</td>\n",
       "      <td>29</td>\n",
       "      <td>29</td>\n",
       "      <td>23</td>\n",
       "      <td>29</td>\n",
       "      <td>32</td>\n",
       "    </tr>\n",
       "  </tbody>\n",
       "</table>\n",
       "<p>2 rows × 21 columns</p>\n",
       "</div>"
      ],
      "text/plain": [
       "Year       1990  1991  1992  1993  1994  1995  1996  1997  1998  1999  ...  \\\n",
       "Direction                                                              ...   \n",
       "Down         23    21    23    21    25    16    21    24    19    22  ...   \n",
       "Up           24    31    29    31    27    36    32    28    33    30  ...   \n",
       "\n",
       "Year       2001  2002  2003  2004  2005  2006  2007  2008  2009  2010  \n",
       "Direction                                                              \n",
       "Down         27    30    18    24    22    23    24    29    23    20  \n",
       "Up           25    22    34    28    30    29    29    23    29    32  \n",
       "\n",
       "[2 rows x 21 columns]"
      ]
     },
     "execution_count": 12,
     "metadata": {},
     "output_type": "execute_result"
    }
   ],
   "source": [
    "df_grouped=pd.crosstab(df['Direction'],df['Year'])\n",
    "df_grouped"
   ]
  },
  {
   "cell_type": "code",
   "execution_count": 13,
   "id": "d3077415",
   "metadata": {},
   "outputs": [
    {
     "data": {
      "text/plain": [
       "<AxesSubplot:xlabel='Year', ylabel='count'>"
      ]
     },
     "execution_count": 13,
     "metadata": {},
     "output_type": "execute_result"
    },
    {
     "data": {
      "image/png": "[encoded data removed]",
      "text/plain": [
       "<Figure size 864x360 with 1 Axes>"
      ]
     },
     "metadata": {},
     "output_type": "display_data"
    }
   ],
   "source": [
    "plt.figure(figsize=(12,5))\n",
    "sns.set_style('darkgrid')\n",
    "sns.countplot(x='Year',data=df,hue='Direction')"
   ]
  },
  {
   "cell_type": "markdown",
   "id": "96263602",
   "metadata": {},
   "source": [
    "###  Converting Categorical Features"
   ]
  },
  {
   "cell_type": "code",
   "execution_count": 14,
   "id": "04b918ce",
   "metadata": {},
   "outputs": [
    {
     "data": {
      "text/html": [
       "<div>\n",
       "<style scoped>\n",
       "    .dataframe tbody tr th:only-of-type {\n",
       "        vertical-align: middle;\n",
       "    }\n",
       "\n",
       "    .dataframe tbody tr th {\n",
       "        vertical-align: top;\n",
       "    }\n",
       "\n",
       "    .dataframe thead th {\n",
       "        text-align: right;\n",
       "    }\n",
       "</style>\n",
       "<table border=\"1\" class=\"dataframe\">\n",
       "  <thead>\n",
       "    <tr style=\"text-align: right;\">\n",
       "      <th></th>\n",
       "      <th>Up</th>\n",
       "    </tr>\n",
       "  </thead>\n",
       "  <tbody>\n",
       "    <tr>\n",
       "      <th>0</th>\n",
       "      <td>0</td>\n",
       "    </tr>\n",
       "    <tr>\n",
       "      <th>1</th>\n",
       "      <td>0</td>\n",
       "    </tr>\n",
       "    <tr>\n",
       "      <th>2</th>\n",
       "      <td>1</td>\n",
       "    </tr>\n",
       "    <tr>\n",
       "      <th>3</th>\n",
       "      <td>1</td>\n",
       "    </tr>\n",
       "    <tr>\n",
       "      <th>4</th>\n",
       "      <td>1</td>\n",
       "    </tr>\n",
       "    <tr>\n",
       "      <th>...</th>\n",
       "      <td>...</td>\n",
       "    </tr>\n",
       "    <tr>\n",
       "      <th>1084</th>\n",
       "      <td>1</td>\n",
       "    </tr>\n",
       "    <tr>\n",
       "      <th>1085</th>\n",
       "      <td>1</td>\n",
       "    </tr>\n",
       "    <tr>\n",
       "      <th>1086</th>\n",
       "      <td>1</td>\n",
       "    </tr>\n",
       "    <tr>\n",
       "      <th>1087</th>\n",
       "      <td>1</td>\n",
       "    </tr>\n",
       "    <tr>\n",
       "      <th>1088</th>\n",
       "      <td>1</td>\n",
       "    </tr>\n",
       "  </tbody>\n",
       "</table>\n",
       "<p>1089 rows × 1 columns</p>\n",
       "</div>"
      ],
      "text/plain": [
       "      Up\n",
       "0      0\n",
       "1      0\n",
       "2      1\n",
       "3      1\n",
       "4      1\n",
       "...   ..\n",
       "1084   1\n",
       "1085   1\n",
       "1086   1\n",
       "1087   1\n",
       "1088   1\n",
       "\n",
       "[1089 rows x 1 columns]"
      ]
     },
     "execution_count": 14,
     "metadata": {},
     "output_type": "execute_result"
    }
   ],
   "source": [
    "direction=pd.get_dummies(df['Direction'],drop_first=True)\n",
    "direction"
   ]
  },
  {
   "cell_type": "code",
   "execution_count": 15,
   "id": "bc287817",
   "metadata": {},
   "outputs": [
    {
     "data": {
      "text/html": [
       "<div>\n",
       "<style scoped>\n",
       "    .dataframe tbody tr th:only-of-type {\n",
       "        vertical-align: middle;\n",
       "    }\n",
       "\n",
       "    .dataframe tbody tr th {\n",
       "        vertical-align: top;\n",
       "    }\n",
       "\n",
       "    .dataframe thead th {\n",
       "        text-align: right;\n",
       "    }\n",
       "</style>\n",
       "<table border=\"1\" class=\"dataframe\">\n",
       "  <thead>\n",
       "    <tr style=\"text-align: right;\">\n",
       "      <th></th>\n",
       "      <th>Year</th>\n",
       "      <th>Lag1</th>\n",
       "      <th>Lag2</th>\n",
       "      <th>Lag3</th>\n",
       "      <th>Lag4</th>\n",
       "      <th>Lag5</th>\n",
       "      <th>Volume</th>\n",
       "      <th>Today</th>\n",
       "      <th>Direction</th>\n",
       "      <th>Up</th>\n",
       "    </tr>\n",
       "  </thead>\n",
       "  <tbody>\n",
       "    <tr>\n",
       "      <th>0</th>\n",
       "      <td>1990</td>\n",
       "      <td>0.816</td>\n",
       "      <td>1.572</td>\n",
       "      <td>-3.936</td>\n",
       "      <td>-0.229</td>\n",
       "      <td>-3.484</td>\n",
       "      <td>0.154976</td>\n",
       "      <td>-0.270</td>\n",
       "      <td>Down</td>\n",
       "      <td>0</td>\n",
       "    </tr>\n",
       "    <tr>\n",
       "      <th>1</th>\n",
       "      <td>1990</td>\n",
       "      <td>-0.270</td>\n",
       "      <td>0.816</td>\n",
       "      <td>1.572</td>\n",
       "      <td>-3.936</td>\n",
       "      <td>-0.229</td>\n",
       "      <td>0.148574</td>\n",
       "      <td>-2.576</td>\n",
       "      <td>Down</td>\n",
       "      <td>0</td>\n",
       "    </tr>\n",
       "    <tr>\n",
       "      <th>2</th>\n",
       "      <td>1990</td>\n",
       "      <td>-2.576</td>\n",
       "      <td>-0.270</td>\n",
       "      <td>0.816</td>\n",
       "      <td>1.572</td>\n",
       "      <td>-3.936</td>\n",
       "      <td>0.159837</td>\n",
       "      <td>3.514</td>\n",
       "      <td>Up</td>\n",
       "      <td>1</td>\n",
       "    </tr>\n",
       "    <tr>\n",
       "      <th>3</th>\n",
       "      <td>1990</td>\n",
       "      <td>3.514</td>\n",
       "      <td>-2.576</td>\n",
       "      <td>-0.270</td>\n",
       "      <td>0.816</td>\n",
       "      <td>1.572</td>\n",
       "      <td>0.161630</td>\n",
       "      <td>0.712</td>\n",
       "      <td>Up</td>\n",
       "      <td>1</td>\n",
       "    </tr>\n",
       "    <tr>\n",
       "      <th>4</th>\n",
       "      <td>1990</td>\n",
       "      <td>0.712</td>\n",
       "      <td>3.514</td>\n",
       "      <td>-2.576</td>\n",
       "      <td>-0.270</td>\n",
       "      <td>0.816</td>\n",
       "      <td>0.153728</td>\n",
       "      <td>1.178</td>\n",
       "      <td>Up</td>\n",
       "      <td>1</td>\n",
       "    </tr>\n",
       "  </tbody>\n",
       "</table>\n",
       "</div>"
      ],
      "text/plain": [
       "   Year   Lag1   Lag2   Lag3   Lag4   Lag5    Volume  Today Direction  Up\n",
       "0  1990  0.816  1.572 -3.936 -0.229 -3.484  0.154976 -0.270      Down   0\n",
       "1  1990 -0.270  0.816  1.572 -3.936 -0.229  0.148574 -2.576      Down   0\n",
       "2  1990 -2.576 -0.270  0.816  1.572 -3.936  0.159837  3.514        Up   1\n",
       "3  1990  3.514 -2.576 -0.270  0.816  1.572  0.161630  0.712        Up   1\n",
       "4  1990  0.712  3.514 -2.576 -0.270  0.816  0.153728  1.178        Up   1"
      ]
     },
     "execution_count": 15,
     "metadata": {},
     "output_type": "execute_result"
    }
   ],
   "source": [
    "df=pd.concat([df,direction],axis=1)\n",
    "df.head()"
   ]
  },
  {
   "cell_type": "markdown",
   "id": "a8dbe138",
   "metadata": {},
   "source": [
    "# Train Test Split"
   ]
  },
  {
   "cell_type": "code",
   "execution_count": 16,
   "id": "8928f370",
   "metadata": {},
   "outputs": [
    {
     "data": {
      "text/plain": [
       "Year         0\n",
       "Lag1         0\n",
       "Lag2         0\n",
       "Lag3         0\n",
       "Lag4         0\n",
       "Lag5         0\n",
       "Volume       0\n",
       "Today        0\n",
       "Direction    0\n",
       "Up           0\n",
       "dtype: int64"
      ]
     },
     "execution_count": 16,
     "metadata": {},
     "output_type": "execute_result"
    }
   ],
   "source": [
    "df.isna().sum()"
   ]
  },
  {
   "cell_type": "code",
   "execution_count": 17,
   "id": "de4b724c",
   "metadata": {},
   "outputs": [
    {
     "data": {
      "text/plain": [
       "Index(['Year', 'Lag1', 'Lag2', 'Lag3', 'Lag4', 'Lag5', 'Volume', 'Today',\n",
       "       'Direction', 'Up'],\n",
       "      dtype='object')"
      ]
     },
     "execution_count": 17,
     "metadata": {},
     "output_type": "execute_result"
    }
   ],
   "source": [
    "df.columns"
   ]
  },
  {
   "cell_type": "code",
   "execution_count": 18,
   "id": "dcccee5f",
   "metadata": {},
   "outputs": [
    {
     "data": {
      "text/html": [
       "<div>\n",
       "<style scoped>\n",
       "    .dataframe tbody tr th:only-of-type {\n",
       "        vertical-align: middle;\n",
       "    }\n",
       "\n",
       "    .dataframe tbody tr th {\n",
       "        vertical-align: top;\n",
       "    }\n",
       "\n",
       "    .dataframe thead th {\n",
       "        text-align: right;\n",
       "    }\n",
       "</style>\n",
       "<table border=\"1\" class=\"dataframe\">\n",
       "  <thead>\n",
       "    <tr style=\"text-align: right;\">\n",
       "      <th></th>\n",
       "      <th>Lag1</th>\n",
       "      <th>Lag2</th>\n",
       "      <th>Lag3</th>\n",
       "      <th>Lag4</th>\n",
       "      <th>Lag5</th>\n",
       "      <th>Volume</th>\n",
       "    </tr>\n",
       "  </thead>\n",
       "  <tbody>\n",
       "    <tr>\n",
       "      <th>0</th>\n",
       "      <td>0.816</td>\n",
       "      <td>1.572</td>\n",
       "      <td>-3.936</td>\n",
       "      <td>-0.229</td>\n",
       "      <td>-3.484</td>\n",
       "      <td>0.154976</td>\n",
       "    </tr>\n",
       "    <tr>\n",
       "      <th>1</th>\n",
       "      <td>-0.270</td>\n",
       "      <td>0.816</td>\n",
       "      <td>1.572</td>\n",
       "      <td>-3.936</td>\n",
       "      <td>-0.229</td>\n",
       "      <td>0.148574</td>\n",
       "    </tr>\n",
       "    <tr>\n",
       "      <th>2</th>\n",
       "      <td>-2.576</td>\n",
       "      <td>-0.270</td>\n",
       "      <td>0.816</td>\n",
       "      <td>1.572</td>\n",
       "      <td>-3.936</td>\n",
       "      <td>0.159837</td>\n",
       "    </tr>\n",
       "    <tr>\n",
       "      <th>3</th>\n",
       "      <td>3.514</td>\n",
       "      <td>-2.576</td>\n",
       "      <td>-0.270</td>\n",
       "      <td>0.816</td>\n",
       "      <td>1.572</td>\n",
       "      <td>0.161630</td>\n",
       "    </tr>\n",
       "    <tr>\n",
       "      <th>4</th>\n",
       "      <td>0.712</td>\n",
       "      <td>3.514</td>\n",
       "      <td>-2.576</td>\n",
       "      <td>-0.270</td>\n",
       "      <td>0.816</td>\n",
       "      <td>0.153728</td>\n",
       "    </tr>\n",
       "    <tr>\n",
       "      <th>...</th>\n",
       "      <td>...</td>\n",
       "      <td>...</td>\n",
       "      <td>...</td>\n",
       "      <td>...</td>\n",
       "      <td>...</td>\n",
       "      <td>...</td>\n",
       "    </tr>\n",
       "    <tr>\n",
       "      <th>1084</th>\n",
       "      <td>-0.861</td>\n",
       "      <td>0.043</td>\n",
       "      <td>-2.173</td>\n",
       "      <td>3.599</td>\n",
       "      <td>0.015</td>\n",
       "      <td>3.205160</td>\n",
       "    </tr>\n",
       "    <tr>\n",
       "      <th>1085</th>\n",
       "      <td>2.969</td>\n",
       "      <td>-0.861</td>\n",
       "      <td>0.043</td>\n",
       "      <td>-2.173</td>\n",
       "      <td>3.599</td>\n",
       "      <td>4.242568</td>\n",
       "    </tr>\n",
       "    <tr>\n",
       "      <th>1086</th>\n",
       "      <td>1.281</td>\n",
       "      <td>2.969</td>\n",
       "      <td>-0.861</td>\n",
       "      <td>0.043</td>\n",
       "      <td>-2.173</td>\n",
       "      <td>4.835082</td>\n",
       "    </tr>\n",
       "    <tr>\n",
       "      <th>1087</th>\n",
       "      <td>0.283</td>\n",
       "      <td>1.281</td>\n",
       "      <td>2.969</td>\n",
       "      <td>-0.861</td>\n",
       "      <td>0.043</td>\n",
       "      <td>4.454044</td>\n",
       "    </tr>\n",
       "    <tr>\n",
       "      <th>1088</th>\n",
       "      <td>1.034</td>\n",
       "      <td>0.283</td>\n",
       "      <td>1.281</td>\n",
       "      <td>2.969</td>\n",
       "      <td>-0.861</td>\n",
       "      <td>2.707105</td>\n",
       "    </tr>\n",
       "  </tbody>\n",
       "</table>\n",
       "<p>1089 rows × 6 columns</p>\n",
       "</div>"
      ],
      "text/plain": [
       "       Lag1   Lag2   Lag3   Lag4   Lag5    Volume\n",
       "0     0.816  1.572 -3.936 -0.229 -3.484  0.154976\n",
       "1    -0.270  0.816  1.572 -3.936 -0.229  0.148574\n",
       "2    -2.576 -0.270  0.816  1.572 -3.936  0.159837\n",
       "3     3.514 -2.576 -0.270  0.816  1.572  0.161630\n",
       "4     0.712  3.514 -2.576 -0.270  0.816  0.153728\n",
       "...     ...    ...    ...    ...    ...       ...\n",
       "1084 -0.861  0.043 -2.173  3.599  0.015  3.205160\n",
       "1085  2.969 -0.861  0.043 -2.173  3.599  4.242568\n",
       "1086  1.281  2.969 -0.861  0.043 -2.173  4.835082\n",
       "1087  0.283  1.281  2.969 -0.861  0.043  4.454044\n",
       "1088  1.034  0.283  1.281  2.969 -0.861  2.707105\n",
       "\n",
       "[1089 rows x 6 columns]"
      ]
     },
     "execution_count": 18,
     "metadata": {},
     "output_type": "execute_result"
    }
   ],
   "source": [
    "X=df[['Lag1', 'Lag2', 'Lag3', 'Lag4', 'Lag5', 'Volume']]\n",
    "X"
   ]
  },
  {
   "cell_type": "code",
   "execution_count": 19,
   "id": "b88f721a",
   "metadata": {},
   "outputs": [
    {
     "data": {
      "text/plain": [
       "0       0\n",
       "1       0\n",
       "2       1\n",
       "3       1\n",
       "4       1\n",
       "       ..\n",
       "1084    1\n",
       "1085    1\n",
       "1086    1\n",
       "1087    1\n",
       "1088    1\n",
       "Name: Up, Length: 1089, dtype: uint8"
      ]
     },
     "execution_count": 19,
     "metadata": {},
     "output_type": "execute_result"
    }
   ],
   "source": [
    "y=df['Up']\n",
    "y"
   ]
  },
  {
   "cell_type": "code",
   "execution_count": 20,
   "id": "d941c707",
   "metadata": {},
   "outputs": [
    {
     "data": {
      "text/plain": [
       "array([[ 0.28244262],\n",
       "       [-0.17852183],\n",
       "       [-1.15732846],\n",
       "       ...,\n",
       "       [ 0.4798169 ],\n",
       "       [ 0.056205  ],\n",
       "       [ 0.37497508]])"
      ]
     },
     "execution_count": 20,
     "metadata": {},
     "output_type": "execute_result"
    }
   ],
   "source": [
    "from sklearn.preprocessing import StandardScaler\n",
    "scaled_data1=StandardScaler().fit_transform(X[['Lag1']])\n",
    "scaled_data1"
   ]
  },
  {
   "cell_type": "code",
   "execution_count": 21,
   "id": "b7883b78",
   "metadata": {},
   "outputs": [
    {
     "data": {
      "text/html": [
       "<div>\n",
       "<style scoped>\n",
       "    .dataframe tbody tr th:only-of-type {\n",
       "        vertical-align: middle;\n",
       "    }\n",
       "\n",
       "    .dataframe tbody tr th {\n",
       "        vertical-align: top;\n",
       "    }\n",
       "\n",
       "    .dataframe thead th {\n",
       "        text-align: right;\n",
       "    }\n",
       "</style>\n",
       "<table border=\"1\" class=\"dataframe\">\n",
       "  <thead>\n",
       "    <tr style=\"text-align: right;\">\n",
       "      <th></th>\n",
       "      <th>Lag1</th>\n",
       "      <th>Lag2</th>\n",
       "      <th>Lag3</th>\n",
       "      <th>Lag4</th>\n",
       "      <th>Lag5</th>\n",
       "      <th>Volume</th>\n",
       "    </tr>\n",
       "  </thead>\n",
       "  <tbody>\n",
       "    <tr>\n",
       "      <th>0</th>\n",
       "      <td>0.282443</td>\n",
       "      <td>1.572</td>\n",
       "      <td>-3.936</td>\n",
       "      <td>-0.229</td>\n",
       "      <td>-3.484</td>\n",
       "      <td>0.154976</td>\n",
       "    </tr>\n",
       "    <tr>\n",
       "      <th>1</th>\n",
       "      <td>-0.178522</td>\n",
       "      <td>0.816</td>\n",
       "      <td>1.572</td>\n",
       "      <td>-3.936</td>\n",
       "      <td>-0.229</td>\n",
       "      <td>0.148574</td>\n",
       "    </tr>\n",
       "    <tr>\n",
       "      <th>2</th>\n",
       "      <td>-1.157328</td>\n",
       "      <td>-0.270</td>\n",
       "      <td>0.816</td>\n",
       "      <td>1.572</td>\n",
       "      <td>-3.936</td>\n",
       "      <td>0.159837</td>\n",
       "    </tr>\n",
       "    <tr>\n",
       "      <th>3</th>\n",
       "      <td>1.427638</td>\n",
       "      <td>-2.576</td>\n",
       "      <td>-0.270</td>\n",
       "      <td>0.816</td>\n",
       "      <td>1.572</td>\n",
       "      <td>0.161630</td>\n",
       "    </tr>\n",
       "    <tr>\n",
       "      <th>4</th>\n",
       "      <td>0.238299</td>\n",
       "      <td>3.514</td>\n",
       "      <td>-2.576</td>\n",
       "      <td>-0.270</td>\n",
       "      <td>0.816</td>\n",
       "      <td>0.153728</td>\n",
       "    </tr>\n",
       "    <tr>\n",
       "      <th>...</th>\n",
       "      <td>...</td>\n",
       "      <td>...</td>\n",
       "      <td>...</td>\n",
       "      <td>...</td>\n",
       "      <td>...</td>\n",
       "      <td>...</td>\n",
       "    </tr>\n",
       "    <tr>\n",
       "      <th>1084</th>\n",
       "      <td>-0.429378</td>\n",
       "      <td>0.043</td>\n",
       "      <td>-2.173</td>\n",
       "      <td>3.599</td>\n",
       "      <td>0.015</td>\n",
       "      <td>3.205160</td>\n",
       "    </tr>\n",
       "    <tr>\n",
       "      <th>1085</th>\n",
       "      <td>1.196307</td>\n",
       "      <td>-0.861</td>\n",
       "      <td>0.043</td>\n",
       "      <td>-2.173</td>\n",
       "      <td>3.599</td>\n",
       "      <td>4.242568</td>\n",
       "    </tr>\n",
       "    <tr>\n",
       "      <th>1086</th>\n",
       "      <td>0.479817</td>\n",
       "      <td>2.969</td>\n",
       "      <td>-0.861</td>\n",
       "      <td>0.043</td>\n",
       "      <td>-2.173</td>\n",
       "      <td>4.835082</td>\n",
       "    </tr>\n",
       "    <tr>\n",
       "      <th>1087</th>\n",
       "      <td>0.056205</td>\n",
       "      <td>1.281</td>\n",
       "      <td>2.969</td>\n",
       "      <td>-0.861</td>\n",
       "      <td>0.043</td>\n",
       "      <td>4.454044</td>\n",
       "    </tr>\n",
       "    <tr>\n",
       "      <th>1088</th>\n",
       "      <td>0.374975</td>\n",
       "      <td>0.283</td>\n",
       "      <td>1.281</td>\n",
       "      <td>2.969</td>\n",
       "      <td>-0.861</td>\n",
       "      <td>2.707105</td>\n",
       "    </tr>\n",
       "  </tbody>\n",
       "</table>\n",
       "<p>1089 rows × 6 columns</p>\n",
       "</div>"
      ],
      "text/plain": [
       "          Lag1   Lag2   Lag3   Lag4   Lag5    Volume\n",
       "0     0.282443  1.572 -3.936 -0.229 -3.484  0.154976\n",
       "1    -0.178522  0.816  1.572 -3.936 -0.229  0.148574\n",
       "2    -1.157328 -0.270  0.816  1.572 -3.936  0.159837\n",
       "3     1.427638 -2.576 -0.270  0.816  1.572  0.161630\n",
       "4     0.238299  3.514 -2.576 -0.270  0.816  0.153728\n",
       "...        ...    ...    ...    ...    ...       ...\n",
       "1084 -0.429378  0.043 -2.173  3.599  0.015  3.205160\n",
       "1085  1.196307 -0.861  0.043 -2.173  3.599  4.242568\n",
       "1086  0.479817  2.969 -0.861  0.043 -2.173  4.835082\n",
       "1087  0.056205  1.281  2.969 -0.861  0.043  4.454044\n",
       "1088  0.374975  0.283  1.281  2.969 -0.861  2.707105\n",
       "\n",
       "[1089 rows x 6 columns]"
      ]
     },
     "execution_count": 21,
     "metadata": {},
     "output_type": "execute_result"
    }
   ],
   "source": [
    "X=X.copy(deep = True)\n",
    "X['Lag1']=scaled_data1\n",
    "X"
   ]
  },
  {
   "cell_type": "code",
   "execution_count": 22,
   "id": "aad5b20d",
   "metadata": {},
   "outputs": [
    {
     "data": {
      "text/plain": [
       "array([[ 0.60306345],\n",
       "       [ 0.28220398],\n",
       "       [-0.1787132 ],\n",
       "       ...,\n",
       "       [ 1.19597441],\n",
       "       [ 0.47955802],\n",
       "       [ 0.05598957]])"
      ]
     },
     "execution_count": 22,
     "metadata": {},
     "output_type": "execute_result"
    }
   ],
   "source": [
    "from sklearn.preprocessing import StandardScaler\n",
    "scaled_data2=StandardScaler().fit_transform(X[['Lag2']])\n",
    "scaled_data2"
   ]
  },
  {
   "cell_type": "code",
   "execution_count": 23,
   "id": "e0440cbd",
   "metadata": {},
   "outputs": [
    {
     "data": {
      "text/html": [
       "<div>\n",
       "<style scoped>\n",
       "    .dataframe tbody tr th:only-of-type {\n",
       "        vertical-align: middle;\n",
       "    }\n",
       "\n",
       "    .dataframe tbody tr th {\n",
       "        vertical-align: top;\n",
       "    }\n",
       "\n",
       "    .dataframe thead th {\n",
       "        text-align: right;\n",
       "    }\n",
       "</style>\n",
       "<table border=\"1\" class=\"dataframe\">\n",
       "  <thead>\n",
       "    <tr style=\"text-align: right;\">\n",
       "      <th></th>\n",
       "      <th>Lag1</th>\n",
       "      <th>Lag2</th>\n",
       "      <th>Lag3</th>\n",
       "      <th>Lag4</th>\n",
       "      <th>Lag5</th>\n",
       "      <th>Volume</th>\n",
       "    </tr>\n",
       "  </thead>\n",
       "  <tbody>\n",
       "    <tr>\n",
       "      <th>0</th>\n",
       "      <td>0.282443</td>\n",
       "      <td>0.603063</td>\n",
       "      <td>-3.936</td>\n",
       "      <td>-0.229</td>\n",
       "      <td>-3.484</td>\n",
       "      <td>0.154976</td>\n",
       "    </tr>\n",
       "    <tr>\n",
       "      <th>1</th>\n",
       "      <td>-0.178522</td>\n",
       "      <td>0.282204</td>\n",
       "      <td>1.572</td>\n",
       "      <td>-3.936</td>\n",
       "      <td>-0.229</td>\n",
       "      <td>0.148574</td>\n",
       "    </tr>\n",
       "    <tr>\n",
       "      <th>2</th>\n",
       "      <td>-1.157328</td>\n",
       "      <td>-0.178713</td>\n",
       "      <td>0.816</td>\n",
       "      <td>1.572</td>\n",
       "      <td>-3.936</td>\n",
       "      <td>0.159837</td>\n",
       "    </tr>\n",
       "    <tr>\n",
       "      <th>3</th>\n",
       "      <td>1.427638</td>\n",
       "      <td>-1.157419</td>\n",
       "      <td>-0.270</td>\n",
       "      <td>0.816</td>\n",
       "      <td>1.572</td>\n",
       "      <td>0.161630</td>\n",
       "    </tr>\n",
       "    <tr>\n",
       "      <th>4</th>\n",
       "      <td>0.238299</td>\n",
       "      <td>1.427282</td>\n",
       "      <td>-2.576</td>\n",
       "      <td>-0.270</td>\n",
       "      <td>0.816</td>\n",
       "      <td>0.153728</td>\n",
       "    </tr>\n",
       "    <tr>\n",
       "      <th>...</th>\n",
       "      <td>...</td>\n",
       "      <td>...</td>\n",
       "      <td>...</td>\n",
       "      <td>...</td>\n",
       "      <td>...</td>\n",
       "      <td>...</td>\n",
       "    </tr>\n",
       "    <tr>\n",
       "      <th>1084</th>\n",
       "      <td>-0.429378</td>\n",
       "      <td>-0.045871</td>\n",
       "      <td>-2.173</td>\n",
       "      <td>3.599</td>\n",
       "      <td>0.015</td>\n",
       "      <td>3.205160</td>\n",
       "    </tr>\n",
       "    <tr>\n",
       "      <th>1085</th>\n",
       "      <td>1.196307</td>\n",
       "      <td>-0.429544</td>\n",
       "      <td>0.043</td>\n",
       "      <td>-2.173</td>\n",
       "      <td>3.599</td>\n",
       "      <td>4.242568</td>\n",
       "    </tr>\n",
       "    <tr>\n",
       "      <th>1086</th>\n",
       "      <td>0.479817</td>\n",
       "      <td>1.195974</td>\n",
       "      <td>-0.861</td>\n",
       "      <td>0.043</td>\n",
       "      <td>-2.173</td>\n",
       "      <td>4.835082</td>\n",
       "    </tr>\n",
       "    <tr>\n",
       "      <th>1087</th>\n",
       "      <td>0.056205</td>\n",
       "      <td>0.479558</td>\n",
       "      <td>2.969</td>\n",
       "      <td>-0.861</td>\n",
       "      <td>0.043</td>\n",
       "      <td>4.454044</td>\n",
       "    </tr>\n",
       "    <tr>\n",
       "      <th>1088</th>\n",
       "      <td>0.374975</td>\n",
       "      <td>0.055990</td>\n",
       "      <td>1.281</td>\n",
       "      <td>2.969</td>\n",
       "      <td>-0.861</td>\n",
       "      <td>2.707105</td>\n",
       "    </tr>\n",
       "  </tbody>\n",
       "</table>\n",
       "<p>1089 rows × 6 columns</p>\n",
       "</div>"
      ],
      "text/plain": [
       "          Lag1      Lag2   Lag3   Lag4   Lag5    Volume\n",
       "0     0.282443  0.603063 -3.936 -0.229 -3.484  0.154976\n",
       "1    -0.178522  0.282204  1.572 -3.936 -0.229  0.148574\n",
       "2    -1.157328 -0.178713  0.816  1.572 -3.936  0.159837\n",
       "3     1.427638 -1.157419 -0.270  0.816  1.572  0.161630\n",
       "4     0.238299  1.427282 -2.576 -0.270  0.816  0.153728\n",
       "...        ...       ...    ...    ...    ...       ...\n",
       "1084 -0.429378 -0.045871 -2.173  3.599  0.015  3.205160\n",
       "1085  1.196307 -0.429544  0.043 -2.173  3.599  4.242568\n",
       "1086  0.479817  1.195974 -0.861  0.043 -2.173  4.835082\n",
       "1087  0.056205  0.479558  2.969 -0.861  0.043  4.454044\n",
       "1088  0.374975  0.055990  1.281  2.969 -0.861  2.707105\n",
       "\n",
       "[1089 rows x 6 columns]"
      ]
     },
     "execution_count": 23,
     "metadata": {},
     "output_type": "execute_result"
    }
   ],
   "source": [
    "X=X.copy(deep = True)\n",
    "X['Lag2']=scaled_data2\n",
    "X"
   ]
  },
  {
   "cell_type": "code",
   "execution_count": 24,
   "id": "ba553eb4",
   "metadata": {},
   "outputs": [
    {
     "data": {
      "text/plain": [
       "array([[-1.73059834],\n",
       "       [ 0.60387573],\n",
       "       [ 0.28345772],\n",
       "       ...,\n",
       "       [-0.4273108 ],\n",
       "       [ 1.19597091],\n",
       "       [ 0.48054022]])"
      ]
     },
     "execution_count": 24,
     "metadata": {},
     "output_type": "execute_result"
    }
   ],
   "source": [
    "from sklearn.preprocessing import StandardScaler\n",
    "scaled_data3=StandardScaler().fit_transform(X[['Lag3']])\n",
    "scaled_data3"
   ]
  },
  {
   "cell_type": "code",
   "execution_count": 25,
   "id": "fe532403",
   "metadata": {},
   "outputs": [
    {
     "data": {
      "text/html": [
       "<div>\n",
       "<style scoped>\n",
       "    .dataframe tbody tr th:only-of-type {\n",
       "        vertical-align: middle;\n",
       "    }\n",
       "\n",
       "    .dataframe tbody tr th {\n",
       "        vertical-align: top;\n",
       "    }\n",
       "\n",
       "    .dataframe thead th {\n",
       "        text-align: right;\n",
       "    }\n",
       "</style>\n",
       "<table border=\"1\" class=\"dataframe\">\n",
       "  <thead>\n",
       "    <tr style=\"text-align: right;\">\n",
       "      <th></th>\n",
       "      <th>Lag1</th>\n",
       "      <th>Lag2</th>\n",
       "      <th>Lag3</th>\n",
       "      <th>Lag4</th>\n",
       "      <th>Lag5</th>\n",
       "      <th>Volume</th>\n",
       "    </tr>\n",
       "  </thead>\n",
       "  <tbody>\n",
       "    <tr>\n",
       "      <th>0</th>\n",
       "      <td>0.282443</td>\n",
       "      <td>0.603063</td>\n",
       "      <td>-1.730598</td>\n",
       "      <td>-0.229</td>\n",
       "      <td>-3.484</td>\n",
       "      <td>0.154976</td>\n",
       "    </tr>\n",
       "    <tr>\n",
       "      <th>1</th>\n",
       "      <td>-0.178522</td>\n",
       "      <td>0.282204</td>\n",
       "      <td>0.603876</td>\n",
       "      <td>-3.936</td>\n",
       "      <td>-0.229</td>\n",
       "      <td>0.148574</td>\n",
       "    </tr>\n",
       "    <tr>\n",
       "      <th>2</th>\n",
       "      <td>-1.157328</td>\n",
       "      <td>-0.178713</td>\n",
       "      <td>0.283458</td>\n",
       "      <td>1.572</td>\n",
       "      <td>-3.936</td>\n",
       "      <td>0.159837</td>\n",
       "    </tr>\n",
       "    <tr>\n",
       "      <th>3</th>\n",
       "      <td>1.427638</td>\n",
       "      <td>-1.157419</td>\n",
       "      <td>-0.176825</td>\n",
       "      <td>0.816</td>\n",
       "      <td>1.572</td>\n",
       "      <td>0.161630</td>\n",
       "    </tr>\n",
       "    <tr>\n",
       "      <th>4</th>\n",
       "      <td>0.238299</td>\n",
       "      <td>1.427282</td>\n",
       "      <td>-1.154185</td>\n",
       "      <td>-0.270</td>\n",
       "      <td>0.816</td>\n",
       "      <td>0.153728</td>\n",
       "    </tr>\n",
       "    <tr>\n",
       "      <th>...</th>\n",
       "      <td>...</td>\n",
       "      <td>...</td>\n",
       "      <td>...</td>\n",
       "      <td>...</td>\n",
       "      <td>...</td>\n",
       "      <td>...</td>\n",
       "    </tr>\n",
       "    <tr>\n",
       "      <th>1084</th>\n",
       "      <td>-0.429378</td>\n",
       "      <td>-0.045871</td>\n",
       "      <td>-0.983380</td>\n",
       "      <td>3.599</td>\n",
       "      <td>0.015</td>\n",
       "      <td>3.205160</td>\n",
       "    </tr>\n",
       "    <tr>\n",
       "      <th>1085</th>\n",
       "      <td>1.196307</td>\n",
       "      <td>-0.429544</td>\n",
       "      <td>-0.044165</td>\n",
       "      <td>-2.173</td>\n",
       "      <td>3.599</td>\n",
       "      <td>4.242568</td>\n",
       "    </tr>\n",
       "    <tr>\n",
       "      <th>1086</th>\n",
       "      <td>0.479817</td>\n",
       "      <td>1.195974</td>\n",
       "      <td>-0.427311</td>\n",
       "      <td>0.043</td>\n",
       "      <td>-2.173</td>\n",
       "      <td>4.835082</td>\n",
       "    </tr>\n",
       "    <tr>\n",
       "      <th>1087</th>\n",
       "      <td>0.056205</td>\n",
       "      <td>0.479558</td>\n",
       "      <td>1.195971</td>\n",
       "      <td>-0.861</td>\n",
       "      <td>0.043</td>\n",
       "      <td>4.454044</td>\n",
       "    </tr>\n",
       "    <tr>\n",
       "      <th>1088</th>\n",
       "      <td>0.374975</td>\n",
       "      <td>0.055990</td>\n",
       "      <td>0.480540</td>\n",
       "      <td>2.969</td>\n",
       "      <td>-0.861</td>\n",
       "      <td>2.707105</td>\n",
       "    </tr>\n",
       "  </tbody>\n",
       "</table>\n",
       "<p>1089 rows × 6 columns</p>\n",
       "</div>"
      ],
      "text/plain": [
       "          Lag1      Lag2      Lag3   Lag4   Lag5    Volume\n",
       "0     0.282443  0.603063 -1.730598 -0.229 -3.484  0.154976\n",
       "1    -0.178522  0.282204  0.603876 -3.936 -0.229  0.148574\n",
       "2    -1.157328 -0.178713  0.283458  1.572 -3.936  0.159837\n",
       "3     1.427638 -1.157419 -0.176825  0.816  1.572  0.161630\n",
       "4     0.238299  1.427282 -1.154185 -0.270  0.816  0.153728\n",
       "...        ...       ...       ...    ...    ...       ...\n",
       "1084 -0.429378 -0.045871 -0.983380  3.599  0.015  3.205160\n",
       "1085  1.196307 -0.429544 -0.044165 -2.173  3.599  4.242568\n",
       "1086  0.479817  1.195974 -0.427311  0.043 -2.173  4.835082\n",
       "1087  0.056205  0.479558  1.195971 -0.861  0.043  4.454044\n",
       "1088  0.374975  0.055990  0.480540  2.969 -0.861  2.707105\n",
       "\n",
       "[1089 rows x 6 columns]"
      ]
     },
     "execution_count": 25,
     "metadata": {},
     "output_type": "execute_result"
    }
   ],
   "source": [
    "X=X.copy(deep = True)\n",
    "X['Lag3']=scaled_data3\n",
    "X"
   ]
  },
  {
   "cell_type": "code",
   "execution_count": 26,
   "id": "78d5159f",
   "metadata": {},
   "outputs": [
    {
     "data": {
      "text/plain": [
       "array([[-0.15887546],\n",
       "       [-1.73017421],\n",
       "       [ 0.60452056],\n",
       "       ...,\n",
       "       [-0.04358189],\n",
       "       [-0.42676346],\n",
       "       [ 1.19667171]])"
      ]
     },
     "execution_count": 26,
     "metadata": {},
     "output_type": "execute_result"
    }
   ],
   "source": [
    "from sklearn.preprocessing import StandardScaler\n",
    "scaled_data4=StandardScaler().fit_transform(X[['Lag4']])\n",
    "scaled_data4"
   ]
  },
  {
   "cell_type": "code",
   "execution_count": 27,
   "id": "3e4d7eda",
   "metadata": {},
   "outputs": [
    {
     "data": {
      "text/html": [
       "<div>\n",
       "<style scoped>\n",
       "    .dataframe tbody tr th:only-of-type {\n",
       "        vertical-align: middle;\n",
       "    }\n",
       "\n",
       "    .dataframe tbody tr th {\n",
       "        vertical-align: top;\n",
       "    }\n",
       "\n",
       "    .dataframe thead th {\n",
       "        text-align: right;\n",
       "    }\n",
       "</style>\n",
       "<table border=\"1\" class=\"dataframe\">\n",
       "  <thead>\n",
       "    <tr style=\"text-align: right;\">\n",
       "      <th></th>\n",
       "      <th>Lag1</th>\n",
       "      <th>Lag2</th>\n",
       "      <th>Lag3</th>\n",
       "      <th>Lag4</th>\n",
       "      <th>Lag5</th>\n",
       "      <th>Volume</th>\n",
       "    </tr>\n",
       "  </thead>\n",
       "  <tbody>\n",
       "    <tr>\n",
       "      <th>0</th>\n",
       "      <td>0.282443</td>\n",
       "      <td>0.603063</td>\n",
       "      <td>-1.730598</td>\n",
       "      <td>-0.158875</td>\n",
       "      <td>-3.484</td>\n",
       "      <td>0.154976</td>\n",
       "    </tr>\n",
       "    <tr>\n",
       "      <th>1</th>\n",
       "      <td>-0.178522</td>\n",
       "      <td>0.282204</td>\n",
       "      <td>0.603876</td>\n",
       "      <td>-1.730174</td>\n",
       "      <td>-0.229</td>\n",
       "      <td>0.148574</td>\n",
       "    </tr>\n",
       "    <tr>\n",
       "      <th>2</th>\n",
       "      <td>-1.157328</td>\n",
       "      <td>-0.178713</td>\n",
       "      <td>0.283458</td>\n",
       "      <td>0.604521</td>\n",
       "      <td>-3.936</td>\n",
       "      <td>0.159837</td>\n",
       "    </tr>\n",
       "    <tr>\n",
       "      <th>3</th>\n",
       "      <td>1.427638</td>\n",
       "      <td>-1.157419</td>\n",
       "      <td>-0.176825</td>\n",
       "      <td>0.284072</td>\n",
       "      <td>1.572</td>\n",
       "      <td>0.161630</td>\n",
       "    </tr>\n",
       "    <tr>\n",
       "      <th>4</th>\n",
       "      <td>0.238299</td>\n",
       "      <td>1.427282</td>\n",
       "      <td>-1.154185</td>\n",
       "      <td>-0.176254</td>\n",
       "      <td>0.816</td>\n",
       "      <td>0.153728</td>\n",
       "    </tr>\n",
       "    <tr>\n",
       "      <th>...</th>\n",
       "      <td>...</td>\n",
       "      <td>...</td>\n",
       "      <td>...</td>\n",
       "      <td>...</td>\n",
       "      <td>...</td>\n",
       "      <td>...</td>\n",
       "    </tr>\n",
       "    <tr>\n",
       "      <th>1084</th>\n",
       "      <td>-0.429378</td>\n",
       "      <td>-0.045871</td>\n",
       "      <td>-0.983380</td>\n",
       "      <td>1.463712</td>\n",
       "      <td>0.015</td>\n",
       "      <td>3.205160</td>\n",
       "    </tr>\n",
       "    <tr>\n",
       "      <th>1085</th>\n",
       "      <td>1.196307</td>\n",
       "      <td>-0.429544</td>\n",
       "      <td>-0.044165</td>\n",
       "      <td>-0.982885</td>\n",
       "      <td>3.599</td>\n",
       "      <td>4.242568</td>\n",
       "    </tr>\n",
       "    <tr>\n",
       "      <th>1086</th>\n",
       "      <td>0.479817</td>\n",
       "      <td>1.195974</td>\n",
       "      <td>-0.427311</td>\n",
       "      <td>-0.043582</td>\n",
       "      <td>-2.173</td>\n",
       "      <td>4.835082</td>\n",
       "    </tr>\n",
       "    <tr>\n",
       "      <th>1087</th>\n",
       "      <td>0.056205</td>\n",
       "      <td>0.479558</td>\n",
       "      <td>1.195971</td>\n",
       "      <td>-0.426763</td>\n",
       "      <td>0.043</td>\n",
       "      <td>4.454044</td>\n",
       "    </tr>\n",
       "    <tr>\n",
       "      <th>1088</th>\n",
       "      <td>0.374975</td>\n",
       "      <td>0.055990</td>\n",
       "      <td>0.480540</td>\n",
       "      <td>1.196672</td>\n",
       "      <td>-0.861</td>\n",
       "      <td>2.707105</td>\n",
       "    </tr>\n",
       "  </tbody>\n",
       "</table>\n",
       "<p>1089 rows × 6 columns</p>\n",
       "</div>"
      ],
      "text/plain": [
       "          Lag1      Lag2      Lag3      Lag4   Lag5    Volume\n",
       "0     0.282443  0.603063 -1.730598 -0.158875 -3.484  0.154976\n",
       "1    -0.178522  0.282204  0.603876 -1.730174 -0.229  0.148574\n",
       "2    -1.157328 -0.178713  0.283458  0.604521 -3.936  0.159837\n",
       "3     1.427638 -1.157419 -0.176825  0.284072  1.572  0.161630\n",
       "4     0.238299  1.427282 -1.154185 -0.176254  0.816  0.153728\n",
       "...        ...       ...       ...       ...    ...       ...\n",
       "1084 -0.429378 -0.045871 -0.983380  1.463712  0.015  3.205160\n",
       "1085  1.196307 -0.429544 -0.044165 -0.982885  3.599  4.242568\n",
       "1086  0.479817  1.195974 -0.427311 -0.043582 -2.173  4.835082\n",
       "1087  0.056205  0.479558  1.195971 -0.426763  0.043  4.454044\n",
       "1088  0.374975  0.055990  0.480540  1.196672 -0.861  2.707105\n",
       "\n",
       "[1089 rows x 6 columns]"
      ]
     },
     "execution_count": 27,
     "metadata": {},
     "output_type": "execute_result"
    }
   ],
   "source": [
    "X=X.copy(deep = True)\n",
    "X['Lag4']=scaled_data4\n",
    "X"
   ]
  },
  {
   "cell_type": "code",
   "execution_count": 28,
   "id": "4c4c2411",
   "metadata": {},
   "outputs": [
    {
     "data": {
      "text/plain": [
       "array([[-1.5354174 ],\n",
       "       [-0.15629714],\n",
       "       [-1.72692657],\n",
       "       ...,\n",
       "       [-0.97995606],\n",
       "       [-0.04105269],\n",
       "       [-0.42407103]])"
      ]
     },
     "execution_count": 28,
     "metadata": {},
     "output_type": "execute_result"
    }
   ],
   "source": [
    "from sklearn.preprocessing import StandardScaler\n",
    "scaled_data5=StandardScaler().fit_transform(X[['Lag5']])\n",
    "scaled_data5"
   ]
  },
  {
   "cell_type": "code",
   "execution_count": 29,
   "id": "90d39cc6",
   "metadata": {},
   "outputs": [
    {
     "data": {
      "text/html": [
       "<div>\n",
       "<style scoped>\n",
       "    .dataframe tbody tr th:only-of-type {\n",
       "        vertical-align: middle;\n",
       "    }\n",
       "\n",
       "    .dataframe tbody tr th {\n",
       "        vertical-align: top;\n",
       "    }\n",
       "\n",
       "    .dataframe thead th {\n",
       "        text-align: right;\n",
       "    }\n",
       "</style>\n",
       "<table border=\"1\" class=\"dataframe\">\n",
       "  <thead>\n",
       "    <tr style=\"text-align: right;\">\n",
       "      <th></th>\n",
       "      <th>Lag1</th>\n",
       "      <th>Lag2</th>\n",
       "      <th>Lag3</th>\n",
       "      <th>Lag4</th>\n",
       "      <th>Lag5</th>\n",
       "      <th>Volume</th>\n",
       "    </tr>\n",
       "  </thead>\n",
       "  <tbody>\n",
       "    <tr>\n",
       "      <th>0</th>\n",
       "      <td>0.282443</td>\n",
       "      <td>0.603063</td>\n",
       "      <td>-1.730598</td>\n",
       "      <td>-0.158875</td>\n",
       "      <td>-1.535417</td>\n",
       "      <td>0.154976</td>\n",
       "    </tr>\n",
       "    <tr>\n",
       "      <th>1</th>\n",
       "      <td>-0.178522</td>\n",
       "      <td>0.282204</td>\n",
       "      <td>0.603876</td>\n",
       "      <td>-1.730174</td>\n",
       "      <td>-0.156297</td>\n",
       "      <td>0.148574</td>\n",
       "    </tr>\n",
       "    <tr>\n",
       "      <th>2</th>\n",
       "      <td>-1.157328</td>\n",
       "      <td>-0.178713</td>\n",
       "      <td>0.283458</td>\n",
       "      <td>0.604521</td>\n",
       "      <td>-1.726927</td>\n",
       "      <td>0.159837</td>\n",
       "    </tr>\n",
       "    <tr>\n",
       "      <th>3</th>\n",
       "      <td>1.427638</td>\n",
       "      <td>-1.157419</td>\n",
       "      <td>-0.176825</td>\n",
       "      <td>0.284072</td>\n",
       "      <td>0.606774</td>\n",
       "      <td>0.161630</td>\n",
       "    </tr>\n",
       "    <tr>\n",
       "      <th>4</th>\n",
       "      <td>0.238299</td>\n",
       "      <td>1.427282</td>\n",
       "      <td>-1.154185</td>\n",
       "      <td>-0.176254</td>\n",
       "      <td>0.286462</td>\n",
       "      <td>0.153728</td>\n",
       "    </tr>\n",
       "    <tr>\n",
       "      <th>...</th>\n",
       "      <td>...</td>\n",
       "      <td>...</td>\n",
       "      <td>...</td>\n",
       "      <td>...</td>\n",
       "      <td>...</td>\n",
       "      <td>...</td>\n",
       "    </tr>\n",
       "    <tr>\n",
       "      <th>1084</th>\n",
       "      <td>-0.429378</td>\n",
       "      <td>-0.045871</td>\n",
       "      <td>-0.983380</td>\n",
       "      <td>1.463712</td>\n",
       "      <td>-0.052916</td>\n",
       "      <td>3.205160</td>\n",
       "    </tr>\n",
       "    <tr>\n",
       "      <th>1085</th>\n",
       "      <td>1.196307</td>\n",
       "      <td>-0.429544</td>\n",
       "      <td>-0.044165</td>\n",
       "      <td>-0.982885</td>\n",
       "      <td>1.465599</td>\n",
       "      <td>4.242568</td>\n",
       "    </tr>\n",
       "    <tr>\n",
       "      <th>1086</th>\n",
       "      <td>0.479817</td>\n",
       "      <td>1.195974</td>\n",
       "      <td>-0.427311</td>\n",
       "      <td>-0.043582</td>\n",
       "      <td>-0.979956</td>\n",
       "      <td>4.835082</td>\n",
       "    </tr>\n",
       "    <tr>\n",
       "      <th>1087</th>\n",
       "      <td>0.056205</td>\n",
       "      <td>0.479558</td>\n",
       "      <td>1.195971</td>\n",
       "      <td>-0.426763</td>\n",
       "      <td>-0.041053</td>\n",
       "      <td>4.454044</td>\n",
       "    </tr>\n",
       "    <tr>\n",
       "      <th>1088</th>\n",
       "      <td>0.374975</td>\n",
       "      <td>0.055990</td>\n",
       "      <td>0.480540</td>\n",
       "      <td>1.196672</td>\n",
       "      <td>-0.424071</td>\n",
       "      <td>2.707105</td>\n",
       "    </tr>\n",
       "  </tbody>\n",
       "</table>\n",
       "<p>1089 rows × 6 columns</p>\n",
       "</div>"
      ],
      "text/plain": [
       "          Lag1      Lag2      Lag3      Lag4      Lag5    Volume\n",
       "0     0.282443  0.603063 -1.730598 -0.158875 -1.535417  0.154976\n",
       "1    -0.178522  0.282204  0.603876 -1.730174 -0.156297  0.148574\n",
       "2    -1.157328 -0.178713  0.283458  0.604521 -1.726927  0.159837\n",
       "3     1.427638 -1.157419 -0.176825  0.284072  0.606774  0.161630\n",
       "4     0.238299  1.427282 -1.154185 -0.176254  0.286462  0.153728\n",
       "...        ...       ...       ...       ...       ...       ...\n",
       "1084 -0.429378 -0.045871 -0.983380  1.463712 -0.052916  3.205160\n",
       "1085  1.196307 -0.429544 -0.044165 -0.982885  1.465599  4.242568\n",
       "1086  0.479817  1.195974 -0.427311 -0.043582 -0.979956  4.835082\n",
       "1087  0.056205  0.479558  1.195971 -0.426763 -0.041053  4.454044\n",
       "1088  0.374975  0.055990  0.480540  1.196672 -0.424071  2.707105\n",
       "\n",
       "[1089 rows x 6 columns]"
      ]
     },
     "execution_count": 29,
     "metadata": {},
     "output_type": "execute_result"
    }
   ],
   "source": [
    "X=X.copy(deep = True)\n",
    "X['Lag5']=scaled_data5\n",
    "X"
   ]
  },
  {
   "cell_type": "code",
   "execution_count": 30,
   "id": "70b8cac6",
   "metadata": {},
   "outputs": [
    {
     "data": {
      "text/plain": [
       "array([[-0.84208658],\n",
       "       [-0.84588404],\n",
       "       [-0.83920289],\n",
       "       ...,\n",
       "       [ 1.9340045 ],\n",
       "       [ 1.70798479],\n",
       "       [ 0.67175574]])"
      ]
     },
     "execution_count": 30,
     "metadata": {},
     "output_type": "execute_result"
    }
   ],
   "source": [
    "from sklearn.preprocessing import StandardScaler\n",
    "scaled_data6=StandardScaler().fit_transform(X[['Volume']])\n",
    "scaled_data6"
   ]
  },
  {
   "cell_type": "code",
   "execution_count": 31,
   "id": "982d9a3c",
   "metadata": {},
   "outputs": [
    {
     "data": {
      "text/html": [
       "<div>\n",
       "<style scoped>\n",
       "    .dataframe tbody tr th:only-of-type {\n",
       "        vertical-align: middle;\n",
       "    }\n",
       "\n",
       "    .dataframe tbody tr th {\n",
       "        vertical-align: top;\n",
       "    }\n",
       "\n",
       "    .dataframe thead th {\n",
       "        text-align: right;\n",
       "    }\n",
       "</style>\n",
       "<table border=\"1\" class=\"dataframe\">\n",
       "  <thead>\n",
       "    <tr style=\"text-align: right;\">\n",
       "      <th></th>\n",
       "      <th>Lag1</th>\n",
       "      <th>Lag2</th>\n",
       "      <th>Lag3</th>\n",
       "      <th>Lag4</th>\n",
       "      <th>Lag5</th>\n",
       "      <th>Volume</th>\n",
       "    </tr>\n",
       "  </thead>\n",
       "  <tbody>\n",
       "    <tr>\n",
       "      <th>0</th>\n",
       "      <td>0.282443</td>\n",
       "      <td>0.603063</td>\n",
       "      <td>-1.730598</td>\n",
       "      <td>-0.158875</td>\n",
       "      <td>-1.535417</td>\n",
       "      <td>-0.842087</td>\n",
       "    </tr>\n",
       "    <tr>\n",
       "      <th>1</th>\n",
       "      <td>-0.178522</td>\n",
       "      <td>0.282204</td>\n",
       "      <td>0.603876</td>\n",
       "      <td>-1.730174</td>\n",
       "      <td>-0.156297</td>\n",
       "      <td>-0.845884</td>\n",
       "    </tr>\n",
       "    <tr>\n",
       "      <th>2</th>\n",
       "      <td>-1.157328</td>\n",
       "      <td>-0.178713</td>\n",
       "      <td>0.283458</td>\n",
       "      <td>0.604521</td>\n",
       "      <td>-1.726927</td>\n",
       "      <td>-0.839203</td>\n",
       "    </tr>\n",
       "    <tr>\n",
       "      <th>3</th>\n",
       "      <td>1.427638</td>\n",
       "      <td>-1.157419</td>\n",
       "      <td>-0.176825</td>\n",
       "      <td>0.284072</td>\n",
       "      <td>0.606774</td>\n",
       "      <td>-0.838140</td>\n",
       "    </tr>\n",
       "    <tr>\n",
       "      <th>4</th>\n",
       "      <td>0.238299</td>\n",
       "      <td>1.427282</td>\n",
       "      <td>-1.154185</td>\n",
       "      <td>-0.176254</td>\n",
       "      <td>0.286462</td>\n",
       "      <td>-0.842827</td>\n",
       "    </tr>\n",
       "    <tr>\n",
       "      <th>...</th>\n",
       "      <td>...</td>\n",
       "      <td>...</td>\n",
       "      <td>...</td>\n",
       "      <td>...</td>\n",
       "      <td>...</td>\n",
       "      <td>...</td>\n",
       "    </tr>\n",
       "    <tr>\n",
       "      <th>1084</th>\n",
       "      <td>-0.429378</td>\n",
       "      <td>-0.045871</td>\n",
       "      <td>-0.983380</td>\n",
       "      <td>1.463712</td>\n",
       "      <td>-0.052916</td>\n",
       "      <td>0.967186</td>\n",
       "    </tr>\n",
       "    <tr>\n",
       "      <th>1085</th>\n",
       "      <td>1.196307</td>\n",
       "      <td>-0.429544</td>\n",
       "      <td>-0.044165</td>\n",
       "      <td>-0.982885</td>\n",
       "      <td>1.465599</td>\n",
       "      <td>1.582544</td>\n",
       "    </tr>\n",
       "    <tr>\n",
       "      <th>1086</th>\n",
       "      <td>0.479817</td>\n",
       "      <td>1.195974</td>\n",
       "      <td>-0.427311</td>\n",
       "      <td>-0.043582</td>\n",
       "      <td>-0.979956</td>\n",
       "      <td>1.934004</td>\n",
       "    </tr>\n",
       "    <tr>\n",
       "      <th>1087</th>\n",
       "      <td>0.056205</td>\n",
       "      <td>0.479558</td>\n",
       "      <td>1.195971</td>\n",
       "      <td>-0.426763</td>\n",
       "      <td>-0.041053</td>\n",
       "      <td>1.707985</td>\n",
       "    </tr>\n",
       "    <tr>\n",
       "      <th>1088</th>\n",
       "      <td>0.374975</td>\n",
       "      <td>0.055990</td>\n",
       "      <td>0.480540</td>\n",
       "      <td>1.196672</td>\n",
       "      <td>-0.424071</td>\n",
       "      <td>0.671756</td>\n",
       "    </tr>\n",
       "  </tbody>\n",
       "</table>\n",
       "<p>1089 rows × 6 columns</p>\n",
       "</div>"
      ],
      "text/plain": [
       "          Lag1      Lag2      Lag3      Lag4      Lag5    Volume\n",
       "0     0.282443  0.603063 -1.730598 -0.158875 -1.535417 -0.842087\n",
       "1    -0.178522  0.282204  0.603876 -1.730174 -0.156297 -0.845884\n",
       "2    -1.157328 -0.178713  0.283458  0.604521 -1.726927 -0.839203\n",
       "3     1.427638 -1.157419 -0.176825  0.284072  0.606774 -0.838140\n",
       "4     0.238299  1.427282 -1.154185 -0.176254  0.286462 -0.842827\n",
       "...        ...       ...       ...       ...       ...       ...\n",
       "1084 -0.429378 -0.045871 -0.983380  1.463712 -0.052916  0.967186\n",
       "1085  1.196307 -0.429544 -0.044165 -0.982885  1.465599  1.582544\n",
       "1086  0.479817  1.195974 -0.427311 -0.043582 -0.979956  1.934004\n",
       "1087  0.056205  0.479558  1.195971 -0.426763 -0.041053  1.707985\n",
       "1088  0.374975  0.055990  0.480540  1.196672 -0.424071  0.671756\n",
       "\n",
       "[1089 rows x 6 columns]"
      ]
     },
     "execution_count": 31,
     "metadata": {},
     "output_type": "execute_result"
    }
   ],
   "source": [
    "X=X.copy(deep = True)\n",
    "X['Volume']=scaled_data6\n",
    "X"
   ]
  },
  {
   "cell_type": "code",
   "execution_count": 32,
   "id": "52541eb9",
   "metadata": {},
   "outputs": [],
   "source": [
    "from sklearn.model_selection import train_test_split"
   ]
  },
  {
   "cell_type": "code",
   "execution_count": 33,
   "id": "77d0289a",
   "metadata": {},
   "outputs": [],
   "source": [
    "X_train,X_test,y_train,y_test=train_test_split(X,y, test_size=0.3 ,random_state=101)"
   ]
  },
  {
   "cell_type": "code",
   "execution_count": 34,
   "id": "5d12dc6f",
   "metadata": {},
   "outputs": [
    {
     "data": {
      "text/html": [
       "<div>\n",
       "<style scoped>\n",
       "    .dataframe tbody tr th:only-of-type {\n",
       "        vertical-align: middle;\n",
       "    }\n",
       "\n",
       "    .dataframe tbody tr th {\n",
       "        vertical-align: top;\n",
       "    }\n",
       "\n",
       "    .dataframe thead th {\n",
       "        text-align: right;\n",
       "    }\n",
       "</style>\n",
       "<table border=\"1\" class=\"dataframe\">\n",
       "  <thead>\n",
       "    <tr style=\"text-align: right;\">\n",
       "      <th></th>\n",
       "      <th>Lag1</th>\n",
       "      <th>Lag2</th>\n",
       "      <th>Lag3</th>\n",
       "      <th>Lag4</th>\n",
       "      <th>Lag5</th>\n",
       "      <th>Volume</th>\n",
       "    </tr>\n",
       "  </thead>\n",
       "  <tbody>\n",
       "    <tr>\n",
       "      <th>1078</th>\n",
       "      <td>0.338471</td>\n",
       "      <td>0.636168</td>\n",
       "      <td>-0.152243</td>\n",
       "      <td>0.807132</td>\n",
       "      <td>0.553388</td>\n",
       "      <td>1.705088</td>\n",
       "    </tr>\n",
       "    <tr>\n",
       "      <th>555</th>\n",
       "      <td>-0.421738</td>\n",
       "      <td>-0.558991</td>\n",
       "      <td>-0.876150</td>\n",
       "      <td>-0.793838</td>\n",
       "      <td>0.343660</td>\n",
       "      <td>-0.261716</td>\n",
       "    </tr>\n",
       "    <tr>\n",
       "      <th>205</th>\n",
       "      <td>0.388558</td>\n",
       "      <td>0.249948</td>\n",
       "      <td>-0.146733</td>\n",
       "      <td>0.028900</td>\n",
       "      <td>0.164438</td>\n",
       "      <td>-0.753861</td>\n",
       "    </tr>\n",
       "    <tr>\n",
       "      <th>700</th>\n",
       "      <td>-0.268932</td>\n",
       "      <td>0.471494</td>\n",
       "      <td>0.349152</td>\n",
       "      <td>-0.890481</td>\n",
       "      <td>0.244093</td>\n",
       "      <td>-0.025742</td>\n",
       "    </tr>\n",
       "    <tr>\n",
       "      <th>506</th>\n",
       "      <td>1.781638</td>\n",
       "      <td>-2.878856</td>\n",
       "      <td>1.695670</td>\n",
       "      <td>0.119185</td>\n",
       "      <td>-1.901488</td>\n",
       "      <td>-0.385345</td>\n",
       "    </tr>\n",
       "  </tbody>\n",
       "</table>\n",
       "</div>"
      ],
      "text/plain": [
       "          Lag1      Lag2      Lag3      Lag4      Lag5    Volume\n",
       "1078  0.338471  0.636168 -0.152243  0.807132  0.553388  1.705088\n",
       "555  -0.421738 -0.558991 -0.876150 -0.793838  0.343660 -0.261716\n",
       "205   0.388558  0.249948 -0.146733  0.028900  0.164438 -0.753861\n",
       "700  -0.268932  0.471494  0.349152 -0.890481  0.244093 -0.025742\n",
       "506   1.781638 -2.878856  1.695670  0.119185 -1.901488 -0.385345"
      ]
     },
     "execution_count": 34,
     "metadata": {},
     "output_type": "execute_result"
    }
   ],
   "source": [
    "X_train.head()"
   ]
  },
  {
   "cell_type": "code",
   "execution_count": 35,
   "id": "3996c009",
   "metadata": {},
   "outputs": [
    {
     "data": {
      "text/html": [
       "<div>\n",
       "<style scoped>\n",
       "    .dataframe tbody tr th:only-of-type {\n",
       "        vertical-align: middle;\n",
       "    }\n",
       "\n",
       "    .dataframe tbody tr th {\n",
       "        vertical-align: top;\n",
       "    }\n",
       "\n",
       "    .dataframe thead th {\n",
       "        text-align: right;\n",
       "    }\n",
       "</style>\n",
       "<table border=\"1\" class=\"dataframe\">\n",
       "  <thead>\n",
       "    <tr style=\"text-align: right;\">\n",
       "      <th></th>\n",
       "      <th>Lag1</th>\n",
       "      <th>Lag2</th>\n",
       "      <th>Lag3</th>\n",
       "      <th>Lag4</th>\n",
       "      <th>Lag5</th>\n",
       "      <th>Volume</th>\n",
       "    </tr>\n",
       "  </thead>\n",
       "  <tbody>\n",
       "    <tr>\n",
       "      <th>1030</th>\n",
       "      <td>0.895788</td>\n",
       "      <td>1.291893</td>\n",
       "      <td>-1.766624</td>\n",
       "      <td>-0.376746</td>\n",
       "      <td>0.580928</td>\n",
       "      <td>1.568488</td>\n",
       "    </tr>\n",
       "    <tr>\n",
       "      <th>325</th>\n",
       "      <td>-0.832191</td>\n",
       "      <td>0.488046</td>\n",
       "      <td>0.494103</td>\n",
       "      <td>-1.299519</td>\n",
       "      <td>0.620756</td>\n",
       "      <td>-0.694491</td>\n",
       "    </tr>\n",
       "    <tr>\n",
       "      <th>420</th>\n",
       "      <td>0.557069</td>\n",
       "      <td>0.523273</td>\n",
       "      <td>0.257180</td>\n",
       "      <td>1.329768</td>\n",
       "      <td>0.944457</td>\n",
       "      <td>-0.581349</td>\n",
       "    </tr>\n",
       "    <tr>\n",
       "      <th>32</th>\n",
       "      <td>-0.802055</td>\n",
       "      <td>-0.926536</td>\n",
       "      <td>0.047806</td>\n",
       "      <td>1.441671</td>\n",
       "      <td>-2.168415</td>\n",
       "      <td>-0.845583</td>\n",
       "    </tr>\n",
       "    <tr>\n",
       "      <th>327</th>\n",
       "      <td>1.030767</td>\n",
       "      <td>0.627680</td>\n",
       "      <td>-0.829529</td>\n",
       "      <td>0.489651</td>\n",
       "      <td>0.497037</td>\n",
       "      <td>-0.682081</td>\n",
       "    </tr>\n",
       "  </tbody>\n",
       "</table>\n",
       "</div>"
      ],
      "text/plain": [
       "          Lag1      Lag2      Lag3      Lag4      Lag5    Volume\n",
       "1030  0.895788  1.291893 -1.766624 -0.376746  0.580928  1.568488\n",
       "325  -0.832191  0.488046  0.494103 -1.299519  0.620756 -0.694491\n",
       "420   0.557069  0.523273  0.257180  1.329768  0.944457 -0.581349\n",
       "32   -0.802055 -0.926536  0.047806  1.441671 -2.168415 -0.845583\n",
       "327   1.030767  0.627680 -0.829529  0.489651  0.497037 -0.682081"
      ]
     },
     "execution_count": 35,
     "metadata": {},
     "output_type": "execute_result"
    }
   ],
   "source": [
    "X_test.head()"
   ]
  },
  {
   "cell_type": "code",
   "execution_count": 36,
   "id": "e216b324",
   "metadata": {},
   "outputs": [
    {
     "data": {
      "text/plain": [
       "(762, 6)"
      ]
     },
     "execution_count": 36,
     "metadata": {},
     "output_type": "execute_result"
    }
   ],
   "source": [
    "X_train.shape"
   ]
  },
  {
   "cell_type": "code",
   "execution_count": 37,
   "id": "ece0f14d",
   "metadata": {},
   "outputs": [
    {
     "data": {
      "text/plain": [
       "(327, 6)"
      ]
     },
     "execution_count": 37,
     "metadata": {},
     "output_type": "execute_result"
    }
   ],
   "source": [
    "X_test.shape"
   ]
  },
  {
   "cell_type": "markdown",
   "id": "85755bbc",
   "metadata": {},
   "source": [
    "# Logestic Regression"
   ]
  },
  {
   "cell_type": "code",
   "execution_count": 38,
   "id": "7eb3b965",
   "metadata": {},
   "outputs": [],
   "source": [
    "from sklearn.linear_model import LogisticRegression"
   ]
  },
  {
   "cell_type": "code",
   "execution_count": 39,
   "id": "43df3f06",
   "metadata": {},
   "outputs": [],
   "source": [
    "logr=LogisticRegression(max_iter=100,\n",
    "    \n",
    "                      C=5, \n",
    "                        random_state=101)"
   ]
  },
  {
   "cell_type": "code",
   "execution_count": 40,
   "id": "c7eb6265",
   "metadata": {},
   "outputs": [
    {
     "data": {
      "text/plain": [
       "LogisticRegression(C=5, random_state=101)"
      ]
     },
     "execution_count": 40,
     "metadata": {},
     "output_type": "execute_result"
    }
   ],
   "source": [
    "logr.fit(X_train,y_train)"
   ]
  },
  {
   "cell_type": "code",
   "execution_count": 41,
   "id": "3a4afb44",
   "metadata": {},
   "outputs": [
    {
     "data": {
      "text/plain": [
       "array([[0.35934342, 0.64065658],\n",
       "       [0.42409979, 0.57590021],\n",
       "       [0.46539704, 0.53460296],\n",
       "       [0.43724878, 0.56275122],\n",
       "       [0.43021517, 0.56978483],\n",
       "       [0.46359257, 0.53640743],\n",
       "       [0.43555307, 0.56444693],\n",
       "       [0.4958614 , 0.5041386 ],\n",
       "       [0.43328172, 0.56671828],\n",
       "       [0.39654697, 0.60345303],\n",
       "       [0.47103344, 0.52896656],\n",
       "       [0.29673129, 0.70326871],\n",
       "       [0.4465788 , 0.5534212 ],\n",
       "       [0.40444871, 0.59555129],\n",
       "       [0.52506652, 0.47493348],\n",
       "       [0.3921451 , 0.6078549 ],\n",
       "       [0.43618884, 0.56381116],\n",
       "       [0.50171318, 0.49828682],\n",
       "       [0.73104416, 0.26895584],\n",
       "       [0.55873718, 0.44126282],\n",
       "       [0.49342166, 0.50657834],\n",
       "       [0.5855712 , 0.4144288 ],\n",
       "       [0.46422289, 0.53577711],\n",
       "       [0.48632786, 0.51367214],\n",
       "       [0.42356913, 0.57643087],\n",
       "       [0.3662894 , 0.6337106 ],\n",
       "       [0.51021587, 0.48978413],\n",
       "       [0.45766295, 0.54233705],\n",
       "       [0.42426124, 0.57573876],\n",
       "       [0.43161312, 0.56838688],\n",
       "       [0.40878001, 0.59121999],\n",
       "       [0.35189609, 0.64810391],\n",
       "       [0.43511941, 0.56488059],\n",
       "       [0.43363007, 0.56636993],\n",
       "       [0.48331777, 0.51668223],\n",
       "       [0.42337801, 0.57662199],\n",
       "       [0.33719241, 0.66280759],\n",
       "       [0.40943554, 0.59056446],\n",
       "       [0.4233649 , 0.5766351 ],\n",
       "       [0.56956179, 0.43043821],\n",
       "       [0.48950984, 0.51049016],\n",
       "       [0.40287235, 0.59712765],\n",
       "       [0.50017065, 0.49982935],\n",
       "       [0.3979932 , 0.6020068 ],\n",
       "       [0.44660458, 0.55339542],\n",
       "       [0.42468405, 0.57531595],\n",
       "       [0.43942764, 0.56057236],\n",
       "       [0.44827688, 0.55172312],\n",
       "       [0.51676848, 0.48323152],\n",
       "       [0.40566158, 0.59433842],\n",
       "       [0.43159685, 0.56840315],\n",
       "       [0.39043407, 0.60956593],\n",
       "       [0.26179407, 0.73820593],\n",
       "       [0.439416  , 0.560584  ],\n",
       "       [0.45758933, 0.54241067],\n",
       "       [0.4165952 , 0.5834048 ],\n",
       "       [0.40032692, 0.59967308],\n",
       "       [0.48371694, 0.51628306],\n",
       "       [0.49795868, 0.50204132],\n",
       "       [0.49888006, 0.50111994],\n",
       "       [0.41957497, 0.58042503],\n",
       "       [0.44189503, 0.55810497],\n",
       "       [0.39313384, 0.60686616],\n",
       "       [0.3888483 , 0.6111517 ],\n",
       "       [0.50997234, 0.49002766],\n",
       "       [0.51445454, 0.48554546],\n",
       "       [0.53983775, 0.46016225],\n",
       "       [0.46464922, 0.53535078],\n",
       "       [0.49073673, 0.50926327],\n",
       "       [0.42538228, 0.57461772],\n",
       "       [0.49296232, 0.50703768],\n",
       "       [0.47289588, 0.52710412],\n",
       "       [0.43096998, 0.56903002],\n",
       "       [0.48505161, 0.51494839],\n",
       "       [0.49554656, 0.50445344],\n",
       "       [0.53179767, 0.46820233],\n",
       "       [0.45257738, 0.54742262],\n",
       "       [0.41740204, 0.58259796],\n",
       "       [0.45896189, 0.54103811],\n",
       "       [0.39934469, 0.60065531],\n",
       "       [0.48715472, 0.51284528],\n",
       "       [0.44200862, 0.55799138],\n",
       "       [0.42405771, 0.57594229],\n",
       "       [0.49813622, 0.50186378],\n",
       "       [0.45873639, 0.54126361],\n",
       "       [0.4891056 , 0.5108944 ],\n",
       "       [0.43365985, 0.56634015],\n",
       "       [0.51111615, 0.48888385],\n",
       "       [0.4248441 , 0.5751559 ],\n",
       "       [0.47735993, 0.52264007],\n",
       "       [0.45451095, 0.54548905],\n",
       "       [0.44321198, 0.55678802],\n",
       "       [0.46252575, 0.53747425],\n",
       "       [0.44393415, 0.55606585],\n",
       "       [0.38478832, 0.61521168],\n",
       "       [0.4252403 , 0.5747597 ],\n",
       "       [0.44189284, 0.55810716],\n",
       "       [0.43434966, 0.56565034],\n",
       "       [0.50720972, 0.49279028],\n",
       "       [0.44702003, 0.55297997],\n",
       "       [0.42757465, 0.57242535],\n",
       "       [0.45627589, 0.54372411],\n",
       "       [0.44600857, 0.55399143],\n",
       "       [0.32761603, 0.67238397],\n",
       "       [0.48587717, 0.51412283],\n",
       "       [0.40656712, 0.59343288],\n",
       "       [0.51848386, 0.48151614],\n",
       "       [0.42870257, 0.57129743],\n",
       "       [0.38163066, 0.61836934],\n",
       "       [0.43735747, 0.56264253],\n",
       "       [0.34797614, 0.65202386],\n",
       "       [0.34766109, 0.65233891],\n",
       "       [0.3177264 , 0.6822736 ],\n",
       "       [0.40553154, 0.59446846],\n",
       "       [0.33073439, 0.66926561],\n",
       "       [0.51104177, 0.48895823],\n",
       "       [0.49895383, 0.50104617],\n",
       "       [0.473686  , 0.526314  ],\n",
       "       [0.31708524, 0.68291476],\n",
       "       [0.42563656, 0.57436344],\n",
       "       [0.42339454, 0.57660546],\n",
       "       [0.46472063, 0.53527937],\n",
       "       [0.53249678, 0.46750322],\n",
       "       [0.45969433, 0.54030567],\n",
       "       [0.50076426, 0.49923574],\n",
       "       [0.41212999, 0.58787001],\n",
       "       [0.52477432, 0.47522568],\n",
       "       [0.37178826, 0.62821174],\n",
       "       [0.50815528, 0.49184472],\n",
       "       [0.32735568, 0.67264432],\n",
       "       [0.44635529, 0.55364471],\n",
       "       [0.42987566, 0.57012434],\n",
       "       [0.40374414, 0.59625586],\n",
       "       [0.3978687 , 0.6021313 ],\n",
       "       [0.53109665, 0.46890335],\n",
       "       [0.47037534, 0.52962466],\n",
       "       [0.48737504, 0.51262496],\n",
       "       [0.46455492, 0.53544508],\n",
       "       [0.49038305, 0.50961695],\n",
       "       [0.43611151, 0.56388849],\n",
       "       [0.44642797, 0.55357203],\n",
       "       [0.53923827, 0.46076173],\n",
       "       [0.44138376, 0.55861624],\n",
       "       [0.46256617, 0.53743383],\n",
       "       [0.47199887, 0.52800113],\n",
       "       [0.4887273 , 0.5112727 ],\n",
       "       [0.49967106, 0.50032894],\n",
       "       [0.38888048, 0.61111952],\n",
       "       [0.43419962, 0.56580038],\n",
       "       [0.32470326, 0.67529674],\n",
       "       [0.46564777, 0.53435223],\n",
       "       [0.38962537, 0.61037463],\n",
       "       [0.41879481, 0.58120519],\n",
       "       [0.46356123, 0.53643877],\n",
       "       [0.46695276, 0.53304724],\n",
       "       [0.42552158, 0.57447842],\n",
       "       [0.32277051, 0.67722949],\n",
       "       [0.43423883, 0.56576117],\n",
       "       [0.4727915 , 0.5272085 ],\n",
       "       [0.32995394, 0.67004606],\n",
       "       [0.43399706, 0.56600294],\n",
       "       [0.46368201, 0.53631799],\n",
       "       [0.44021315, 0.55978685],\n",
       "       [0.44882276, 0.55117724],\n",
       "       [0.47877996, 0.52122004],\n",
       "       [0.45259775, 0.54740225],\n",
       "       [0.47002831, 0.52997169],\n",
       "       [0.49830693, 0.50169307],\n",
       "       [0.4501731 , 0.5498269 ],\n",
       "       [0.42398566, 0.57601434],\n",
       "       [0.45307984, 0.54692016],\n",
       "       [0.44773394, 0.55226606],\n",
       "       [0.42573307, 0.57426693],\n",
       "       [0.43870908, 0.56129092],\n",
       "       [0.36131256, 0.63868744],\n",
       "       [0.40661581, 0.59338419],\n",
       "       [0.4622388 , 0.5377612 ],\n",
       "       [0.3979861 , 0.6020139 ],\n",
       "       [0.36988915, 0.63011085],\n",
       "       [0.43394983, 0.56605017],\n",
       "       [0.2898639 , 0.7101361 ],\n",
       "       [0.52483938, 0.47516062],\n",
       "       [0.34453481, 0.65546519],\n",
       "       [0.37482101, 0.62517899],\n",
       "       [0.41046602, 0.58953398],\n",
       "       [0.51146494, 0.48853506],\n",
       "       [0.51895563, 0.48104437],\n",
       "       [0.49390678, 0.50609322],\n",
       "       [0.51344249, 0.48655751],\n",
       "       [0.35632944, 0.64367056],\n",
       "       [0.40407009, 0.59592991],\n",
       "       [0.44148096, 0.55851904],\n",
       "       [0.42932851, 0.57067149],\n",
       "       [0.51109574, 0.48890426],\n",
       "       [0.45676242, 0.54323758],\n",
       "       [0.41427881, 0.58572119],\n",
       "       [0.42269312, 0.57730688],\n",
       "       [0.47075966, 0.52924034],\n",
       "       [0.43191714, 0.56808286],\n",
       "       [0.43660694, 0.56339306],\n",
       "       [0.40101141, 0.59898859],\n",
       "       [0.40300647, 0.59699353],\n",
       "       [0.45033568, 0.54966432],\n",
       "       [0.38358882, 0.61641118],\n",
       "       [0.38305388, 0.61694612],\n",
       "       [0.37480362, 0.62519638],\n",
       "       [0.42691265, 0.57308735],\n",
       "       [0.42588862, 0.57411138],\n",
       "       [0.47709652, 0.52290348],\n",
       "       [0.41198237, 0.58801763],\n",
       "       [0.45090446, 0.54909554],\n",
       "       [0.346324  , 0.653676  ],\n",
       "       [0.4462416 , 0.5537584 ],\n",
       "       [0.47279666, 0.52720334],\n",
       "       [0.48096927, 0.51903073],\n",
       "       [0.27586991, 0.72413009],\n",
       "       [0.46595352, 0.53404648],\n",
       "       [0.40283718, 0.59716282],\n",
       "       [0.50385248, 0.49614752],\n",
       "       [0.52808613, 0.47191387],\n",
       "       [0.43574938, 0.56425062],\n",
       "       [0.55112407, 0.44887593],\n",
       "       [0.4203227 , 0.5796773 ],\n",
       "       [0.35947514, 0.64052486],\n",
       "       [0.43627847, 0.56372153],\n",
       "       [0.44229187, 0.55770813],\n",
       "       [0.43830432, 0.56169568],\n",
       "       [0.44065915, 0.55934085],\n",
       "       [0.40095813, 0.59904187],\n",
       "       [0.40264338, 0.59735662],\n",
       "       [0.46999949, 0.53000051],\n",
       "       [0.44533839, 0.55466161],\n",
       "       [0.50004065, 0.49995935],\n",
       "       [0.50634017, 0.49365983],\n",
       "       [0.40861873, 0.59138127],\n",
       "       [0.56583201, 0.43416799],\n",
       "       [0.50952457, 0.49047543],\n",
       "       [0.3075395 , 0.6924605 ],\n",
       "       [0.4328091 , 0.5671909 ],\n",
       "       [0.42521697, 0.57478303],\n",
       "       [0.42271246, 0.57728754],\n",
       "       [0.51888833, 0.48111167],\n",
       "       [0.4975304 , 0.5024696 ],\n",
       "       [0.23932323, 0.76067677],\n",
       "       [0.30082704, 0.69917296],\n",
       "       [0.56253796, 0.43746204],\n",
       "       [0.42546316, 0.57453684],\n",
       "       [0.41836447, 0.58163553],\n",
       "       [0.45969851, 0.54030149],\n",
       "       [0.45188519, 0.54811481],\n",
       "       [0.36315835, 0.63684165],\n",
       "       [0.27518594, 0.72481406],\n",
       "       [0.40305818, 0.59694182],\n",
       "       [0.43881386, 0.56118614],\n",
       "       [0.47075064, 0.52924936],\n",
       "       [0.36605398, 0.63394602],\n",
       "       [0.45685218, 0.54314782],\n",
       "       [0.36270721, 0.63729279],\n",
       "       [0.44444026, 0.55555974],\n",
       "       [0.43498758, 0.56501242],\n",
       "       [0.37604102, 0.62395898],\n",
       "       [0.47057856, 0.52942144],\n",
       "       [0.44701557, 0.55298443],\n",
       "       [0.43745521, 0.56254479],\n",
       "       [0.42345503, 0.57654497],\n",
       "       [0.41820645, 0.58179355],\n",
       "       [0.46334323, 0.53665677],\n",
       "       [0.47008967, 0.52991033],\n",
       "       [0.47198383, 0.52801617],\n",
       "       [0.44312076, 0.55687924],\n",
       "       [0.43694579, 0.56305421],\n",
       "       [0.74377694, 0.25622306],\n",
       "       [0.45263653, 0.54736347],\n",
       "       [0.32874265, 0.67125735],\n",
       "       [0.4006433 , 0.5993567 ],\n",
       "       [0.35731714, 0.64268286],\n",
       "       [0.41847878, 0.58152122],\n",
       "       [0.43410311, 0.56589689],\n",
       "       [0.43873057, 0.56126943],\n",
       "       [0.44081751, 0.55918249],\n",
       "       [0.55776914, 0.44223086],\n",
       "       [0.47063611, 0.52936389],\n",
       "       [0.12675027, 0.87324973],\n",
       "       [0.44679179, 0.55320821],\n",
       "       [0.48414902, 0.51585098],\n",
       "       [0.41440363, 0.58559637],\n",
       "       [0.47001143, 0.52998857],\n",
       "       [0.36527454, 0.63472546],\n",
       "       [0.46985205, 0.53014795],\n",
       "       [0.43037962, 0.56962038],\n",
       "       [0.40678421, 0.59321579],\n",
       "       [0.44877466, 0.55122534],\n",
       "       [0.39953346, 0.60046654],\n",
       "       [0.51401012, 0.48598988],\n",
       "       [0.46452546, 0.53547454],\n",
       "       [0.53752903, 0.46247097],\n",
       "       [0.43094811, 0.56905189],\n",
       "       [0.39311704, 0.60688296],\n",
       "       [0.45619785, 0.54380215],\n",
       "       [0.42388856, 0.57611144],\n",
       "       [0.47489567, 0.52510433],\n",
       "       [0.43059219, 0.56940781],\n",
       "       [0.47518068, 0.52481932],\n",
       "       [0.43504552, 0.56495448],\n",
       "       [0.52217856, 0.47782144],\n",
       "       [0.41245335, 0.58754665],\n",
       "       [0.4430786 , 0.5569214 ],\n",
       "       [0.389766  , 0.610234  ],\n",
       "       [0.39737124, 0.60262876],\n",
       "       [0.48114688, 0.51885312],\n",
       "       [0.46951077, 0.53048923],\n",
       "       [0.41436974, 0.58563026],\n",
       "       [0.44248201, 0.55751799],\n",
       "       [0.42521903, 0.57478097],\n",
       "       [0.41318151, 0.58681849],\n",
       "       [0.43244256, 0.56755744],\n",
       "       [0.37993452, 0.62006548],\n",
       "       [0.51974204, 0.48025796],\n",
       "       [0.45666482, 0.54333518],\n",
       "       [0.47095714, 0.52904286],\n",
       "       [0.44665843, 0.55334157],\n",
       "       [0.37950332, 0.62049668],\n",
       "       [0.4555788 , 0.5444212 ],\n",
       "       [0.43977433, 0.56022567],\n",
       "       [0.44698856, 0.55301144],\n",
       "       [0.40289569, 0.59710431],\n",
       "       [0.44552272, 0.55447728]])"
      ]
     },
     "execution_count": 41,
     "metadata": {},
     "output_type": "execute_result"
    }
   ],
   "source": [
    "logr.predict_proba(X_test)"
   ]
  },
  {
   "cell_type": "code",
   "execution_count": 42,
   "id": "1ef9d165",
   "metadata": {},
   "outputs": [
    {
     "data": {
      "text/plain": [
       "array([1, 1, 1, 1, 1, 1, 1, 1, 1, 1, 1, 1, 1, 1, 0, 1, 1, 0, 0, 0, 1, 0,\n",
       "       1, 1, 1, 1, 0, 1, 1, 1, 1, 1, 1, 1, 1, 1, 1, 1, 1, 0, 1, 1, 0, 1,\n",
       "       1, 1, 1, 1, 0, 1, 1, 1, 1, 1, 1, 1, 1, 1, 1, 1, 1, 1, 1, 1, 0, 0,\n",
       "       0, 1, 1, 1, 1, 1, 1, 1, 1, 0, 1, 1, 1, 1, 1, 1, 1, 1, 1, 1, 1, 0,\n",
       "       1, 1, 1, 1, 1, 1, 1, 1, 1, 1, 0, 1, 1, 1, 1, 1, 1, 1, 0, 1, 1, 1,\n",
       "       1, 1, 1, 1, 1, 0, 1, 1, 1, 1, 1, 1, 0, 1, 0, 1, 0, 1, 0, 1, 1, 1,\n",
       "       1, 1, 0, 1, 1, 1, 1, 1, 1, 0, 1, 1, 1, 1, 1, 1, 1, 1, 1, 1, 1, 1,\n",
       "       1, 1, 1, 1, 1, 1, 1, 1, 1, 1, 1, 1, 1, 1, 1, 1, 1, 1, 1, 1, 1, 1,\n",
       "       1, 1, 1, 1, 1, 0, 1, 1, 1, 0, 0, 1, 0, 1, 1, 1, 1, 0, 1, 1, 1, 1,\n",
       "       1, 1, 1, 1, 1, 1, 1, 1, 1, 1, 1, 1, 1, 1, 1, 1, 1, 1, 1, 1, 0, 0,\n",
       "       1, 0, 1, 1, 1, 1, 1, 1, 1, 1, 1, 1, 0, 0, 1, 0, 0, 1, 1, 1, 1, 0,\n",
       "       1, 1, 1, 0, 1, 1, 1, 1, 1, 1, 1, 1, 1, 1, 1, 1, 1, 1, 1, 1, 1, 1,\n",
       "       1, 1, 1, 1, 1, 1, 1, 0, 1, 1, 1, 1, 1, 1, 1, 1, 0, 1, 1, 1, 1, 1,\n",
       "       1, 1, 1, 1, 1, 1, 1, 0, 1, 0, 1, 1, 1, 1, 1, 1, 1, 1, 0, 1, 1, 1,\n",
       "       1, 1, 1, 1, 1, 1, 1, 1, 1, 0, 1, 1, 1, 1, 1, 1, 1, 1, 1],\n",
       "      dtype=uint8)"
      ]
     },
     "execution_count": 42,
     "metadata": {},
     "output_type": "execute_result"
    }
   ],
   "source": [
    "pred_logr=logr.predict(X_test)\n",
    "pred_logr"
   ]
  },
  {
   "cell_type": "markdown",
   "id": "5c7ea2c2",
   "metadata": {},
   "source": [
    "#### evaluation"
   ]
  },
  {
   "cell_type": "code",
   "execution_count": 43,
   "id": "ed5588cb",
   "metadata": {},
   "outputs": [],
   "source": [
    "from sklearn.metrics import confusion_matrix"
   ]
  },
  {
   "cell_type": "code",
   "execution_count": 44,
   "id": "49960337",
   "metadata": {},
   "outputs": [
    {
     "data": {
      "text/plain": [
       "array([[ 20, 129],\n",
       "       [ 23, 155]], dtype=int64)"
      ]
     },
     "execution_count": 44,
     "metadata": {},
     "output_type": "execute_result"
    }
   ],
   "source": [
    "confusion_matrix(y_test,pred_logr)"
   ]
  },
  {
   "cell_type": "code",
   "execution_count": 45,
   "id": "e035faf6",
   "metadata": {},
   "outputs": [],
   "source": [
    "TN=20\n",
    "TP=155\n",
    "FN=23\n",
    "FP=129"
   ]
  },
  {
   "cell_type": "code",
   "execution_count": 46,
   "id": "4dad4b32",
   "metadata": {},
   "outputs": [
    {
     "data": {
      "text/plain": [
       "0.5351681957186545"
      ]
     },
     "execution_count": 46,
     "metadata": {},
     "output_type": "execute_result"
    }
   ],
   "source": [
    "Accuracy=(TN+TP)/(TN+TP+FN+FP)\n",
    "Accuracy"
   ]
  },
  {
   "cell_type": "code",
   "execution_count": 47,
   "id": "b62b9fd5",
   "metadata": {},
   "outputs": [
    {
     "data": {
      "text/plain": [
       "0.545774647887324"
      ]
     },
     "execution_count": 47,
     "metadata": {},
     "output_type": "execute_result"
    }
   ],
   "source": [
    "Precision=TP/(TP+FP)\n",
    "Precision"
   ]
  },
  {
   "cell_type": "code",
   "execution_count": 48,
   "id": "7b6bc4e9",
   "metadata": {},
   "outputs": [
    {
     "data": {
      "text/plain": [
       "0.8707865168539326"
      ]
     },
     "execution_count": 48,
     "metadata": {},
     "output_type": "execute_result"
    }
   ],
   "source": [
    "sensitivity=TP/(TP+FN)\n",
    "sensitivity"
   ]
  },
  {
   "cell_type": "code",
   "execution_count": 49,
   "id": "ef458983",
   "metadata": {},
   "outputs": [
    {
     "data": {
      "text/plain": [
       "0.1342281879194631"
      ]
     },
     "execution_count": 49,
     "metadata": {},
     "output_type": "execute_result"
    }
   ],
   "source": [
    "specificity=TN/(TN+FP)\n",
    "specificity"
   ]
  },
  {
   "cell_type": "code",
   "execution_count": 50,
   "id": "637ceb07",
   "metadata": {},
   "outputs": [
    {
     "data": {
      "text/html": [
       "<div>\n",
       "<style scoped>\n",
       "    .dataframe tbody tr th:only-of-type {\n",
       "        vertical-align: middle;\n",
       "    }\n",
       "\n",
       "    .dataframe tbody tr th {\n",
       "        vertical-align: top;\n",
       "    }\n",
       "\n",
       "    .dataframe thead tr th {\n",
       "        text-align: left;\n",
       "    }\n",
       "</style>\n",
       "<table border=\"1\" class=\"dataframe\">\n",
       "  <thead>\n",
       "    <tr>\n",
       "      <th></th>\n",
       "      <th>max_iter</th>\n",
       "      <th>C</th>\n",
       "    </tr>\n",
       "  </thead>\n",
       "  <tbody>\n",
       "    <tr>\n",
       "      <th>1</th>\n",
       "      <td>200</td>\n",
       "      <td>1</td>\n",
       "    </tr>\n",
       "    <tr>\n",
       "      <th>2</th>\n",
       "      <td>200</td>\n",
       "      <td>2</td>\n",
       "    </tr>\n",
       "    <tr>\n",
       "      <th>3</th>\n",
       "      <td>200</td>\n",
       "      <td>3</td>\n",
       "    </tr>\n",
       "    <tr>\n",
       "      <th>4</th>\n",
       "      <td>200</td>\n",
       "      <td>4</td>\n",
       "    </tr>\n",
       "    <tr>\n",
       "      <th>5</th>\n",
       "      <td>300</td>\n",
       "      <td>1</td>\n",
       "    </tr>\n",
       "    <tr>\n",
       "      <th>6</th>\n",
       "      <td>300</td>\n",
       "      <td>2</td>\n",
       "    </tr>\n",
       "    <tr>\n",
       "      <th>7</th>\n",
       "      <td>300</td>\n",
       "      <td>3</td>\n",
       "    </tr>\n",
       "    <tr>\n",
       "      <th>8</th>\n",
       "      <td>300</td>\n",
       "      <td>4</td>\n",
       "    </tr>\n",
       "    <tr>\n",
       "      <th>9</th>\n",
       "      <td>400</td>\n",
       "      <td>1</td>\n",
       "    </tr>\n",
       "    <tr>\n",
       "      <th>10</th>\n",
       "      <td>400</td>\n",
       "      <td>2</td>\n",
       "    </tr>\n",
       "    <tr>\n",
       "      <th>11</th>\n",
       "      <td>400</td>\n",
       "      <td>3</td>\n",
       "    </tr>\n",
       "    <tr>\n",
       "      <th>12</th>\n",
       "      <td>400</td>\n",
       "      <td>4</td>\n",
       "    </tr>\n",
       "    <tr>\n",
       "      <th>13</th>\n",
       "      <td>500</td>\n",
       "      <td>1</td>\n",
       "    </tr>\n",
       "    <tr>\n",
       "      <th>14</th>\n",
       "      <td>500</td>\n",
       "      <td>2</td>\n",
       "    </tr>\n",
       "    <tr>\n",
       "      <th>15</th>\n",
       "      <td>500</td>\n",
       "      <td>3</td>\n",
       "    </tr>\n",
       "    <tr>\n",
       "      <th>16</th>\n",
       "      <td>500</td>\n",
       "      <td>4</td>\n",
       "    </tr>\n",
       "  </tbody>\n",
       "</table>\n",
       "</div>"
      ],
      "text/plain": [
       "   max_iter  C\n",
       "1       200  1\n",
       "2       200  2\n",
       "3       200  3\n",
       "4       200  4\n",
       "5       300  1\n",
       "6       300  2\n",
       "7       300  3\n",
       "8       300  4\n",
       "9       400  1\n",
       "10      400  2\n",
       "11      400  3\n",
       "12      400  4\n",
       "13      500  1\n",
       "14      500  2\n",
       "15      500  3\n",
       "16      500  4"
      ]
     },
     "execution_count": 50,
     "metadata": {},
     "output_type": "execute_result"
    }
   ],
   "source": [
    "# K fold cross validation\n",
    "import itertools\n",
    "max_iter=[200,300,400,500]\n",
    "C=[1,2,3,4]\n",
    "grid=itertools.product( max_iter,C)\n",
    "grid=pd.DataFrame(grid,index=range(1,17),columns=[['max_iter','C']])\n",
    "grid"
   ]
  },
  {
   "cell_type": "code",
   "execution_count": 51,
   "id": "581c734d",
   "metadata": {},
   "outputs": [],
   "source": [
    "# k fold cross validtion\n",
    "from sklearn.model_selection import cross_val_score\n",
    "SC=[]\n",
    "for i in range(0,16):\n",
    "    lor=LogisticRegression(max_iter=grid.iloc[i,0],\n",
    "\n",
    "                      C=grid.iloc[i,1],\n",
    "       random_state=101)\n",
    "    Scores=cross_val_score(lor,X=X_train,y=y_train,\n",
    "                           cv=10,scoring='accuracy')\n",
    "    SC.append(np.mean(Scores))"
   ]
  },
  {
   "cell_type": "code",
   "execution_count": 52,
   "id": "de02971f",
   "metadata": {},
   "outputs": [
    {
     "data": {
      "text/plain": [
       "[0.5524777853725222,\n",
       " 0.551161995898838,\n",
       " 0.551161995898838,\n",
       " 0.551161995898838,\n",
       " 0.5524777853725222,\n",
       " 0.551161995898838,\n",
       " 0.551161995898838,\n",
       " 0.551161995898838,\n",
       " 0.5524777853725222,\n",
       " 0.551161995898838,\n",
       " 0.551161995898838,\n",
       " 0.551161995898838,\n",
       " 0.5524777853725222,\n",
       " 0.551161995898838,\n",
       " 0.551161995898838,\n",
       " 0.551161995898838]"
      ]
     },
     "execution_count": 52,
     "metadata": {},
     "output_type": "execute_result"
    }
   ],
   "source": [
    "SC"
   ]
  },
  {
   "cell_type": "code",
   "execution_count": 53,
   "id": "d41465a2",
   "metadata": {},
   "outputs": [
    {
     "data": {
      "text/plain": [
       "<matplotlib.lines.Line2D at 0x17d52d650a0>"
      ]
     },
     "execution_count": 53,
     "metadata": {},
     "output_type": "execute_result"
    },
    {
     "data": {
      "image/png": "[encoded data removed]",
      "text/plain": [
       "<Figure size 864x360 with 1 Axes>"
      ]
     },
     "metadata": {},
     "output_type": "display_data"
    }
   ],
   "source": [
    "plt.figure(figsize=(12,5))\n",
    "plt.plot(range(1,17),SC, marker='o',markerfacecolor='red',color='black',\n",
    "         markeredgecolor='black',markeredgewidth=1,markersize=13,linestyle='--')\n",
    "plt.axvline(np.argmax(SC)+1,linestyle='--',color='black')"
   ]
  },
  {
   "cell_type": "markdown",
   "id": "ee001ca8",
   "metadata": {},
   "source": [
    "### The best model of logestic Regression\n"
   ]
  },
  {
   "cell_type": "code",
   "execution_count": 54,
   "id": "5687e5af",
   "metadata": {},
   "outputs": [],
   "source": [
    " logr=LogisticRegression(max_iter=grid.iloc[0,0],C=grid.iloc[0,1], random_state=101)"
   ]
  },
  {
   "cell_type": "code",
   "execution_count": 55,
   "id": "ec707289",
   "metadata": {},
   "outputs": [
    {
     "data": {
      "text/plain": [
       "LogisticRegression(C=1, max_iter=200, random_state=101)"
      ]
     },
     "execution_count": 55,
     "metadata": {},
     "output_type": "execute_result"
    }
   ],
   "source": [
    "logr.fit(X_train,y_train)"
   ]
  },
  {
   "cell_type": "code",
   "execution_count": 56,
   "id": "973018b1",
   "metadata": {},
   "outputs": [
    {
     "data": {
      "text/plain": [
       "array([1, 1, 1, 1, 1, 1, 1, 1, 1, 1, 1, 1, 1, 1, 0, 1, 1, 0, 0, 0, 1, 0,\n",
       "       1, 1, 1, 1, 0, 1, 1, 1, 1, 1, 1, 1, 1, 1, 1, 1, 1, 0, 1, 1, 1, 1,\n",
       "       1, 1, 1, 1, 0, 1, 1, 1, 1, 1, 1, 1, 1, 1, 1, 1, 1, 1, 1, 1, 0, 0,\n",
       "       0, 1, 1, 1, 1, 1, 1, 1, 1, 0, 1, 1, 1, 1, 1, 1, 1, 1, 1, 1, 1, 0,\n",
       "       1, 1, 1, 1, 1, 1, 1, 1, 1, 1, 0, 1, 1, 1, 1, 1, 1, 1, 0, 1, 1, 1,\n",
       "       1, 1, 1, 1, 1, 0, 1, 1, 1, 1, 1, 1, 0, 1, 0, 1, 0, 1, 0, 1, 1, 1,\n",
       "       1, 1, 0, 1, 1, 1, 1, 1, 1, 0, 1, 1, 1, 1, 1, 1, 1, 1, 1, 1, 1, 1,\n",
       "       1, 1, 1, 1, 1, 1, 1, 1, 1, 1, 1, 1, 1, 1, 1, 1, 1, 1, 1, 1, 1, 1,\n",
       "       1, 1, 1, 1, 1, 0, 1, 1, 1, 0, 0, 1, 0, 1, 1, 1, 1, 0, 1, 1, 1, 1,\n",
       "       1, 1, 1, 1, 1, 1, 1, 1, 1, 1, 1, 1, 1, 1, 1, 1, 1, 1, 1, 1, 0, 0,\n",
       "       1, 0, 1, 1, 1, 1, 1, 1, 1, 1, 1, 1, 1, 0, 1, 0, 0, 1, 1, 1, 1, 0,\n",
       "       1, 1, 1, 0, 1, 1, 1, 1, 1, 1, 1, 1, 1, 1, 1, 1, 1, 1, 1, 1, 1, 1,\n",
       "       1, 1, 1, 1, 1, 1, 1, 0, 1, 1, 1, 1, 1, 1, 1, 1, 0, 1, 1, 1, 1, 1,\n",
       "       1, 1, 1, 1, 1, 1, 1, 0, 1, 0, 1, 1, 1, 1, 1, 1, 1, 1, 0, 1, 1, 1,\n",
       "       1, 1, 1, 1, 1, 1, 1, 1, 1, 0, 1, 1, 1, 1, 1, 1, 1, 1, 1],\n",
       "      dtype=uint8)"
      ]
     },
     "execution_count": 56,
     "metadata": {},
     "output_type": "execute_result"
    }
   ],
   "source": [
    "pred_logr=logr.predict(X_test)\n",
    "pred_logr"
   ]
  },
  {
   "cell_type": "code",
   "execution_count": 57,
   "id": "31fdbedc",
   "metadata": {},
   "outputs": [
    {
     "data": {
      "text/plain": [
       "array([[ 19, 130],\n",
       "       [ 22, 156]], dtype=int64)"
      ]
     },
     "execution_count": 57,
     "metadata": {},
     "output_type": "execute_result"
    }
   ],
   "source": [
    "from sklearn.metrics import confusion_matrix\n",
    "C_M=confusion_matrix(y_test,pred_logr)\n",
    "C_M"
   ]
  },
  {
   "cell_type": "code",
   "execution_count": 58,
   "id": "7c9a48bb",
   "metadata": {},
   "outputs": [],
   "source": [
    "TN=C_M[0,0]\n",
    "TP=C_M[1,1]\n",
    "FN=C_M[1,0]\n",
    "FP=C_M[0,1]"
   ]
  },
  {
   "cell_type": "code",
   "execution_count": 59,
   "id": "6b666cc0",
   "metadata": {},
   "outputs": [
    {
     "data": {
      "text/html": [
       "<div>\n",
       "<style scoped>\n",
       "    .dataframe tbody tr th:only-of-type {\n",
       "        vertical-align: middle;\n",
       "    }\n",
       "\n",
       "    .dataframe tbody tr th {\n",
       "        vertical-align: top;\n",
       "    }\n",
       "\n",
       "    .dataframe thead th {\n",
       "        text-align: right;\n",
       "    }\n",
       "</style>\n",
       "<table border=\"1\" class=\"dataframe\">\n",
       "  <thead>\n",
       "    <tr style=\"text-align: right;\">\n",
       "      <th></th>\n",
       "      <th>Accuracy</th>\n",
       "      <th>Precision</th>\n",
       "      <th>Sensitivity</th>\n",
       "      <th>Specificity</th>\n",
       "    </tr>\n",
       "  </thead>\n",
       "  <tbody>\n",
       "    <tr>\n",
       "      <th>Logestic Regression</th>\n",
       "      <td>0.535168</td>\n",
       "      <td>0.545455</td>\n",
       "      <td>0.876404</td>\n",
       "      <td>0.127517</td>\n",
       "    </tr>\n",
       "  </tbody>\n",
       "</table>\n",
       "</div>"
      ],
      "text/plain": [
       "                     Accuracy  Precision  Sensitivity  Specificity\n",
       "Logestic Regression  0.535168   0.545455     0.876404     0.127517"
      ]
     },
     "execution_count": 59,
     "metadata": {},
     "output_type": "execute_result"
    }
   ],
   "source": [
    "model_evaluate=pd.DataFrame({'Accuracy':(TN+TP)/(TP+TN+FN+FP),\n",
    "                            'Precision':TP/(TP+FP),\n",
    "                           'Sensitivity':TP/(TP+FN),\n",
    "                           'Specificity':TN/(TN+FP)},\n",
    "                           index=[\"Logestic Regression\"])\n",
    "model_evaluate"
   ]
  },
  {
   "cell_type": "markdown",
   "id": "54552bef",
   "metadata": {},
   "source": [
    "## Decision Tree\n"
   ]
  },
  {
   "cell_type": "code",
   "execution_count": 60,
   "id": "bef1fadd",
   "metadata": {},
   "outputs": [],
   "source": [
    "from sklearn.tree import DecisionTreeClassifier"
   ]
  },
  {
   "cell_type": "code",
   "execution_count": 61,
   "id": "c1c7eb88",
   "metadata": {},
   "outputs": [],
   "source": [
    "Class_tree=DecisionTreeClassifier(max_depth=5,\n",
    "                               min_samples_leaf=5,\n",
    "                               ccp_alpha=0.01)"
   ]
  },
  {
   "cell_type": "code",
   "execution_count": 62,
   "id": "d30a2edc",
   "metadata": {},
   "outputs": [],
   "source": [
    "fit_tree=Class_tree.fit(X_train,y_train)"
   ]
  },
  {
   "cell_type": "code",
   "execution_count": 63,
   "id": "15619439",
   "metadata": {},
   "outputs": [
    {
     "data": {
      "text/plain": [
       "Index(['Lag1', 'Lag2', 'Lag3', 'Lag4', 'Lag5', 'Volume'], dtype='object')"
      ]
     },
     "execution_count": 63,
     "metadata": {},
     "output_type": "execute_result"
    }
   ],
   "source": [
    "X.columns"
   ]
  },
  {
   "cell_type": "code",
   "execution_count": 64,
   "id": "10c6fe7e",
   "metadata": {},
   "outputs": [
    {
     "data": {
      "text/html": [
       "<div>\n",
       "<style scoped>\n",
       "    .dataframe tbody tr th:only-of-type {\n",
       "        vertical-align: middle;\n",
       "    }\n",
       "\n",
       "    .dataframe tbody tr th {\n",
       "        vertical-align: top;\n",
       "    }\n",
       "\n",
       "    .dataframe thead th {\n",
       "        text-align: right;\n",
       "    }\n",
       "</style>\n",
       "<table border=\"1\" class=\"dataframe\">\n",
       "  <thead>\n",
       "    <tr style=\"text-align: right;\">\n",
       "      <th></th>\n",
       "      <th>max_depth</th>\n",
       "      <th>min_samples_leaf</th>\n",
       "      <th>ccp_alpha</th>\n",
       "    </tr>\n",
       "  </thead>\n",
       "  <tbody>\n",
       "    <tr>\n",
       "      <th>1</th>\n",
       "      <td>4</td>\n",
       "      <td>5</td>\n",
       "      <td>0.0001</td>\n",
       "    </tr>\n",
       "    <tr>\n",
       "      <th>2</th>\n",
       "      <td>4</td>\n",
       "      <td>5</td>\n",
       "      <td>0.0010</td>\n",
       "    </tr>\n",
       "    <tr>\n",
       "      <th>3</th>\n",
       "      <td>4</td>\n",
       "      <td>5</td>\n",
       "      <td>0.0100</td>\n",
       "    </tr>\n",
       "    <tr>\n",
       "      <th>4</th>\n",
       "      <td>4</td>\n",
       "      <td>10</td>\n",
       "      <td>0.0001</td>\n",
       "    </tr>\n",
       "    <tr>\n",
       "      <th>5</th>\n",
       "      <td>4</td>\n",
       "      <td>10</td>\n",
       "      <td>0.0010</td>\n",
       "    </tr>\n",
       "    <tr>\n",
       "      <th>6</th>\n",
       "      <td>4</td>\n",
       "      <td>10</td>\n",
       "      <td>0.0100</td>\n",
       "    </tr>\n",
       "    <tr>\n",
       "      <th>7</th>\n",
       "      <td>4</td>\n",
       "      <td>15</td>\n",
       "      <td>0.0001</td>\n",
       "    </tr>\n",
       "    <tr>\n",
       "      <th>8</th>\n",
       "      <td>4</td>\n",
       "      <td>15</td>\n",
       "      <td>0.0010</td>\n",
       "    </tr>\n",
       "    <tr>\n",
       "      <th>9</th>\n",
       "      <td>4</td>\n",
       "      <td>15</td>\n",
       "      <td>0.0100</td>\n",
       "    </tr>\n",
       "    <tr>\n",
       "      <th>10</th>\n",
       "      <td>6</td>\n",
       "      <td>5</td>\n",
       "      <td>0.0001</td>\n",
       "    </tr>\n",
       "    <tr>\n",
       "      <th>11</th>\n",
       "      <td>6</td>\n",
       "      <td>5</td>\n",
       "      <td>0.0010</td>\n",
       "    </tr>\n",
       "    <tr>\n",
       "      <th>12</th>\n",
       "      <td>6</td>\n",
       "      <td>5</td>\n",
       "      <td>0.0100</td>\n",
       "    </tr>\n",
       "    <tr>\n",
       "      <th>13</th>\n",
       "      <td>6</td>\n",
       "      <td>10</td>\n",
       "      <td>0.0001</td>\n",
       "    </tr>\n",
       "    <tr>\n",
       "      <th>14</th>\n",
       "      <td>6</td>\n",
       "      <td>10</td>\n",
       "      <td>0.0010</td>\n",
       "    </tr>\n",
       "    <tr>\n",
       "      <th>15</th>\n",
       "      <td>6</td>\n",
       "      <td>10</td>\n",
       "      <td>0.0100</td>\n",
       "    </tr>\n",
       "    <tr>\n",
       "      <th>16</th>\n",
       "      <td>6</td>\n",
       "      <td>15</td>\n",
       "      <td>0.0001</td>\n",
       "    </tr>\n",
       "    <tr>\n",
       "      <th>17</th>\n",
       "      <td>6</td>\n",
       "      <td>15</td>\n",
       "      <td>0.0010</td>\n",
       "    </tr>\n",
       "    <tr>\n",
       "      <th>18</th>\n",
       "      <td>6</td>\n",
       "      <td>15</td>\n",
       "      <td>0.0100</td>\n",
       "    </tr>\n",
       "    <tr>\n",
       "      <th>19</th>\n",
       "      <td>8</td>\n",
       "      <td>5</td>\n",
       "      <td>0.0001</td>\n",
       "    </tr>\n",
       "    <tr>\n",
       "      <th>20</th>\n",
       "      <td>8</td>\n",
       "      <td>5</td>\n",
       "      <td>0.0010</td>\n",
       "    </tr>\n",
       "    <tr>\n",
       "      <th>21</th>\n",
       "      <td>8</td>\n",
       "      <td>5</td>\n",
       "      <td>0.0100</td>\n",
       "    </tr>\n",
       "    <tr>\n",
       "      <th>22</th>\n",
       "      <td>8</td>\n",
       "      <td>10</td>\n",
       "      <td>0.0001</td>\n",
       "    </tr>\n",
       "    <tr>\n",
       "      <th>23</th>\n",
       "      <td>8</td>\n",
       "      <td>10</td>\n",
       "      <td>0.0010</td>\n",
       "    </tr>\n",
       "    <tr>\n",
       "      <th>24</th>\n",
       "      <td>8</td>\n",
       "      <td>10</td>\n",
       "      <td>0.0100</td>\n",
       "    </tr>\n",
       "    <tr>\n",
       "      <th>25</th>\n",
       "      <td>8</td>\n",
       "      <td>15</td>\n",
       "      <td>0.0001</td>\n",
       "    </tr>\n",
       "    <tr>\n",
       "      <th>26</th>\n",
       "      <td>8</td>\n",
       "      <td>15</td>\n",
       "      <td>0.0010</td>\n",
       "    </tr>\n",
       "    <tr>\n",
       "      <th>27</th>\n",
       "      <td>8</td>\n",
       "      <td>15</td>\n",
       "      <td>0.0100</td>\n",
       "    </tr>\n",
       "  </tbody>\n",
       "</table>\n",
       "</div>"
      ],
      "text/plain": [
       "    max_depth  min_samples_leaf  ccp_alpha\n",
       "1           4                 5     0.0001\n",
       "2           4                 5     0.0010\n",
       "3           4                 5     0.0100\n",
       "4           4                10     0.0001\n",
       "5           4                10     0.0010\n",
       "6           4                10     0.0100\n",
       "7           4                15     0.0001\n",
       "8           4                15     0.0010\n",
       "9           4                15     0.0100\n",
       "10          6                 5     0.0001\n",
       "11          6                 5     0.0010\n",
       "12          6                 5     0.0100\n",
       "13          6                10     0.0001\n",
       "14          6                10     0.0010\n",
       "15          6                10     0.0100\n",
       "16          6                15     0.0001\n",
       "17          6                15     0.0010\n",
       "18          6                15     0.0100\n",
       "19          8                 5     0.0001\n",
       "20          8                 5     0.0010\n",
       "21          8                 5     0.0100\n",
       "22          8                10     0.0001\n",
       "23          8                10     0.0010\n",
       "24          8                10     0.0100\n",
       "25          8                15     0.0001\n",
       "26          8                15     0.0010\n",
       "27          8                15     0.0100"
      ]
     },
     "execution_count": 64,
     "metadata": {},
     "output_type": "execute_result"
    }
   ],
   "source": [
    "import itertools\n",
    "max_depth=[4,6,8]\n",
    "min_samples_leaf=[5,10,15]\n",
    "ccp_alpha=[0.0001,0.001,0.01]\n",
    "grid=list(itertools.product(max_depth,min_samples_leaf,ccp_alpha))\n",
    "grid=pd.DataFrame(grid,index=range(1,28),columns=['max_depth','min_samples_leaf','ccp_alpha'])\n",
    "grid"
   ]
  },
  {
   "cell_type": "code",
   "execution_count": 65,
   "id": "07b2d984",
   "metadata": {},
   "outputs": [],
   "source": [
    "# k fold cross validtion\n",
    "SC=[]\n",
    "for i in range(1,28):\n",
    "    reg_tree=DecisionTreeClassifier(max_depth=grid.loc[i,'max_depth'],\n",
    "                               min_samples_leaf=grid.loc[i,'min_samples_leaf'],\n",
    "                               ccp_alpha=grid.loc[i,'ccp_alpha'],random_state=101)\n",
    "    Scores=cross_val_score(reg_tree,X=X_train,y=y_train,\n",
    "                           cv=10,scoring='accuracy')\n",
    "    SC.append(np.mean(Scores))"
   ]
  },
  {
   "cell_type": "code",
   "execution_count": 66,
   "id": "2a2c07c4",
   "metadata": {},
   "outputs": [
    {
     "data": {
      "text/plain": [
       "[0.5275119617224882,\n",
       " 0.5275119617224882,\n",
       " 0.5603725222146274,\n",
       " 0.5196172248803828,\n",
       " 0.5196172248803828,\n",
       " 0.5603725222146274,\n",
       " 0.526179084073821,\n",
       " 0.526179084073821,\n",
       " 0.5603725222146274,\n",
       " 0.5512645249487355,\n",
       " 0.5512645249487355,\n",
       " 0.5603725222146274,\n",
       " 0.5708988380041011,\n",
       " 0.5708988380041011,\n",
       " 0.5603725222146274,\n",
       " 0.5695488721804511,\n",
       " 0.5695488721804511,\n",
       " 0.5603725222146274,\n",
       " 0.5314593301435406,\n",
       " 0.5340909090909091,\n",
       " 0.5603725222146274,\n",
       " 0.556390977443609,\n",
       " 0.556390977443609,\n",
       " 0.5603725222146274,\n",
       " 0.56026999316473,\n",
       " 0.56026999316473,\n",
       " 0.5603725222146274]"
      ]
     },
     "execution_count": 66,
     "metadata": {},
     "output_type": "execute_result"
    }
   ],
   "source": [
    "SC"
   ]
  },
  {
   "cell_type": "code",
   "execution_count": 67,
   "id": "45a5d815",
   "metadata": {},
   "outputs": [
    {
     "data": {
      "text/plain": [
       "Text(0, 0.5, 'accuracy')"
      ]
     },
     "execution_count": 67,
     "metadata": {},
     "output_type": "execute_result"
    },
    {
     "data": {
      "image/png": "[encoded data removed]",
      "text/plain": [
       "<Figure size 864x360 with 1 Axes>"
      ]
     },
     "metadata": {},
     "output_type": "display_data"
    }
   ],
   "source": [
    "plt.figure(figsize=(12,5))\n",
    "plt.plot(range(1,28),SC,marker='o',markersize=10,\n",
    "         markerfacecolor='red',color='black',\n",
    "        markeredgecolor='blue',markeredgewidth=2)\n",
    "plt.axvline(np.argmax(SC)+1,linestyle='--',color='black')\n",
    "plt.xlabel('The index of grid',fontsize=14,color='blue')\n",
    "plt.ylabel('accuracy',fontsize=14,color='blue')"
   ]
  },
  {
   "cell_type": "markdown",
   "id": "427f9a08",
   "metadata": {},
   "source": [
    "## Apply the best model"
   ]
  },
  {
   "cell_type": "code",
   "execution_count": 68,
   "id": "95f29e13",
   "metadata": {},
   "outputs": [
    {
     "data": {
      "text/plain": [
       "DecisionTreeClassifier(ccp_alpha=0.0001, max_depth=6, min_samples_leaf=10,\n",
       "                       random_state=101)"
      ]
     },
     "execution_count": 68,
     "metadata": {},
     "output_type": "execute_result"
    }
   ],
   "source": [
    "class_tree=DecisionTreeClassifier(max_depth=grid.loc[13,'max_depth'],\n",
    "                               min_samples_leaf=grid.loc[13,'min_samples_leaf'],\n",
    "                               ccp_alpha=grid.loc[13,'ccp_alpha'],random_state=101)\n",
    "class_tree.fit(X_train,y_train)"
   ]
  },
  {
   "cell_type": "code",
   "execution_count": 69,
   "id": "34e078a3",
   "metadata": {},
   "outputs": [
    {
     "data": {
      "text/plain": [
       "array([0, 0, 0, 0, 0, 1, 1, 1, 1, 0, 1, 1, 1, 0, 1, 1, 1, 1, 0, 0, 0, 0,\n",
       "       1, 0, 0, 1, 1, 1, 1, 1, 0, 0, 0, 1, 1, 0, 1, 1, 0, 0, 1, 1, 1, 1,\n",
       "       1, 1, 0, 1, 0, 0, 0, 1, 1, 1, 0, 0, 1, 1, 1, 1, 1, 1, 1, 0, 0, 1,\n",
       "       1, 1, 1, 1, 1, 1, 1, 0, 1, 1, 0, 1, 1, 1, 1, 0, 1, 1, 1, 0, 1, 1,\n",
       "       1, 0, 1, 1, 0, 1, 0, 0, 1, 1, 0, 1, 1, 0, 1, 1, 0, 1, 1, 1, 1, 1,\n",
       "       1, 1, 1, 0, 0, 1, 1, 1, 0, 0, 1, 1, 1, 0, 1, 1, 1, 1, 1, 1, 1, 0,\n",
       "       0, 1, 0, 1, 1, 0, 1, 0, 1, 0, 1, 1, 1, 1, 1, 1, 1, 1, 1, 1, 0, 1,\n",
       "       1, 0, 1, 1, 0, 1, 1, 1, 1, 1, 0, 1, 0, 1, 1, 0, 0, 1, 1, 0, 0, 0,\n",
       "       1, 1, 1, 1, 1, 0, 0, 1, 1, 1, 0, 1, 0, 1, 1, 1, 1, 0, 0, 0, 1, 1,\n",
       "       1, 0, 1, 1, 0, 0, 1, 0, 1, 1, 1, 1, 1, 1, 1, 1, 0, 1, 1, 1, 1, 0,\n",
       "       0, 1, 1, 1, 1, 0, 1, 1, 0, 1, 1, 0, 0, 0, 1, 0, 0, 1, 1, 1, 0, 1,\n",
       "       0, 1, 0, 0, 0, 1, 1, 0, 1, 1, 1, 1, 0, 1, 1, 1, 1, 1, 1, 1, 0, 1,\n",
       "       0, 1, 1, 1, 1, 1, 1, 1, 1, 1, 1, 1, 1, 1, 1, 1, 1, 1, 1, 1, 1, 1,\n",
       "       0, 1, 1, 1, 1, 1, 1, 0, 0, 1, 0, 0, 1, 1, 1, 1, 0, 1, 0, 1, 0, 1,\n",
       "       1, 1, 1, 1, 1, 1, 0, 1, 1, 1, 0, 0, 1, 1, 0, 1, 1, 1, 1],\n",
       "      dtype=uint8)"
      ]
     },
     "execution_count": 69,
     "metadata": {},
     "output_type": "execute_result"
    }
   ],
   "source": [
    "pred_tree=class_tree.predict(X_test)\n",
    "pred_tree"
   ]
  },
  {
   "cell_type": "code",
   "execution_count": 70,
   "id": "001b25cd",
   "metadata": {},
   "outputs": [
    {
     "data": {
      "text/plain": [
       "array([[ 39, 110],\n",
       "       [ 62, 116]], dtype=int64)"
      ]
     },
     "execution_count": 70,
     "metadata": {},
     "output_type": "execute_result"
    }
   ],
   "source": [
    "from sklearn.metrics import confusion_matrix\n",
    "C_M=confusion_matrix(y_test,pred_tree)\n",
    "C_M"
   ]
  },
  {
   "cell_type": "code",
   "execution_count": 71,
   "id": "229b4363",
   "metadata": {},
   "outputs": [],
   "source": [
    "TN=C_M[0,0]\n",
    "TP=C_M[1,1]\n",
    "FN=C_M[1,0]\n",
    "FP=C_M[0,1]"
   ]
  },
  {
   "cell_type": "code",
   "execution_count": 72,
   "id": "295f9b10",
   "metadata": {},
   "outputs": [
    {
     "data": {
      "text/html": [
       "<div>\n",
       "<style scoped>\n",
       "    .dataframe tbody tr th:only-of-type {\n",
       "        vertical-align: middle;\n",
       "    }\n",
       "\n",
       "    .dataframe tbody tr th {\n",
       "        vertical-align: top;\n",
       "    }\n",
       "\n",
       "    .dataframe thead th {\n",
       "        text-align: right;\n",
       "    }\n",
       "</style>\n",
       "<table border=\"1\" class=\"dataframe\">\n",
       "  <thead>\n",
       "    <tr style=\"text-align: right;\">\n",
       "      <th></th>\n",
       "      <th>Accuracy</th>\n",
       "      <th>Precision</th>\n",
       "      <th>Sensitivity</th>\n",
       "      <th>Specificity</th>\n",
       "    </tr>\n",
       "  </thead>\n",
       "  <tbody>\n",
       "    <tr>\n",
       "      <th>Logestic Regression</th>\n",
       "      <td>0.535168</td>\n",
       "      <td>0.545455</td>\n",
       "      <td>0.876404</td>\n",
       "      <td>0.127517</td>\n",
       "    </tr>\n",
       "    <tr>\n",
       "      <th>Decision Tree</th>\n",
       "      <td>0.474006</td>\n",
       "      <td>0.513274</td>\n",
       "      <td>0.651685</td>\n",
       "      <td>0.261745</td>\n",
       "    </tr>\n",
       "  </tbody>\n",
       "</table>\n",
       "</div>"
      ],
      "text/plain": [
       "                     Accuracy  Precision  Sensitivity  Specificity\n",
       "Logestic Regression  0.535168   0.545455     0.876404     0.127517\n",
       "Decision Tree        0.474006   0.513274     0.651685     0.261745"
      ]
     },
     "execution_count": 72,
     "metadata": {},
     "output_type": "execute_result"
    }
   ],
   "source": [
    "model_evaluate=model_evaluate.append(pd.DataFrame({'Accuracy':(TN+TP)/(TP+TN+FN+FP),\n",
    "                            'Precision':TP/(TP+FP),\n",
    "                           'Sensitivity':TP/(TP+FN),\n",
    "                           'Specificity':TN/(TN+FP)},\n",
    "                           index=[\"Decision Tree\"]))\n",
    "model_evaluate"
   ]
  },
  {
   "cell_type": "markdown",
   "id": "c65e9959",
   "metadata": {},
   "source": [
    "## Bagging"
   ]
  },
  {
   "cell_type": "code",
   "execution_count": 73,
   "id": "d0d4500a",
   "metadata": {},
   "outputs": [],
   "source": [
    "from sklearn.ensemble import RandomForestClassifier"
   ]
  },
  {
   "cell_type": "code",
   "execution_count": 74,
   "id": "ccef2aee",
   "metadata": {},
   "outputs": [],
   "source": [
    "bagging_class=RandomForestClassifier(n_estimators=500,max_features=8,random_state=123)"
   ]
  },
  {
   "cell_type": "code",
   "execution_count": 75,
   "id": "3af1aaad",
   "metadata": {},
   "outputs": [
    {
     "data": {
      "text/html": [
       "<div>\n",
       "<style scoped>\n",
       "    .dataframe tbody tr th:only-of-type {\n",
       "        vertical-align: middle;\n",
       "    }\n",
       "\n",
       "    .dataframe tbody tr th {\n",
       "        vertical-align: top;\n",
       "    }\n",
       "\n",
       "    .dataframe thead th {\n",
       "        text-align: right;\n",
       "    }\n",
       "</style>\n",
       "<table border=\"1\" class=\"dataframe\">\n",
       "  <thead>\n",
       "    <tr style=\"text-align: right;\">\n",
       "      <th></th>\n",
       "      <th>n_estimators</th>\n",
       "      <th>min_samples_leaf</th>\n",
       "    </tr>\n",
       "  </thead>\n",
       "  <tbody>\n",
       "    <tr>\n",
       "      <th>1</th>\n",
       "      <td>50</td>\n",
       "      <td>3</td>\n",
       "    </tr>\n",
       "    <tr>\n",
       "      <th>2</th>\n",
       "      <td>50</td>\n",
       "      <td>5</td>\n",
       "    </tr>\n",
       "    <tr>\n",
       "      <th>3</th>\n",
       "      <td>50</td>\n",
       "      <td>7</td>\n",
       "    </tr>\n",
       "    <tr>\n",
       "      <th>4</th>\n",
       "      <td>100</td>\n",
       "      <td>3</td>\n",
       "    </tr>\n",
       "    <tr>\n",
       "      <th>5</th>\n",
       "      <td>100</td>\n",
       "      <td>5</td>\n",
       "    </tr>\n",
       "    <tr>\n",
       "      <th>6</th>\n",
       "      <td>100</td>\n",
       "      <td>7</td>\n",
       "    </tr>\n",
       "    <tr>\n",
       "      <th>7</th>\n",
       "      <td>150</td>\n",
       "      <td>3</td>\n",
       "    </tr>\n",
       "    <tr>\n",
       "      <th>8</th>\n",
       "      <td>150</td>\n",
       "      <td>5</td>\n",
       "    </tr>\n",
       "    <tr>\n",
       "      <th>9</th>\n",
       "      <td>150</td>\n",
       "      <td>7</td>\n",
       "    </tr>\n",
       "  </tbody>\n",
       "</table>\n",
       "</div>"
      ],
      "text/plain": [
       "   n_estimators  min_samples_leaf\n",
       "1            50                 3\n",
       "2            50                 5\n",
       "3            50                 7\n",
       "4           100                 3\n",
       "5           100                 5\n",
       "6           100                 7\n",
       "7           150                 3\n",
       "8           150                 5\n",
       "9           150                 7"
      ]
     },
     "execution_count": 75,
     "metadata": {},
     "output_type": "execute_result"
    }
   ],
   "source": [
    "import itertools\n",
    "n_estimators=[50,100,150]\n",
    "min_samples_leaf=[3,5,7]\n",
    "grid=list(itertools.product(n_estimators,min_samples_leaf))\n",
    "grid=pd.DataFrame(grid,index=range(1,10),columns=['n_estimators','min_samples_leaf'])\n",
    "grid"
   ]
  },
  {
   "cell_type": "code",
   "execution_count": 76,
   "id": "3e80f598",
   "metadata": {},
   "outputs": [],
   "source": [
    "# k fold cross validtion\n",
    "from sklearn.model_selection import cross_val_score\n",
    "SC=[]\n",
    "for i in range(1,10):\n",
    "    rfr=RandomForestClassifier(n_estimators=grid.loc[i,'n_estimators'],\n",
    "                               min_samples_leaf=grid.loc[i,'min_samples_leaf']\n",
    "                            ,random_state=101\n",
    "                             )\n",
    "    Scores=cross_val_score(rfr,X=X_train,y=y_train.values.ravel(),\n",
    "                           cv=5,scoring='accuracy')\n",
    "    SC.append(np.mean(Scores));"
   ]
  },
  {
   "cell_type": "code",
   "execution_count": 77,
   "id": "1b2c5b36",
   "metadata": {},
   "outputs": [
    {
     "data": {
      "text/plain": [
       "[0.5380546955624356,\n",
       " 0.531484348125215,\n",
       " 0.5446766425868593,\n",
       " 0.5406518747850017,\n",
       " 0.5262125902992776,\n",
       " 0.534124527003784,\n",
       " 0.5328087375300998,\n",
       " 0.5249140006879944,\n",
       " 0.5341331269349845]"
      ]
     },
     "execution_count": 77,
     "metadata": {},
     "output_type": "execute_result"
    }
   ],
   "source": [
    "SC"
   ]
  },
  {
   "cell_type": "code",
   "execution_count": 78,
   "id": "3ba43000",
   "metadata": {},
   "outputs": [
    {
     "data": {
      "text/plain": [
       "<matplotlib.lines.Line2D at 0x17d54026220>"
      ]
     },
     "execution_count": 78,
     "metadata": {},
     "output_type": "execute_result"
    },
    {
     "data": {
      "image/png": "[encoded data removed]",
      "text/plain": [
       "<Figure size 864x360 with 1 Axes>"
      ]
     },
     "metadata": {},
     "output_type": "display_data"
    }
   ],
   "source": [
    "plt.figure(figsize=(12,5))\n",
    "plt.plot(range(1,10),SC,marker='o',markersize=10,\n",
    "         markerfacecolor='red',color='black',\n",
    "        markeredgecolor='blue',markeredgewidth=2)\n",
    "plt.axvline(np.argmax(SC)+1,linestyle='--',color='black')"
   ]
  },
  {
   "cell_type": "markdown",
   "id": "afea8a9d",
   "metadata": {},
   "source": [
    "### The best model of Bagging"
   ]
  },
  {
   "cell_type": "code",
   "execution_count": 79,
   "id": "73972852",
   "metadata": {},
   "outputs": [],
   "source": [
    "Bag=RandomForestClassifier(n_estimators=grid.loc[3,'n_estimators'],\n",
    "                               min_samples_leaf=grid.loc[3,'min_samples_leaf']\n",
    "                           ,random_state=101)"
   ]
  },
  {
   "cell_type": "code",
   "execution_count": 80,
   "id": "e3cc0247",
   "metadata": {},
   "outputs": [
    {
     "data": {
      "text/plain": [
       "RandomForestClassifier(min_samples_leaf=7, n_estimators=50, random_state=101)"
      ]
     },
     "execution_count": 80,
     "metadata": {},
     "output_type": "execute_result"
    }
   ],
   "source": [
    "Bag.fit(X_train,y_train.values.ravel())"
   ]
  },
  {
   "cell_type": "markdown",
   "id": "7c6bd72c",
   "metadata": {},
   "source": [
    "## Prediction on test data"
   ]
  },
  {
   "cell_type": "code",
   "execution_count": 81,
   "id": "fdc9e346",
   "metadata": {},
   "outputs": [
    {
     "data": {
      "text/plain": [
       "array([1, 1, 0, 1, 1, 1, 1, 1, 0, 0, 0, 1, 1, 0, 1, 1, 1, 1, 0, 0, 0, 0,\n",
       "       0, 1, 1, 1, 0, 1, 1, 1, 0, 1, 1, 1, 0, 0, 1, 1, 1, 1, 1, 1, 0, 1,\n",
       "       1, 1, 1, 0, 0, 1, 1, 1, 1, 0, 1, 1, 1, 0, 1, 0, 1, 1, 1, 1, 0, 1,\n",
       "       0, 0, 0, 1, 0, 1, 1, 0, 0, 0, 0, 1, 0, 0, 1, 0, 1, 0, 1, 0, 1, 1,\n",
       "       0, 0, 1, 1, 0, 1, 1, 0, 1, 0, 0, 1, 0, 0, 1, 1, 0, 0, 0, 1, 1, 1,\n",
       "       1, 0, 1, 0, 1, 0, 1, 0, 1, 0, 1, 1, 1, 0, 1, 1, 0, 1, 0, 1, 1, 0,\n",
       "       1, 0, 0, 1, 0, 0, 1, 0, 1, 0, 1, 1, 0, 0, 1, 1, 1, 1, 1, 1, 0, 0,\n",
       "       1, 0, 1, 1, 0, 1, 1, 0, 0, 1, 0, 1, 1, 0, 1, 0, 1, 1, 1, 1, 1, 1,\n",
       "       1, 1, 1, 1, 1, 1, 1, 1, 1, 1, 0, 1, 0, 1, 0, 0, 1, 0, 1, 0, 1, 1,\n",
       "       1, 0, 1, 0, 0, 1, 0, 1, 1, 1, 1, 1, 0, 1, 1, 1, 0, 1, 1, 1, 1, 0,\n",
       "       1, 0, 1, 1, 1, 0, 1, 1, 1, 1, 1, 0, 1, 0, 1, 0, 0, 1, 1, 1, 0, 1,\n",
       "       1, 1, 1, 1, 0, 0, 0, 1, 1, 1, 1, 1, 1, 1, 0, 1, 0, 1, 1, 1, 0, 0,\n",
       "       1, 1, 0, 0, 1, 1, 1, 1, 1, 1, 1, 1, 0, 1, 1, 1, 1, 0, 1, 0, 1, 1,\n",
       "       0, 1, 1, 0, 1, 0, 1, 0, 0, 1, 1, 1, 1, 1, 0, 1, 1, 1, 0, 1, 0, 1,\n",
       "       1, 1, 1, 1, 1, 1, 1, 1, 1, 0, 0, 1, 1, 1, 0, 1, 0, 1, 1],\n",
       "      dtype=uint8)"
      ]
     },
     "execution_count": 81,
     "metadata": {},
     "output_type": "execute_result"
    }
   ],
   "source": [
    "pred_Bag=Bag.predict(X_test)\n",
    "pred_Bag"
   ]
  },
  {
   "cell_type": "code",
   "execution_count": 82,
   "id": "691d355d",
   "metadata": {},
   "outputs": [
    {
     "data": {
      "text/plain": [
       "array([[ 55,  94],\n",
       "       [ 60, 118]], dtype=int64)"
      ]
     },
     "execution_count": 82,
     "metadata": {},
     "output_type": "execute_result"
    }
   ],
   "source": [
    "from sklearn.metrics import confusion_matrix\n",
    "C_M=confusion_matrix(y_test,pred_Bag)\n",
    "C_M"
   ]
  },
  {
   "cell_type": "code",
   "execution_count": 83,
   "id": "2edcc6c0",
   "metadata": {},
   "outputs": [],
   "source": [
    "TN=C_M[0,0]\n",
    "TP=C_M[1,1]\n",
    "FN=C_M[1,0]\n",
    "FP=C_M[0,1]"
   ]
  },
  {
   "cell_type": "code",
   "execution_count": 84,
   "id": "07d80324",
   "metadata": {},
   "outputs": [
    {
     "data": {
      "text/html": [
       "<div>\n",
       "<style scoped>\n",
       "    .dataframe tbody tr th:only-of-type {\n",
       "        vertical-align: middle;\n",
       "    }\n",
       "\n",
       "    .dataframe tbody tr th {\n",
       "        vertical-align: top;\n",
       "    }\n",
       "\n",
       "    .dataframe thead th {\n",
       "        text-align: right;\n",
       "    }\n",
       "</style>\n",
       "<table border=\"1\" class=\"dataframe\">\n",
       "  <thead>\n",
       "    <tr style=\"text-align: right;\">\n",
       "      <th></th>\n",
       "      <th>Accuracy</th>\n",
       "      <th>Precision</th>\n",
       "      <th>Sensitivity</th>\n",
       "      <th>Specificity</th>\n",
       "    </tr>\n",
       "  </thead>\n",
       "  <tbody>\n",
       "    <tr>\n",
       "      <th>Logestic Regression</th>\n",
       "      <td>0.535168</td>\n",
       "      <td>0.545455</td>\n",
       "      <td>0.876404</td>\n",
       "      <td>0.127517</td>\n",
       "    </tr>\n",
       "    <tr>\n",
       "      <th>Decision Tree</th>\n",
       "      <td>0.474006</td>\n",
       "      <td>0.513274</td>\n",
       "      <td>0.651685</td>\n",
       "      <td>0.261745</td>\n",
       "    </tr>\n",
       "    <tr>\n",
       "      <th>Bagging</th>\n",
       "      <td>0.529052</td>\n",
       "      <td>0.556604</td>\n",
       "      <td>0.662921</td>\n",
       "      <td>0.369128</td>\n",
       "    </tr>\n",
       "  </tbody>\n",
       "</table>\n",
       "</div>"
      ],
      "text/plain": [
       "                     Accuracy  Precision  Sensitivity  Specificity\n",
       "Logestic Regression  0.535168   0.545455     0.876404     0.127517\n",
       "Decision Tree        0.474006   0.513274     0.651685     0.261745\n",
       "Bagging              0.529052   0.556604     0.662921     0.369128"
      ]
     },
     "execution_count": 84,
     "metadata": {},
     "output_type": "execute_result"
    }
   ],
   "source": [
    "model_evaluate=model_evaluate.append(pd.DataFrame({'Accuracy':(TN+TP)/(TP+TN+FN+FP),\n",
    "                            'Precision':TP/(TP+FP),\n",
    "                           'Sensitivity':TP/(TP+FN),\n",
    "                           'Specificity':TN/(TN+FP)},\n",
    "                           index=[\"Bagging\"]))\n",
    "model_evaluate"
   ]
  },
  {
   "cell_type": "markdown",
   "id": "6b257173",
   "metadata": {},
   "source": [
    "# RandomForest"
   ]
  },
  {
   "cell_type": "code",
   "execution_count": 85,
   "id": "1e54a845",
   "metadata": {},
   "outputs": [],
   "source": [
    "from sklearn.ensemble import RandomForestClassifier"
   ]
  },
  {
   "cell_type": "code",
   "execution_count": 86,
   "id": "005aea81",
   "metadata": {},
   "outputs": [],
   "source": [
    "RFC=RandomForestClassifier(n_estimators=100,max_depth=4,max_features=4,min_samples_leaf=1,random_state=101)"
   ]
  },
  {
   "cell_type": "code",
   "execution_count": 87,
   "id": "bbab27bc",
   "metadata": {},
   "outputs": [
    {
     "data": {
      "text/html": [
       "<div>\n",
       "<style scoped>\n",
       "    .dataframe tbody tr th:only-of-type {\n",
       "        vertical-align: middle;\n",
       "    }\n",
       "\n",
       "    .dataframe tbody tr th {\n",
       "        vertical-align: top;\n",
       "    }\n",
       "\n",
       "    .dataframe thead th {\n",
       "        text-align: right;\n",
       "    }\n",
       "</style>\n",
       "<table border=\"1\" class=\"dataframe\">\n",
       "  <thead>\n",
       "    <tr style=\"text-align: right;\">\n",
       "      <th></th>\n",
       "      <th>n_estimators</th>\n",
       "      <th>min_samples_leaf</th>\n",
       "      <th>max_features</th>\n",
       "    </tr>\n",
       "  </thead>\n",
       "  <tbody>\n",
       "    <tr>\n",
       "      <th>1</th>\n",
       "      <td>50</td>\n",
       "      <td>3</td>\n",
       "      <td>2</td>\n",
       "    </tr>\n",
       "    <tr>\n",
       "      <th>2</th>\n",
       "      <td>50</td>\n",
       "      <td>3</td>\n",
       "      <td>3</td>\n",
       "    </tr>\n",
       "    <tr>\n",
       "      <th>3</th>\n",
       "      <td>50</td>\n",
       "      <td>3</td>\n",
       "      <td>4</td>\n",
       "    </tr>\n",
       "    <tr>\n",
       "      <th>4</th>\n",
       "      <td>50</td>\n",
       "      <td>5</td>\n",
       "      <td>2</td>\n",
       "    </tr>\n",
       "    <tr>\n",
       "      <th>5</th>\n",
       "      <td>50</td>\n",
       "      <td>5</td>\n",
       "      <td>3</td>\n",
       "    </tr>\n",
       "    <tr>\n",
       "      <th>6</th>\n",
       "      <td>50</td>\n",
       "      <td>5</td>\n",
       "      <td>4</td>\n",
       "    </tr>\n",
       "    <tr>\n",
       "      <th>7</th>\n",
       "      <td>50</td>\n",
       "      <td>7</td>\n",
       "      <td>2</td>\n",
       "    </tr>\n",
       "    <tr>\n",
       "      <th>8</th>\n",
       "      <td>50</td>\n",
       "      <td>7</td>\n",
       "      <td>3</td>\n",
       "    </tr>\n",
       "    <tr>\n",
       "      <th>9</th>\n",
       "      <td>50</td>\n",
       "      <td>7</td>\n",
       "      <td>4</td>\n",
       "    </tr>\n",
       "    <tr>\n",
       "      <th>10</th>\n",
       "      <td>100</td>\n",
       "      <td>3</td>\n",
       "      <td>2</td>\n",
       "    </tr>\n",
       "    <tr>\n",
       "      <th>11</th>\n",
       "      <td>100</td>\n",
       "      <td>3</td>\n",
       "      <td>3</td>\n",
       "    </tr>\n",
       "    <tr>\n",
       "      <th>12</th>\n",
       "      <td>100</td>\n",
       "      <td>3</td>\n",
       "      <td>4</td>\n",
       "    </tr>\n",
       "    <tr>\n",
       "      <th>13</th>\n",
       "      <td>100</td>\n",
       "      <td>5</td>\n",
       "      <td>2</td>\n",
       "    </tr>\n",
       "    <tr>\n",
       "      <th>14</th>\n",
       "      <td>100</td>\n",
       "      <td>5</td>\n",
       "      <td>3</td>\n",
       "    </tr>\n",
       "    <tr>\n",
       "      <th>15</th>\n",
       "      <td>100</td>\n",
       "      <td>5</td>\n",
       "      <td>4</td>\n",
       "    </tr>\n",
       "    <tr>\n",
       "      <th>16</th>\n",
       "      <td>100</td>\n",
       "      <td>7</td>\n",
       "      <td>2</td>\n",
       "    </tr>\n",
       "    <tr>\n",
       "      <th>17</th>\n",
       "      <td>100</td>\n",
       "      <td>7</td>\n",
       "      <td>3</td>\n",
       "    </tr>\n",
       "    <tr>\n",
       "      <th>18</th>\n",
       "      <td>100</td>\n",
       "      <td>7</td>\n",
       "      <td>4</td>\n",
       "    </tr>\n",
       "    <tr>\n",
       "      <th>19</th>\n",
       "      <td>150</td>\n",
       "      <td>3</td>\n",
       "      <td>2</td>\n",
       "    </tr>\n",
       "    <tr>\n",
       "      <th>20</th>\n",
       "      <td>150</td>\n",
       "      <td>3</td>\n",
       "      <td>3</td>\n",
       "    </tr>\n",
       "    <tr>\n",
       "      <th>21</th>\n",
       "      <td>150</td>\n",
       "      <td>3</td>\n",
       "      <td>4</td>\n",
       "    </tr>\n",
       "    <tr>\n",
       "      <th>22</th>\n",
       "      <td>150</td>\n",
       "      <td>5</td>\n",
       "      <td>2</td>\n",
       "    </tr>\n",
       "    <tr>\n",
       "      <th>23</th>\n",
       "      <td>150</td>\n",
       "      <td>5</td>\n",
       "      <td>3</td>\n",
       "    </tr>\n",
       "    <tr>\n",
       "      <th>24</th>\n",
       "      <td>150</td>\n",
       "      <td>5</td>\n",
       "      <td>4</td>\n",
       "    </tr>\n",
       "    <tr>\n",
       "      <th>25</th>\n",
       "      <td>150</td>\n",
       "      <td>7</td>\n",
       "      <td>2</td>\n",
       "    </tr>\n",
       "    <tr>\n",
       "      <th>26</th>\n",
       "      <td>150</td>\n",
       "      <td>7</td>\n",
       "      <td>3</td>\n",
       "    </tr>\n",
       "    <tr>\n",
       "      <th>27</th>\n",
       "      <td>150</td>\n",
       "      <td>7</td>\n",
       "      <td>4</td>\n",
       "    </tr>\n",
       "  </tbody>\n",
       "</table>\n",
       "</div>"
      ],
      "text/plain": [
       "    n_estimators  min_samples_leaf  max_features\n",
       "1             50                 3             2\n",
       "2             50                 3             3\n",
       "3             50                 3             4\n",
       "4             50                 5             2\n",
       "5             50                 5             3\n",
       "6             50                 5             4\n",
       "7             50                 7             2\n",
       "8             50                 7             3\n",
       "9             50                 7             4\n",
       "10           100                 3             2\n",
       "11           100                 3             3\n",
       "12           100                 3             4\n",
       "13           100                 5             2\n",
       "14           100                 5             3\n",
       "15           100                 5             4\n",
       "16           100                 7             2\n",
       "17           100                 7             3\n",
       "18           100                 7             4\n",
       "19           150                 3             2\n",
       "20           150                 3             3\n",
       "21           150                 3             4\n",
       "22           150                 5             2\n",
       "23           150                 5             3\n",
       "24           150                 5             4\n",
       "25           150                 7             2\n",
       "26           150                 7             3\n",
       "27           150                 7             4"
      ]
     },
     "execution_count": 87,
     "metadata": {},
     "output_type": "execute_result"
    }
   ],
   "source": [
    "n_estimators=[50,100,150]\n",
    "min_samples_leaf=[3,5,7]\n",
    "max_features=[2,3,4]\n",
    "grid=list(itertools.product(n_estimators,min_samples_leaf,max_features))\n",
    "grid=pd.DataFrame(grid,index=range(1,28),columns=['n_estimators','min_samples_leaf','max_features'])\n",
    "grid"
   ]
  },
  {
   "cell_type": "code",
   "execution_count": 88,
   "id": "b867ae1b",
   "metadata": {},
   "outputs": [],
   "source": [
    "# k fold cross validtion\n",
    "from sklearn.model_selection import cross_val_score\n",
    "SC=[]\n",
    "for i in range(1,28):\n",
    "    RFC=RandomForestClassifier(n_estimators=grid.loc[i,'n_estimators'],\n",
    "                               min_samples_leaf=grid.loc[i,'min_samples_leaf'],\n",
    "                               max_features=grid.loc[i,'max_features'],random_state=101\n",
    "                             )\n",
    "    Scores=cross_val_score(RFC,X=X_train,y=y_train.values.ravel(),\n",
    "                           cv=5,scoring='accuracy')\n",
    "    SC.append(np.mean(Scores));"
   ]
  },
  {
   "cell_type": "code",
   "execution_count": 89,
   "id": "e2322c81",
   "metadata": {},
   "outputs": [
    {
     "data": {
      "text/plain": [
       "[0.5380546955624356,\n",
       " 0.5302201582387341,\n",
       " 0.5223168214654283,\n",
       " 0.531484348125215,\n",
       " 0.5406346749226006,\n",
       " 0.5511351909184727,\n",
       " 0.5446766425868593,\n",
       " 0.530202958376333,\n",
       " 0.534124527003784,\n",
       " 0.5406518747850017,\n",
       " 0.5262813897488821,\n",
       " 0.5026401788785689,\n",
       " 0.5262125902992776,\n",
       " 0.5380116959064327,\n",
       " 0.5340901272789818,\n",
       " 0.534124527003784,\n",
       " 0.5157378740970071,\n",
       " 0.5275369797041624,\n",
       " 0.5328087375300998,\n",
       " 0.5289129686962506,\n",
       " 0.5144306845545236,\n",
       " 0.5249140006879944,\n",
       " 0.5393790849673202,\n",
       " 0.5288699690402476,\n",
       " 0.5341331269349845,\n",
       " 0.5288871689026488,\n",
       " 0.5340901272789818]"
      ]
     },
     "execution_count": 89,
     "metadata": {},
     "output_type": "execute_result"
    }
   ],
   "source": [
    "SC"
   ]
  },
  {
   "cell_type": "code",
   "execution_count": 90,
   "id": "90432c9c",
   "metadata": {},
   "outputs": [
    {
     "data": {
      "text/plain": [
       "<matplotlib.lines.Line2D at 0x17d52de7a60>"
      ]
     },
     "execution_count": 90,
     "metadata": {},
     "output_type": "execute_result"
    },
    {
     "data": {
      "image/png": "[encoded data removed]",
      "text/plain": [
       "<Figure size 864x360 with 1 Axes>"
      ]
     },
     "metadata": {},
     "output_type": "display_data"
    }
   ],
   "source": [
    "plt.figure(figsize=(12,5))\n",
    "plt.plot(range(1,28),SC,marker='o',markersize=10,\n",
    "         markerfacecolor='red',linestyle='--',color='black',\n",
    "        markeredgecolor='black')\n",
    "plt.axvline(np.argmax(SC)+1,color='black',linestyle='--')"
   ]
  },
  {
   "cell_type": "markdown",
   "id": "2e6b156a",
   "metadata": {},
   "source": [
    "### The best model of RandomForest\n"
   ]
  },
  {
   "cell_type": "code",
   "execution_count": 91,
   "id": "de1ad8ac",
   "metadata": {},
   "outputs": [],
   "source": [
    "RFC=RandomForestClassifier(n_estimators=grid.loc[6,'n_estimators'],\n",
    "                               min_samples_leaf=grid.loc[6,'min_samples_leaf'],\n",
    "                               max_features=grid.loc[6,'max_features'],random_state=101)"
   ]
  },
  {
   "cell_type": "code",
   "execution_count": 92,
   "id": "92ed2345",
   "metadata": {},
   "outputs": [
    {
     "data": {
      "text/plain": [
       "RandomForestClassifier(max_features=4, min_samples_leaf=5, n_estimators=50,\n",
       "                       random_state=101)"
      ]
     },
     "execution_count": 92,
     "metadata": {},
     "output_type": "execute_result"
    }
   ],
   "source": [
    "RFC.fit(X_train,y_train.values.ravel())"
   ]
  },
  {
   "cell_type": "markdown",
   "id": "8a48e69f",
   "metadata": {},
   "source": [
    "### The importance of variable"
   ]
  },
  {
   "cell_type": "code",
   "execution_count": 93,
   "id": "080dac9d",
   "metadata": {},
   "outputs": [
    {
     "data": {
      "text/html": [
       "<div>\n",
       "<style scoped>\n",
       "    .dataframe tbody tr th:only-of-type {\n",
       "        vertical-align: middle;\n",
       "    }\n",
       "\n",
       "    .dataframe tbody tr th {\n",
       "        vertical-align: top;\n",
       "    }\n",
       "\n",
       "    .dataframe thead th {\n",
       "        text-align: right;\n",
       "    }\n",
       "</style>\n",
       "<table border=\"1\" class=\"dataframe\">\n",
       "  <thead>\n",
       "    <tr style=\"text-align: right;\">\n",
       "      <th></th>\n",
       "      <th>importance</th>\n",
       "    </tr>\n",
       "  </thead>\n",
       "  <tbody>\n",
       "    <tr>\n",
       "      <th>Lag1</th>\n",
       "      <td>0.188159</td>\n",
       "    </tr>\n",
       "    <tr>\n",
       "      <th>Lag2</th>\n",
       "      <td>0.201644</td>\n",
       "    </tr>\n",
       "    <tr>\n",
       "      <th>Lag3</th>\n",
       "      <td>0.133465</td>\n",
       "    </tr>\n",
       "    <tr>\n",
       "      <th>Lag4</th>\n",
       "      <td>0.155651</td>\n",
       "    </tr>\n",
       "    <tr>\n",
       "      <th>Lag5</th>\n",
       "      <td>0.189330</td>\n",
       "    </tr>\n",
       "    <tr>\n",
       "      <th>Volume</th>\n",
       "      <td>0.131750</td>\n",
       "    </tr>\n",
       "  </tbody>\n",
       "</table>\n",
       "</div>"
      ],
      "text/plain": [
       "        importance\n",
       "Lag1      0.188159\n",
       "Lag2      0.201644\n",
       "Lag3      0.133465\n",
       "Lag4      0.155651\n",
       "Lag5      0.189330\n",
       "Volume    0.131750"
      ]
     },
     "execution_count": 93,
     "metadata": {},
     "output_type": "execute_result"
    }
   ],
   "source": [
    "RFC.feature_importances_\n",
    "importance=pd.DataFrame(RFC.feature_importances_,index=[X_train.columns],columns=[\"importance\"])\n",
    "importance"
   ]
  },
  {
   "cell_type": "code",
   "execution_count": 94,
   "id": "3b451cb4",
   "metadata": {},
   "outputs": [
    {
     "data": {
      "text/plain": [
       "<Figure size 1080x720 with 0 Axes>"
      ]
     },
     "metadata": {},
     "output_type": "display_data"
    },
    {
     "data": {
      "image/png": "[encoded data removed]",
      "text/plain": [
       "<Figure size 432x288 with 1 Axes>"
      ]
     },
     "metadata": {},
     "output_type": "display_data"
    }
   ],
   "source": [
    "plt.figure(figsize=(15,10))\n",
    "importance.sort_values(by='importance',ascending=True).plot(kind='barh',color='red',legend=None)\n",
    "plt.xlabel('Importance',color='blue',fontsize=12)\n",
    "plt.ylabel('Features',color='blue',fontsize=12)\n",
    "plt.title('The Importance of variable',color='blue',fontsize=14);"
   ]
  },
  {
   "cell_type": "markdown",
   "id": "aa240193",
   "metadata": {},
   "source": [
    "## Prediction on test data"
   ]
  },
  {
   "cell_type": "code",
   "execution_count": 95,
   "id": "c8208c4d",
   "metadata": {},
   "outputs": [
    {
     "data": {
      "text/plain": [
       "array([1, 1, 0, 1, 1, 1, 1, 1, 0, 0, 0, 1, 1, 0, 0, 1, 0, 1, 0, 0, 1, 0,\n",
       "       0, 0, 1, 1, 0, 1, 1, 1, 0, 1, 1, 1, 0, 0, 1, 1, 1, 1, 0, 1, 0, 1,\n",
       "       1, 0, 1, 0, 0, 0, 1, 1, 1, 0, 1, 1, 1, 0, 0, 1, 1, 1, 1, 1, 1, 0,\n",
       "       1, 0, 0, 1, 0, 1, 1, 1, 0, 1, 0, 1, 1, 0, 1, 0, 1, 1, 1, 0, 1, 1,\n",
       "       0, 0, 1, 1, 0, 1, 1, 0, 1, 1, 0, 1, 0, 0, 1, 1, 0, 1, 0, 1, 1, 1,\n",
       "       1, 0, 1, 0, 1, 0, 1, 0, 1, 0, 1, 1, 1, 0, 0, 0, 0, 1, 0, 1, 0, 0,\n",
       "       1, 0, 0, 1, 0, 0, 0, 0, 1, 0, 1, 1, 0, 0, 1, 1, 1, 1, 0, 1, 0, 0,\n",
       "       1, 0, 1, 1, 0, 1, 1, 0, 0, 1, 0, 1, 1, 0, 1, 0, 0, 1, 1, 1, 1, 1,\n",
       "       1, 1, 1, 1, 1, 1, 1, 1, 1, 1, 0, 1, 0, 1, 1, 1, 1, 0, 1, 0, 1, 1,\n",
       "       1, 0, 1, 1, 0, 1, 1, 1, 1, 1, 0, 1, 0, 1, 1, 1, 1, 1, 1, 1, 1, 0,\n",
       "       1, 0, 1, 0, 1, 0, 1, 1, 1, 1, 1, 0, 1, 0, 1, 0, 0, 1, 1, 1, 1, 1,\n",
       "       1, 1, 1, 0, 1, 0, 1, 1, 1, 1, 1, 1, 1, 1, 0, 1, 0, 1, 1, 1, 1, 1,\n",
       "       1, 1, 0, 0, 1, 1, 1, 1, 1, 1, 1, 1, 0, 1, 1, 1, 1, 0, 1, 1, 1, 1,\n",
       "       0, 1, 1, 1, 1, 0, 1, 1, 0, 1, 1, 1, 1, 1, 0, 1, 1, 0, 0, 1, 0, 1,\n",
       "       1, 0, 1, 1, 1, 0, 1, 1, 1, 1, 0, 1, 1, 1, 0, 1, 0, 0, 1],\n",
       "      dtype=uint8)"
      ]
     },
     "execution_count": 95,
     "metadata": {},
     "output_type": "execute_result"
    }
   ],
   "source": [
    "pred_rfc=RFC.predict(X_test)\n",
    "pred_rfc"
   ]
  },
  {
   "cell_type": "code",
   "execution_count": 96,
   "id": "1161b448",
   "metadata": {},
   "outputs": [
    {
     "data": {
      "text/plain": [
       "array([[ 48, 101],\n",
       "       [ 64, 114]], dtype=int64)"
      ]
     },
     "execution_count": 96,
     "metadata": {},
     "output_type": "execute_result"
    }
   ],
   "source": [
    "from sklearn.metrics import confusion_matrix\n",
    "C_M=confusion_matrix(y_test,pred_rfc)\n",
    "C_M"
   ]
  },
  {
   "cell_type": "code",
   "execution_count": 97,
   "id": "e21d9223",
   "metadata": {},
   "outputs": [],
   "source": [
    "TN=C_M[0,0]\n",
    "TP=C_M[1,1]\n",
    "FN=C_M[1,0]\n",
    "FP=C_M[0,1]"
   ]
  },
  {
   "cell_type": "code",
   "execution_count": 98,
   "id": "e0d4b5d6",
   "metadata": {},
   "outputs": [
    {
     "data": {
      "text/html": [
       "<div>\n",
       "<style scoped>\n",
       "    .dataframe tbody tr th:only-of-type {\n",
       "        vertical-align: middle;\n",
       "    }\n",
       "\n",
       "    .dataframe tbody tr th {\n",
       "        vertical-align: top;\n",
       "    }\n",
       "\n",
       "    .dataframe thead th {\n",
       "        text-align: right;\n",
       "    }\n",
       "</style>\n",
       "<table border=\"1\" class=\"dataframe\">\n",
       "  <thead>\n",
       "    <tr style=\"text-align: right;\">\n",
       "      <th></th>\n",
       "      <th>Accuracy</th>\n",
       "      <th>Precision</th>\n",
       "      <th>Sensitivity</th>\n",
       "      <th>Specificity</th>\n",
       "    </tr>\n",
       "  </thead>\n",
       "  <tbody>\n",
       "    <tr>\n",
       "      <th>Logestic Regression</th>\n",
       "      <td>0.535168</td>\n",
       "      <td>0.545455</td>\n",
       "      <td>0.876404</td>\n",
       "      <td>0.127517</td>\n",
       "    </tr>\n",
       "    <tr>\n",
       "      <th>Decision Tree</th>\n",
       "      <td>0.474006</td>\n",
       "      <td>0.513274</td>\n",
       "      <td>0.651685</td>\n",
       "      <td>0.261745</td>\n",
       "    </tr>\n",
       "    <tr>\n",
       "      <th>Bagging</th>\n",
       "      <td>0.529052</td>\n",
       "      <td>0.556604</td>\n",
       "      <td>0.662921</td>\n",
       "      <td>0.369128</td>\n",
       "    </tr>\n",
       "    <tr>\n",
       "      <th>Random Forest</th>\n",
       "      <td>0.495413</td>\n",
       "      <td>0.530233</td>\n",
       "      <td>0.640449</td>\n",
       "      <td>0.322148</td>\n",
       "    </tr>\n",
       "  </tbody>\n",
       "</table>\n",
       "</div>"
      ],
      "text/plain": [
       "                     Accuracy  Precision  Sensitivity  Specificity\n",
       "Logestic Regression  0.535168   0.545455     0.876404     0.127517\n",
       "Decision Tree        0.474006   0.513274     0.651685     0.261745\n",
       "Bagging              0.529052   0.556604     0.662921     0.369128\n",
       "Random Forest        0.495413   0.530233     0.640449     0.322148"
      ]
     },
     "execution_count": 98,
     "metadata": {},
     "output_type": "execute_result"
    }
   ],
   "source": [
    "model_evaluate=model_evaluate.append(pd.DataFrame({'Accuracy':(TN+TP)/(TP+TN+FN+FP),\n",
    "                            'Precision':TP/(TP+FP),\n",
    "                           'Sensitivity':TP/(TP+FN),\n",
    "                           'Specificity':TN/(TN+FP)},\n",
    "                           index=[\"Random Forest\"]))\n",
    "model_evaluate"
   ]
  },
  {
   "cell_type": "markdown",
   "id": "23950f74",
   "metadata": {},
   "source": [
    "# Linear Discriminant analysis\n"
   ]
  },
  {
   "cell_type": "code",
   "execution_count": 99,
   "id": "c88e52e8",
   "metadata": {},
   "outputs": [],
   "source": [
    "from sklearn.discriminant_analysis import LinearDiscriminantAnalysis"
   ]
  },
  {
   "cell_type": "code",
   "execution_count": 100,
   "id": "b5b6bc51",
   "metadata": {},
   "outputs": [],
   "source": [
    "lda=LinearDiscriminantAnalysis()"
   ]
  },
  {
   "cell_type": "code",
   "execution_count": 101,
   "id": "5d5084b2",
   "metadata": {},
   "outputs": [
    {
     "data": {
      "text/plain": [
       "LinearDiscriminantAnalysis()"
      ]
     },
     "execution_count": 101,
     "metadata": {},
     "output_type": "execute_result"
    }
   ],
   "source": [
    "lda.fit(X_train,y_train)"
   ]
  },
  {
   "cell_type": "code",
   "execution_count": 102,
   "id": "6bf4c79f",
   "metadata": {},
   "outputs": [
    {
     "data": {
      "text/plain": [
       "array([[0.36497501, 0.63502499],\n",
       "       [0.42374   , 0.57626   ],\n",
       "       [0.46268528, 0.53731472],\n",
       "       [0.43854629, 0.56145371],\n",
       "       [0.43064585, 0.56935415],\n",
       "       [0.45829383, 0.54170617],\n",
       "       [0.43496468, 0.56503532],\n",
       "       [0.49335588, 0.50664412],\n",
       "       [0.43668146, 0.56331854],\n",
       "       [0.39815987, 0.60184013],\n",
       "       [0.4687066 , 0.5312934 ],\n",
       "       [0.30310126, 0.69689874],\n",
       "       [0.44627397, 0.55372603],\n",
       "       [0.4060248 , 0.5939752 ],\n",
       "       [0.52003886, 0.47996114],\n",
       "       [0.39656369, 0.60343631],\n",
       "       [0.434792  , 0.565208  ],\n",
       "       [0.49952968, 0.50047032],\n",
       "       [0.72048984, 0.27951016],\n",
       "       [0.55383894, 0.44616106],\n",
       "       [0.48894768, 0.51105232],\n",
       "       [0.57767877, 0.42232123],\n",
       "       [0.46231754, 0.53768246],\n",
       "       [0.48876088, 0.51123912],\n",
       "       [0.42409682, 0.57590318],\n",
       "       [0.36879563, 0.63120437],\n",
       "       [0.50790811, 0.49209189],\n",
       "       [0.45734782, 0.54265218],\n",
       "       [0.42409236, 0.57590764],\n",
       "       [0.43195141, 0.56804859],\n",
       "       [0.41142765, 0.58857235],\n",
       "       [0.35788071, 0.64211929],\n",
       "       [0.43407483, 0.56592517],\n",
       "       [0.4344544 , 0.5655456 ],\n",
       "       [0.48045668, 0.51954332],\n",
       "       [0.42617916, 0.57382084],\n",
       "       [0.34254747, 0.65745253],\n",
       "       [0.41187941, 0.58812059],\n",
       "       [0.42517589, 0.57482411],\n",
       "       [0.56298661, 0.43701339],\n",
       "       [0.48847414, 0.51152586],\n",
       "       [0.40631207, 0.59368793],\n",
       "       [0.49758886, 0.50241114],\n",
       "       [0.39934681, 0.60065319],\n",
       "       [0.44559858, 0.55440142],\n",
       "       [0.42844406, 0.57155594],\n",
       "       [0.43873723, 0.56126277],\n",
       "       [0.44779662, 0.55220338],\n",
       "       [0.51233047, 0.48766953],\n",
       "       [0.4088588 , 0.5911412 ],\n",
       "       [0.43123554, 0.56876446],\n",
       "       [0.39200477, 0.60799523],\n",
       "       [0.27197642, 0.72802358],\n",
       "       [0.44096299, 0.55903701],\n",
       "       [0.45765499, 0.54234501],\n",
       "       [0.41628204, 0.58371796],\n",
       "       [0.40302962, 0.59697038],\n",
       "       [0.48130258, 0.51869742],\n",
       "       [0.49551676, 0.50448324],\n",
       "       [0.49530573, 0.50469427],\n",
       "       [0.4172733 , 0.5827267 ],\n",
       "       [0.44125007, 0.55874993],\n",
       "       [0.39558374, 0.60441626],\n",
       "       [0.39083189, 0.60916811],\n",
       "       [0.50699685, 0.49300315],\n",
       "       [0.51249767, 0.48750233],\n",
       "       [0.53353269, 0.46646731],\n",
       "       [0.46499738, 0.53500262],\n",
       "       [0.48733015, 0.51266985],\n",
       "       [0.42536246, 0.57463754],\n",
       "       [0.49123996, 0.50876004],\n",
       "       [0.47169095, 0.52830905],\n",
       "       [0.42882421, 0.57117579],\n",
       "       [0.48797202, 0.51202798],\n",
       "       [0.4944954 , 0.5055046 ],\n",
       "       [0.52777084, 0.47222916],\n",
       "       [0.45121315, 0.54878685],\n",
       "       [0.41821846, 0.58178154],\n",
       "       [0.4618564 , 0.5381436 ],\n",
       "       [0.40100218, 0.59899782],\n",
       "       [0.48627437, 0.51372563],\n",
       "       [0.44171005, 0.55828995],\n",
       "       [0.42417598, 0.57582402],\n",
       "       [0.49603986, 0.50396014],\n",
       "       [0.45760856, 0.54239144],\n",
       "       [0.48766178, 0.51233822],\n",
       "       [0.43418839, 0.56581161],\n",
       "       [0.50764447, 0.49235553],\n",
       "       [0.42501987, 0.57498013],\n",
       "       [0.47726011, 0.52273989],\n",
       "       [0.45406707, 0.54593293],\n",
       "       [0.44306983, 0.55693017],\n",
       "       [0.46253467, 0.53746533],\n",
       "       [0.44091852, 0.55908148],\n",
       "       [0.38835694, 0.61164306],\n",
       "       [0.42556795, 0.57443205],\n",
       "       [0.44127039, 0.55872961],\n",
       "       [0.43619217, 0.56380783],\n",
       "       [0.50416084, 0.49583916],\n",
       "       [0.44725155, 0.55274845],\n",
       "       [0.42822403, 0.57177597],\n",
       "       [0.45490351, 0.54509649],\n",
       "       [0.44721953, 0.55278047],\n",
       "       [0.33451408, 0.66548592],\n",
       "       [0.48207401, 0.51792599],\n",
       "       [0.40801377, 0.59198623],\n",
       "       [0.51356154, 0.48643846],\n",
       "       [0.4294374 , 0.5705626 ],\n",
       "       [0.38419331, 0.61580669],\n",
       "       [0.4350498 , 0.5649502 ],\n",
       "       [0.3510132 , 0.6489868 ],\n",
       "       [0.3567183 , 0.6432817 ],\n",
       "       [0.32358921, 0.67641079],\n",
       "       [0.40811077, 0.59188923],\n",
       "       [0.33736088, 0.66263912],\n",
       "       [0.50979351, 0.49020649],\n",
       "       [0.49519919, 0.50480081],\n",
       "       [0.47217947, 0.52782053],\n",
       "       [0.32329092, 0.67670908],\n",
       "       [0.42647966, 0.57352034],\n",
       "       [0.42422742, 0.57577258],\n",
       "       [0.46173078, 0.53826922],\n",
       "       [0.5267748 , 0.4732252 ],\n",
       "       [0.45766583, 0.54233417],\n",
       "       [0.49753564, 0.50246436],\n",
       "       [0.41682998, 0.58317002],\n",
       "       [0.52169035, 0.47830965],\n",
       "       [0.37328573, 0.62671427],\n",
       "       [0.50556478, 0.49443522],\n",
       "       [0.33358355, 0.66641645],\n",
       "       [0.44562158, 0.55437842],\n",
       "       [0.43073606, 0.56926394],\n",
       "       [0.40489209, 0.59510791],\n",
       "       [0.39949071, 0.60050929],\n",
       "       [0.52479321, 0.47520679],\n",
       "       [0.46822915, 0.53177085],\n",
       "       [0.48724491, 0.51275509],\n",
       "       [0.46295858, 0.53704142],\n",
       "       [0.48839662, 0.51160338],\n",
       "       [0.43588645, 0.56411355],\n",
       "       [0.44576533, 0.55423467],\n",
       "       [0.53464685, 0.46535315],\n",
       "       [0.44164535, 0.55835465],\n",
       "       [0.46248124, 0.53751876],\n",
       "       [0.46967759, 0.53032241],\n",
       "       [0.48525318, 0.51474682],\n",
       "       [0.49715165, 0.50284835],\n",
       "       [0.39184786, 0.60815214],\n",
       "       [0.43432125, 0.56567875],\n",
       "       [0.33028262, 0.66971738],\n",
       "       [0.46485721, 0.53514279],\n",
       "       [0.39010169, 0.60989831],\n",
       "       [0.42086865, 0.57913135],\n",
       "       [0.46417021, 0.53582979],\n",
       "       [0.46523281, 0.53476719],\n",
       "       [0.42616963, 0.57383037],\n",
       "       [0.33058993, 0.66941007],\n",
       "       [0.43404489, 0.56595511],\n",
       "       [0.470162  , 0.529838  ],\n",
       "       [0.33466674, 0.66533326],\n",
       "       [0.43418928, 0.56581072],\n",
       "       [0.46265083, 0.53734917],\n",
       "       [0.4398902 , 0.5601098 ],\n",
       "       [0.44746014, 0.55253986],\n",
       "       [0.4766515 , 0.5233485 ],\n",
       "       [0.45302947, 0.54697053],\n",
       "       [0.46958822, 0.53041178],\n",
       "       [0.49480201, 0.50519799],\n",
       "       [0.45084072, 0.54915928],\n",
       "       [0.42487266, 0.57512734],\n",
       "       [0.45268823, 0.54731177],\n",
       "       [0.44665772, 0.55334228],\n",
       "       [0.427115  , 0.572885  ],\n",
       "       [0.43791706, 0.56208294],\n",
       "       [0.36570703, 0.63429297],\n",
       "       [0.40762615, 0.59237385],\n",
       "       [0.46081006, 0.53918994],\n",
       "       [0.39987462, 0.60012538],\n",
       "       [0.37394103, 0.62605897],\n",
       "       [0.43540762, 0.56459238],\n",
       "       [0.2986032 , 0.7013968 ],\n",
       "       [0.52640387, 0.47359613],\n",
       "       [0.35013749, 0.64986251],\n",
       "       [0.37825008, 0.62174992],\n",
       "       [0.41178296, 0.58821704],\n",
       "       [0.5065652 , 0.4934348 ],\n",
       "       [0.51344186, 0.48655814],\n",
       "       [0.49252878, 0.50747122],\n",
       "       [0.50811028, 0.49188972],\n",
       "       [0.36044198, 0.63955802],\n",
       "       [0.40499116, 0.59500884],\n",
       "       [0.4402114 , 0.5597886 ],\n",
       "       [0.43027883, 0.56972117],\n",
       "       [0.50621213, 0.49378787],\n",
       "       [0.45443645, 0.54556355],\n",
       "       [0.41638952, 0.58361048],\n",
       "       [0.42422954, 0.57577046],\n",
       "       [0.46900148, 0.53099852],\n",
       "       [0.43192724, 0.56807276],\n",
       "       [0.43973601, 0.56026399],\n",
       "       [0.40245904, 0.59754096],\n",
       "       [0.40913479, 0.59086521],\n",
       "       [0.45014756, 0.54985244],\n",
       "       [0.38611073, 0.61388927],\n",
       "       [0.38605125, 0.61394875],\n",
       "       [0.37850144, 0.62149856],\n",
       "       [0.4284491 , 0.5715509 ],\n",
       "       [0.4257519 , 0.5742481 ],\n",
       "       [0.47481885, 0.52518115],\n",
       "       [0.4140181 , 0.5859819 ],\n",
       "       [0.4498212 , 0.5501788 ],\n",
       "       [0.35286992, 0.64713008],\n",
       "       [0.44541662, 0.55458338],\n",
       "       [0.47064106, 0.52935894],\n",
       "       [0.47798222, 0.52201778],\n",
       "       [0.28354868, 0.71645132],\n",
       "       [0.46375394, 0.53624606],\n",
       "       [0.4052445 , 0.5947555 ],\n",
       "       [0.50052417, 0.49947583],\n",
       "       [0.52330495, 0.47669505],\n",
       "       [0.43526005, 0.56473995],\n",
       "       [0.54456874, 0.45543126],\n",
       "       [0.42101058, 0.57898942],\n",
       "       [0.36718674, 0.63281326],\n",
       "       [0.43668759, 0.56331241],\n",
       "       [0.44148264, 0.55851736],\n",
       "       [0.43867251, 0.56132749],\n",
       "       [0.43971503, 0.56028497],\n",
       "       [0.40195907, 0.59804093],\n",
       "       [0.40252969, 0.59747031],\n",
       "       [0.46882953, 0.53117047],\n",
       "       [0.44614499, 0.55385501],\n",
       "       [0.49692085, 0.50307915],\n",
       "       [0.50216314, 0.49783686],\n",
       "       [0.40997943, 0.59002057],\n",
       "       [0.55825166, 0.44174834],\n",
       "       [0.5056079 , 0.4943921 ],\n",
       "       [0.31510258, 0.68489742],\n",
       "       [0.42883344, 0.57116656],\n",
       "       [0.42662462, 0.57337538],\n",
       "       [0.42339303, 0.57660697],\n",
       "       [0.51479801, 0.48520199],\n",
       "       [0.49529386, 0.50470614],\n",
       "       [0.24916156, 0.75083844],\n",
       "       [0.30598302, 0.69401698],\n",
       "       [0.55650444, 0.44349556],\n",
       "       [0.42574004, 0.57425996],\n",
       "       [0.41897621, 0.58102379],\n",
       "       [0.45820392, 0.54179608],\n",
       "       [0.44974298, 0.55025702],\n",
       "       [0.36750852, 0.63249148],\n",
       "       [0.28335007, 0.71664993],\n",
       "       [0.40549023, 0.59450977],\n",
       "       [0.44606369, 0.55393631],\n",
       "       [0.47107918, 0.52892082],\n",
       "       [0.36890993, 0.63109007],\n",
       "       [0.45567378, 0.54432622],\n",
       "       [0.36931298, 0.63068702],\n",
       "       [0.44572066, 0.55427934],\n",
       "       [0.43480651, 0.56519349],\n",
       "       [0.37884294, 0.62115706],\n",
       "       [0.46950588, 0.53049412],\n",
       "       [0.44646453, 0.55353547],\n",
       "       [0.43672993, 0.56327007],\n",
       "       [0.42421867, 0.57578133],\n",
       "       [0.41809522, 0.58190478],\n",
       "       [0.46164027, 0.53835973],\n",
       "       [0.46827922, 0.53172078],\n",
       "       [0.46901449, 0.53098551],\n",
       "       [0.44261795, 0.55738205],\n",
       "       [0.43772672, 0.56227328],\n",
       "       [0.74039867, 0.25960133],\n",
       "       [0.45198368, 0.54801632],\n",
       "       [0.3347843 , 0.6652157 ],\n",
       "       [0.40213155, 0.59786845],\n",
       "       [0.36057099, 0.63942901],\n",
       "       [0.42100307, 0.57899693],\n",
       "       [0.43428068, 0.56571932],\n",
       "       [0.43930858, 0.56069142],\n",
       "       [0.44158198, 0.55841802],\n",
       "       [0.55328455, 0.44671545],\n",
       "       [0.4691775 , 0.5308225 ],\n",
       "       [0.13796016, 0.86203984],\n",
       "       [0.44706612, 0.55293388],\n",
       "       [0.48193608, 0.51806392],\n",
       "       [0.41558589, 0.58441411],\n",
       "       [0.46836371, 0.53163629],\n",
       "       [0.36840884, 0.63159116],\n",
       "       [0.46829423, 0.53170577],\n",
       "       [0.43023774, 0.56976226],\n",
       "       [0.40997721, 0.59002279],\n",
       "       [0.44968033, 0.55031967],\n",
       "       [0.40168513, 0.59831487],\n",
       "       [0.51016552, 0.48983448],\n",
       "       [0.46434301, 0.53565699],\n",
       "       [0.53265529, 0.46734471],\n",
       "       [0.42957224, 0.57042776],\n",
       "       [0.39487803, 0.60512197],\n",
       "       [0.45469027, 0.54530973],\n",
       "       [0.42450688, 0.57549312],\n",
       "       [0.47266283, 0.52733717],\n",
       "       [0.4311518 , 0.5688482 ],\n",
       "       [0.47407177, 0.52592823],\n",
       "       [0.43438045, 0.56561955],\n",
       "       [0.51860941, 0.48139059],\n",
       "       [0.41206769, 0.58793231],\n",
       "       [0.44298045, 0.55701955],\n",
       "       [0.3923776 , 0.6076224 ],\n",
       "       [0.39929305, 0.60070695],\n",
       "       [0.4794082 , 0.5205918 ],\n",
       "       [0.4689179 , 0.5310821 ],\n",
       "       [0.41527995, 0.58472005],\n",
       "       [0.44205176, 0.55794824],\n",
       "       [0.42542925, 0.57457075],\n",
       "       [0.41274959, 0.58725041],\n",
       "       [0.43255641, 0.56744359],\n",
       "       [0.38320875, 0.61679125],\n",
       "       [0.51999098, 0.48000902],\n",
       "       [0.45692608, 0.54307392],\n",
       "       [0.46890771, 0.53109229],\n",
       "       [0.4458579 , 0.5541421 ],\n",
       "       [0.38110156, 0.61889844],\n",
       "       [0.45286076, 0.54713924],\n",
       "       [0.43939889, 0.56060111],\n",
       "       [0.44806016, 0.55193984],\n",
       "       [0.40761718, 0.59238282],\n",
       "       [0.44631917, 0.55368083]])"
      ]
     },
     "execution_count": 102,
     "metadata": {},
     "output_type": "execute_result"
    }
   ],
   "source": [
    "lda.predict_proba(X_test)"
   ]
  },
  {
   "cell_type": "code",
   "execution_count": 103,
   "id": "b35761a3",
   "metadata": {},
   "outputs": [
    {
     "data": {
      "text/plain": [
       "array([1, 1, 1, 1, 1, 1, 1, 1, 1, 1, 1, 1, 1, 1, 0, 1, 1, 1, 0, 0, 1, 0,\n",
       "       1, 1, 1, 1, 0, 1, 1, 1, 1, 1, 1, 1, 1, 1, 1, 1, 1, 0, 1, 1, 1, 1,\n",
       "       1, 1, 1, 1, 0, 1, 1, 1, 1, 1, 1, 1, 1, 1, 1, 1, 1, 1, 1, 1, 0, 0,\n",
       "       0, 1, 1, 1, 1, 1, 1, 1, 1, 0, 1, 1, 1, 1, 1, 1, 1, 1, 1, 1, 1, 0,\n",
       "       1, 1, 1, 1, 1, 1, 1, 1, 1, 1, 0, 1, 1, 1, 1, 1, 1, 1, 0, 1, 1, 1,\n",
       "       1, 1, 1, 1, 1, 0, 1, 1, 1, 1, 1, 1, 0, 1, 1, 1, 0, 1, 0, 1, 1, 1,\n",
       "       1, 1, 0, 1, 1, 1, 1, 1, 1, 0, 1, 1, 1, 1, 1, 1, 1, 1, 1, 1, 1, 1,\n",
       "       1, 1, 1, 1, 1, 1, 1, 1, 1, 1, 1, 1, 1, 1, 1, 1, 1, 1, 1, 1, 1, 1,\n",
       "       1, 1, 1, 1, 1, 0, 1, 1, 1, 0, 0, 1, 0, 1, 1, 1, 1, 0, 1, 1, 1, 1,\n",
       "       1, 1, 1, 1, 1, 1, 1, 1, 1, 1, 1, 1, 1, 1, 1, 1, 1, 1, 1, 1, 0, 0,\n",
       "       1, 0, 1, 1, 1, 1, 1, 1, 1, 1, 1, 1, 1, 0, 1, 0, 0, 1, 1, 1, 1, 0,\n",
       "       1, 1, 1, 0, 1, 1, 1, 1, 1, 1, 1, 1, 1, 1, 1, 1, 1, 1, 1, 1, 1, 1,\n",
       "       1, 1, 1, 1, 1, 1, 1, 0, 1, 1, 1, 1, 1, 1, 1, 1, 0, 1, 1, 1, 1, 1,\n",
       "       1, 1, 1, 1, 1, 1, 1, 0, 1, 0, 1, 1, 1, 1, 1, 1, 1, 1, 0, 1, 1, 1,\n",
       "       1, 1, 1, 1, 1, 1, 1, 1, 1, 0, 1, 1, 1, 1, 1, 1, 1, 1, 1],\n",
       "      dtype=uint8)"
      ]
     },
     "execution_count": 103,
     "metadata": {},
     "output_type": "execute_result"
    }
   ],
   "source": [
    "pred_lda=lda.predict(X_test)\n",
    "pred_lda"
   ]
  },
  {
   "cell_type": "code",
   "execution_count": 104,
   "id": "d37865f6",
   "metadata": {},
   "outputs": [
    {
     "data": {
      "text/plain": [
       "array([[ 18, 131],\n",
       "       [ 21, 157]], dtype=int64)"
      ]
     },
     "execution_count": 104,
     "metadata": {},
     "output_type": "execute_result"
    }
   ],
   "source": [
    "C_M=confusion_matrix(y_test,pred_lda)\n",
    "C_M"
   ]
  },
  {
   "cell_type": "code",
   "execution_count": 105,
   "id": "32d2f0a0",
   "metadata": {},
   "outputs": [],
   "source": [
    "TN=C_M[0,0]\n",
    "TP=C_M[1,1]\n",
    "FN=C_M[1,0]\n",
    "FP=C_M[0,1]"
   ]
  },
  {
   "cell_type": "code",
   "execution_count": 106,
   "id": "4a52570b",
   "metadata": {},
   "outputs": [
    {
     "data": {
      "text/html": [
       "<div>\n",
       "<style scoped>\n",
       "    .dataframe tbody tr th:only-of-type {\n",
       "        vertical-align: middle;\n",
       "    }\n",
       "\n",
       "    .dataframe tbody tr th {\n",
       "        vertical-align: top;\n",
       "    }\n",
       "\n",
       "    .dataframe thead th {\n",
       "        text-align: right;\n",
       "    }\n",
       "</style>\n",
       "<table border=\"1\" class=\"dataframe\">\n",
       "  <thead>\n",
       "    <tr style=\"text-align: right;\">\n",
       "      <th></th>\n",
       "      <th>Accuracy</th>\n",
       "      <th>Precision</th>\n",
       "      <th>Sensitivity</th>\n",
       "      <th>Specificity</th>\n",
       "    </tr>\n",
       "  </thead>\n",
       "  <tbody>\n",
       "    <tr>\n",
       "      <th>Logestic Regression</th>\n",
       "      <td>0.535168</td>\n",
       "      <td>0.545455</td>\n",
       "      <td>0.876404</td>\n",
       "      <td>0.127517</td>\n",
       "    </tr>\n",
       "    <tr>\n",
       "      <th>Decision Tree</th>\n",
       "      <td>0.474006</td>\n",
       "      <td>0.513274</td>\n",
       "      <td>0.651685</td>\n",
       "      <td>0.261745</td>\n",
       "    </tr>\n",
       "    <tr>\n",
       "      <th>Bagging</th>\n",
       "      <td>0.529052</td>\n",
       "      <td>0.556604</td>\n",
       "      <td>0.662921</td>\n",
       "      <td>0.369128</td>\n",
       "    </tr>\n",
       "    <tr>\n",
       "      <th>Random Forest</th>\n",
       "      <td>0.495413</td>\n",
       "      <td>0.530233</td>\n",
       "      <td>0.640449</td>\n",
       "      <td>0.322148</td>\n",
       "    </tr>\n",
       "    <tr>\n",
       "      <th>LDA</th>\n",
       "      <td>0.535168</td>\n",
       "      <td>0.545139</td>\n",
       "      <td>0.882022</td>\n",
       "      <td>0.120805</td>\n",
       "    </tr>\n",
       "  </tbody>\n",
       "</table>\n",
       "</div>"
      ],
      "text/plain": [
       "                     Accuracy  Precision  Sensitivity  Specificity\n",
       "Logestic Regression  0.535168   0.545455     0.876404     0.127517\n",
       "Decision Tree        0.474006   0.513274     0.651685     0.261745\n",
       "Bagging              0.529052   0.556604     0.662921     0.369128\n",
       "Random Forest        0.495413   0.530233     0.640449     0.322148\n",
       "LDA                  0.535168   0.545139     0.882022     0.120805"
      ]
     },
     "execution_count": 106,
     "metadata": {},
     "output_type": "execute_result"
    }
   ],
   "source": [
    "model_evaluate=model_evaluate.append(pd.DataFrame({'Accuracy':(TN+TP)/(TP+TN+FN+FP),\n",
    "                            'Precision':TP/(TP+FP),\n",
    "                           'Sensitivity':TP/(TP+FN),\n",
    "                           'Specificity':TN/(TN+FP)},\n",
    "                           index=[\"LDA\"]))\n",
    "model_evaluate"
   ]
  },
  {
   "cell_type": "markdown",
   "id": "fb36ba16",
   "metadata": {},
   "source": [
    "# Support vector machine"
   ]
  },
  {
   "cell_type": "code",
   "execution_count": 107,
   "id": "6c066f7e",
   "metadata": {},
   "outputs": [],
   "source": [
    "from sklearn.svm import SVC"
   ]
  },
  {
   "cell_type": "code",
   "execution_count": 108,
   "id": "9e395989",
   "metadata": {},
   "outputs": [],
   "source": [
    "svc=SVC(C=1.0,\n",
    "        kernel='poly', \n",
    "        degree=3,\n",
    "random_state=101)"
   ]
  },
  {
   "cell_type": "code",
   "execution_count": 109,
   "id": "946f27ae",
   "metadata": {},
   "outputs": [
    {
     "data": {
      "text/html": [
       "<div>\n",
       "<style scoped>\n",
       "    .dataframe tbody tr th:only-of-type {\n",
       "        vertical-align: middle;\n",
       "    }\n",
       "\n",
       "    .dataframe tbody tr th {\n",
       "        vertical-align: top;\n",
       "    }\n",
       "\n",
       "    .dataframe thead th {\n",
       "        text-align: right;\n",
       "    }\n",
       "</style>\n",
       "<table border=\"1\" class=\"dataframe\">\n",
       "  <thead>\n",
       "    <tr style=\"text-align: right;\">\n",
       "      <th></th>\n",
       "      <th>C</th>\n",
       "      <th>degree</th>\n",
       "    </tr>\n",
       "  </thead>\n",
       "  <tbody>\n",
       "    <tr>\n",
       "      <th>1</th>\n",
       "      <td>1</td>\n",
       "      <td>2</td>\n",
       "    </tr>\n",
       "    <tr>\n",
       "      <th>2</th>\n",
       "      <td>1</td>\n",
       "      <td>3</td>\n",
       "    </tr>\n",
       "    <tr>\n",
       "      <th>3</th>\n",
       "      <td>1</td>\n",
       "      <td>4</td>\n",
       "    </tr>\n",
       "    <tr>\n",
       "      <th>4</th>\n",
       "      <td>2</td>\n",
       "      <td>2</td>\n",
       "    </tr>\n",
       "    <tr>\n",
       "      <th>5</th>\n",
       "      <td>2</td>\n",
       "      <td>3</td>\n",
       "    </tr>\n",
       "    <tr>\n",
       "      <th>6</th>\n",
       "      <td>2</td>\n",
       "      <td>4</td>\n",
       "    </tr>\n",
       "    <tr>\n",
       "      <th>7</th>\n",
       "      <td>3</td>\n",
       "      <td>2</td>\n",
       "    </tr>\n",
       "    <tr>\n",
       "      <th>8</th>\n",
       "      <td>3</td>\n",
       "      <td>3</td>\n",
       "    </tr>\n",
       "    <tr>\n",
       "      <th>9</th>\n",
       "      <td>3</td>\n",
       "      <td>4</td>\n",
       "    </tr>\n",
       "  </tbody>\n",
       "</table>\n",
       "</div>"
      ],
      "text/plain": [
       "   C  degree\n",
       "1  1       2\n",
       "2  1       3\n",
       "3  1       4\n",
       "4  2       2\n",
       "5  2       3\n",
       "6  2       4\n",
       "7  3       2\n",
       "8  3       3\n",
       "9  3       4"
      ]
     },
     "execution_count": 109,
     "metadata": {},
     "output_type": "execute_result"
    }
   ],
   "source": [
    "# K_fold cross validation\n",
    "C=[1,2,3]\n",
    "degree=[2,3,4]  \n",
    "grid=itertools.product(C,degree)\n",
    "grid=pd.DataFrame(grid,index=range(1,10),columns=['C','degree'])\n",
    "grid"
   ]
  },
  {
   "cell_type": "code",
   "execution_count": 110,
   "id": "ec087119",
   "metadata": {},
   "outputs": [
    {
     "data": {
      "text/plain": [
       "[0.5365345181134654,\n",
       " 0.5365345181134654,\n",
       " 0.5365345181134654,\n",
       " 0.5365516062884483,\n",
       " 0.5365516062884483,\n",
       " 0.5365516062884483,\n",
       " 0.540498974709501,\n",
       " 0.540498974709501,\n",
       " 0.540498974709501]"
      ]
     },
     "execution_count": 110,
     "metadata": {},
     "output_type": "execute_result"
    }
   ],
   "source": [
    "from sklearn.model_selection import cross_val_score\n",
    "scsvc=[]\n",
    "for i in range(0,9):\n",
    "    svc=SVC(C=grid.iloc[i,0],\n",
    "           degree=grid.iloc[i,1],random_state=101)\n",
    "    scores=cross_val_score(estimator=svc,X=X_train,\n",
    "                          y=y_train,\n",
    "                          cv=10,scoring='accuracy')\n",
    "    scsvc.append(np.mean(scores))\n",
    "scsvc    "
   ]
  },
  {
   "cell_type": "code",
   "execution_count": 111,
   "id": "cf9273b4",
   "metadata": {},
   "outputs": [
    {
     "data": {
      "text/plain": [
       "<matplotlib.lines.Line2D at 0x17d541a5670>"
      ]
     },
     "execution_count": 111,
     "metadata": {},
     "output_type": "execute_result"
    },
    {
     "data": {
      "image/png": "[encoded data removed]",
      "text/plain": [
       "<Figure size 864x360 with 1 Axes>"
      ]
     },
     "metadata": {},
     "output_type": "display_data"
    }
   ],
   "source": [
    "plt.figure(figsize=(12,5))\n",
    "plt.plot(range(1,10),scsvc,\n",
    "        marker='o',markersize=10,markerfacecolor='red',markeredgecolor='black',\n",
    "        markeredgewidth=2)\n",
    "plt.axvline(np.argmax(scsvc)+1,color='black',linestyle='--')"
   ]
  },
  {
   "cell_type": "code",
   "execution_count": 112,
   "id": "f9abf9ac",
   "metadata": {},
   "outputs": [],
   "source": [
    "svc=SVC(C=grid.iloc[6,0],\n",
    "           degree=grid.iloc[6,1],random_state=101)"
   ]
  },
  {
   "cell_type": "code",
   "execution_count": 113,
   "id": "b7ae69b4",
   "metadata": {},
   "outputs": [
    {
     "data": {
      "text/plain": [
       "SVC(C=3, degree=2, random_state=101)"
      ]
     },
     "execution_count": 113,
     "metadata": {},
     "output_type": "execute_result"
    }
   ],
   "source": [
    "svc.fit(X_train,y_train)"
   ]
  },
  {
   "cell_type": "code",
   "execution_count": 114,
   "id": "56328a59",
   "metadata": {},
   "outputs": [
    {
     "data": {
      "text/plain": [
       "array([1, 1, 0, 0, 0, 1, 1, 1, 0, 1, 1, 1, 1, 1, 0, 0, 1, 1, 1, 1, 1, 0,\n",
       "       0, 0, 1, 1, 0, 1, 1, 1, 1, 1, 1, 1, 0, 0, 1, 0, 1, 0, 0, 1, 0, 1,\n",
       "       1, 1, 1, 0, 0, 1, 1, 1, 1, 0, 1, 1, 1, 0, 1, 1, 1, 1, 1, 1, 0, 0,\n",
       "       0, 0, 0, 1, 1, 1, 1, 1, 0, 0, 1, 1, 0, 0, 0, 1, 1, 0, 1, 0, 1, 0,\n",
       "       1, 0, 1, 1, 1, 1, 1, 0, 1, 1, 0, 1, 1, 0, 1, 1, 0, 1, 0, 1, 1, 1,\n",
       "       1, 0, 1, 1, 0, 1, 1, 0, 1, 0, 1, 0, 0, 1, 1, 0, 1, 0, 0, 1, 1, 1,\n",
       "       0, 1, 0, 1, 1, 0, 0, 0, 1, 1, 1, 1, 0, 0, 1, 1, 1, 1, 0, 0, 0, 0,\n",
       "       1, 1, 0, 1, 0, 1, 1, 0, 1, 1, 0, 1, 1, 1, 1, 0, 1, 1, 1, 1, 1, 1,\n",
       "       1, 1, 1, 1, 1, 1, 1, 1, 1, 0, 0, 0, 0, 1, 1, 0, 1, 0, 1, 1, 1, 1,\n",
       "       1, 0, 1, 1, 0, 1, 1, 1, 1, 1, 1, 1, 1, 1, 1, 1, 0, 1, 1, 1, 1, 0,\n",
       "       1, 0, 1, 1, 1, 1, 1, 0, 0, 1, 1, 0, 1, 0, 1, 1, 0, 1, 1, 1, 1, 0,\n",
       "       0, 1, 1, 0, 1, 0, 1, 1, 1, 1, 0, 1, 0, 1, 0, 1, 0, 0, 1, 1, 1, 1,\n",
       "       1, 1, 1, 1, 1, 1, 1, 1, 1, 1, 1, 1, 1, 0, 1, 1, 1, 0, 1, 1, 1, 1,\n",
       "       0, 1, 1, 1, 1, 0, 1, 0, 0, 1, 1, 1, 1, 1, 1, 1, 1, 1, 0, 1, 0, 1,\n",
       "       1, 1, 1, 1, 1, 1, 0, 1, 1, 0, 0, 1, 1, 0, 0, 1, 1, 1, 1],\n",
       "      dtype=uint8)"
      ]
     },
     "execution_count": 114,
     "metadata": {},
     "output_type": "execute_result"
    }
   ],
   "source": [
    "pred_svc=svc.predict(X_test)\n",
    "pred_svc"
   ]
  },
  {
   "cell_type": "code",
   "execution_count": 115,
   "id": "8b4e4d73",
   "metadata": {},
   "outputs": [
    {
     "data": {
      "text/plain": [
       "array([[ 48, 101],\n",
       "       [ 54, 124]], dtype=int64)"
      ]
     },
     "execution_count": 115,
     "metadata": {},
     "output_type": "execute_result"
    }
   ],
   "source": [
    "C_M=confusion_matrix(y_test,pred_svc)\n",
    "C_M"
   ]
  },
  {
   "cell_type": "code",
   "execution_count": 116,
   "id": "34ac8b6b",
   "metadata": {},
   "outputs": [],
   "source": [
    "TN=C_M[0,0]\n",
    "TP=C_M[1,1]\n",
    "FN=C_M[1,0]\n",
    "FP=C_M[0,1]"
   ]
  },
  {
   "cell_type": "code",
   "execution_count": 117,
   "id": "9edbc33c",
   "metadata": {},
   "outputs": [
    {
     "data": {
      "text/html": [
       "<div>\n",
       "<style scoped>\n",
       "    .dataframe tbody tr th:only-of-type {\n",
       "        vertical-align: middle;\n",
       "    }\n",
       "\n",
       "    .dataframe tbody tr th {\n",
       "        vertical-align: top;\n",
       "    }\n",
       "\n",
       "    .dataframe thead th {\n",
       "        text-align: right;\n",
       "    }\n",
       "</style>\n",
       "<table border=\"1\" class=\"dataframe\">\n",
       "  <thead>\n",
       "    <tr style=\"text-align: right;\">\n",
       "      <th></th>\n",
       "      <th>Accuracy</th>\n",
       "      <th>Precision</th>\n",
       "      <th>Sensitivity</th>\n",
       "      <th>Specificity</th>\n",
       "    </tr>\n",
       "  </thead>\n",
       "  <tbody>\n",
       "    <tr>\n",
       "      <th>Logestic Regression</th>\n",
       "      <td>0.535168</td>\n",
       "      <td>0.545455</td>\n",
       "      <td>0.876404</td>\n",
       "      <td>0.127517</td>\n",
       "    </tr>\n",
       "    <tr>\n",
       "      <th>Decision Tree</th>\n",
       "      <td>0.474006</td>\n",
       "      <td>0.513274</td>\n",
       "      <td>0.651685</td>\n",
       "      <td>0.261745</td>\n",
       "    </tr>\n",
       "    <tr>\n",
       "      <th>Bagging</th>\n",
       "      <td>0.529052</td>\n",
       "      <td>0.556604</td>\n",
       "      <td>0.662921</td>\n",
       "      <td>0.369128</td>\n",
       "    </tr>\n",
       "    <tr>\n",
       "      <th>Random Forest</th>\n",
       "      <td>0.495413</td>\n",
       "      <td>0.530233</td>\n",
       "      <td>0.640449</td>\n",
       "      <td>0.322148</td>\n",
       "    </tr>\n",
       "    <tr>\n",
       "      <th>LDA</th>\n",
       "      <td>0.535168</td>\n",
       "      <td>0.545139</td>\n",
       "      <td>0.882022</td>\n",
       "      <td>0.120805</td>\n",
       "    </tr>\n",
       "    <tr>\n",
       "      <th>SVM</th>\n",
       "      <td>0.525994</td>\n",
       "      <td>0.551111</td>\n",
       "      <td>0.696629</td>\n",
       "      <td>0.322148</td>\n",
       "    </tr>\n",
       "  </tbody>\n",
       "</table>\n",
       "</div>"
      ],
      "text/plain": [
       "                     Accuracy  Precision  Sensitivity  Specificity\n",
       "Logestic Regression  0.535168   0.545455     0.876404     0.127517\n",
       "Decision Tree        0.474006   0.513274     0.651685     0.261745\n",
       "Bagging              0.529052   0.556604     0.662921     0.369128\n",
       "Random Forest        0.495413   0.530233     0.640449     0.322148\n",
       "LDA                  0.535168   0.545139     0.882022     0.120805\n",
       "SVM                  0.525994   0.551111     0.696629     0.322148"
      ]
     },
     "execution_count": 117,
     "metadata": {},
     "output_type": "execute_result"
    }
   ],
   "source": [
    "model_evaluate=model_evaluate.append(pd.DataFrame({'Accuracy':(TN+TP)/(TP+TN+FN+FP),\n",
    "                            'Precision':TP/(TP+FP),\n",
    "                           'Sensitivity':TP/(TP+FN),\n",
    "                           'Specificity':TN/(TN+FP)},\n",
    "                           index=[\"SVM\"]))\n",
    "model_evaluate"
   ]
  },
  {
   "cell_type": "markdown",
   "id": "9060fd27",
   "metadata": {},
   "source": [
    "# K-nearset neighbors"
   ]
  },
  {
   "cell_type": "code",
   "execution_count": 118,
   "id": "b2a7b375",
   "metadata": {},
   "outputs": [],
   "source": [
    "from sklearn.neighbors import KNeighborsClassifier"
   ]
  },
  {
   "cell_type": "code",
   "execution_count": 119,
   "id": "2bd9533e",
   "metadata": {},
   "outputs": [],
   "source": [
    "knn=KNeighborsClassifier(n_neighbors=5)"
   ]
  },
  {
   "cell_type": "code",
   "execution_count": 120,
   "id": "ee0e34b9",
   "metadata": {},
   "outputs": [
    {
     "data": {
      "text/plain": [
       "KNeighborsClassifier()"
      ]
     },
     "execution_count": 120,
     "metadata": {},
     "output_type": "execute_result"
    }
   ],
   "source": [
    "knn.fit(X_train,y_train)"
   ]
  },
  {
   "cell_type": "code",
   "execution_count": 121,
   "id": "213c00c5",
   "metadata": {},
   "outputs": [],
   "source": [
    "pred_knn=knn.predict(X_test)"
   ]
  },
  {
   "cell_type": "code",
   "execution_count": 122,
   "id": "5082cae6",
   "metadata": {},
   "outputs": [
    {
     "data": {
      "text/plain": [
       "array([[ 54,  95],\n",
       "       [ 66, 112]], dtype=int64)"
      ]
     },
     "execution_count": 122,
     "metadata": {},
     "output_type": "execute_result"
    }
   ],
   "source": [
    "C_M=confusion_matrix(y_test,pred_knn)\n",
    "C_M"
   ]
  },
  {
   "cell_type": "code",
   "execution_count": 123,
   "id": "f2241992",
   "metadata": {},
   "outputs": [],
   "source": [
    "TN=C_M[0,0]\n",
    "TP=C_M[1,1]\n",
    "FN=C_M[1,0]\n",
    "FP=C_M[0,1]"
   ]
  },
  {
   "cell_type": "code",
   "execution_count": 124,
   "id": "2349ceb2",
   "metadata": {},
   "outputs": [
    {
     "data": {
      "text/html": [
       "<div>\n",
       "<style scoped>\n",
       "    .dataframe tbody tr th:only-of-type {\n",
       "        vertical-align: middle;\n",
       "    }\n",
       "\n",
       "    .dataframe tbody tr th {\n",
       "        vertical-align: top;\n",
       "    }\n",
       "\n",
       "    .dataframe thead th {\n",
       "        text-align: right;\n",
       "    }\n",
       "</style>\n",
       "<table border=\"1\" class=\"dataframe\">\n",
       "  <thead>\n",
       "    <tr style=\"text-align: right;\">\n",
       "      <th></th>\n",
       "      <th>Accuracy</th>\n",
       "      <th>Precision</th>\n",
       "      <th>Sensitivity</th>\n",
       "      <th>Specificity</th>\n",
       "    </tr>\n",
       "  </thead>\n",
       "  <tbody>\n",
       "    <tr>\n",
       "      <th>Logestic Regression</th>\n",
       "      <td>0.535168</td>\n",
       "      <td>0.545455</td>\n",
       "      <td>0.876404</td>\n",
       "      <td>0.127517</td>\n",
       "    </tr>\n",
       "    <tr>\n",
       "      <th>Decision Tree</th>\n",
       "      <td>0.474006</td>\n",
       "      <td>0.513274</td>\n",
       "      <td>0.651685</td>\n",
       "      <td>0.261745</td>\n",
       "    </tr>\n",
       "    <tr>\n",
       "      <th>Bagging</th>\n",
       "      <td>0.529052</td>\n",
       "      <td>0.556604</td>\n",
       "      <td>0.662921</td>\n",
       "      <td>0.369128</td>\n",
       "    </tr>\n",
       "    <tr>\n",
       "      <th>Random Forest</th>\n",
       "      <td>0.495413</td>\n",
       "      <td>0.530233</td>\n",
       "      <td>0.640449</td>\n",
       "      <td>0.322148</td>\n",
       "    </tr>\n",
       "    <tr>\n",
       "      <th>LDA</th>\n",
       "      <td>0.535168</td>\n",
       "      <td>0.545139</td>\n",
       "      <td>0.882022</td>\n",
       "      <td>0.120805</td>\n",
       "    </tr>\n",
       "    <tr>\n",
       "      <th>SVM</th>\n",
       "      <td>0.525994</td>\n",
       "      <td>0.551111</td>\n",
       "      <td>0.696629</td>\n",
       "      <td>0.322148</td>\n",
       "    </tr>\n",
       "    <tr>\n",
       "      <th>KNN</th>\n",
       "      <td>0.507645</td>\n",
       "      <td>0.541063</td>\n",
       "      <td>0.629213</td>\n",
       "      <td>0.362416</td>\n",
       "    </tr>\n",
       "  </tbody>\n",
       "</table>\n",
       "</div>"
      ],
      "text/plain": [
       "                     Accuracy  Precision  Sensitivity  Specificity\n",
       "Logestic Regression  0.535168   0.545455     0.876404     0.127517\n",
       "Decision Tree        0.474006   0.513274     0.651685     0.261745\n",
       "Bagging              0.529052   0.556604     0.662921     0.369128\n",
       "Random Forest        0.495413   0.530233     0.640449     0.322148\n",
       "LDA                  0.535168   0.545139     0.882022     0.120805\n",
       "SVM                  0.525994   0.551111     0.696629     0.322148\n",
       "KNN                  0.507645   0.541063     0.629213     0.362416"
      ]
     },
     "execution_count": 124,
     "metadata": {},
     "output_type": "execute_result"
    }
   ],
   "source": [
    "model_evaluate=model_evaluate.append(pd.DataFrame({'Accuracy':(TN+TP)/(TP+TN+FN+FP),\n",
    "                            'Precision':TP/(TP+FP),\n",
    "                           'Sensitivity':TP/(TP+FN),\n",
    "                           'Specificity':TN/(TN+FP)},\n",
    "                           index=[\"KNN\"]))\n",
    "model_evaluate"
   ]
  },
  {
   "cell_type": "markdown",
   "id": "72ef86f8",
   "metadata": {},
   "source": [
    "### The Results: The best model is Logestic Regression."
   ]
  },
  {
   "cell_type": "markdown",
   "id": "cf4b2870",
   "metadata": {},
   "source": [
    "# The Best model"
   ]
  },
  {
   "cell_type": "code",
   "execution_count": 125,
   "id": "697f4898",
   "metadata": {},
   "outputs": [],
   "source": [
    "logr=LogisticRegression(max_iter=200,\n",
    "    \n",
    "                      C=1, \n",
    "                        random_state=101)"
   ]
  },
  {
   "cell_type": "code",
   "execution_count": 126,
   "id": "e55c1e40",
   "metadata": {},
   "outputs": [
    {
     "data": {
      "text/plain": [
       "LogisticRegression(C=1, max_iter=200, random_state=101)"
      ]
     },
     "execution_count": 126,
     "metadata": {},
     "output_type": "execute_result"
    }
   ],
   "source": [
    "logr.fit(X_train,y_train)"
   ]
  },
  {
   "cell_type": "code",
   "execution_count": 127,
   "id": "ecbc1e44",
   "metadata": {},
   "outputs": [
    {
     "data": {
      "text/plain": [
       "array([[0.35974965, 0.64025035],\n",
       "       [0.42422088, 0.57577912],\n",
       "       [0.46525558, 0.53474442],\n",
       "       [0.43717381, 0.56282619],\n",
       "       [0.43026934, 0.56973066],\n",
       "       [0.46349911, 0.53650089],\n",
       "       [0.43559714, 0.56440286],\n",
       "       [0.49560114, 0.50439886],\n",
       "       [0.43332773, 0.56667227],\n",
       "       [0.39677357, 0.60322643],\n",
       "       [0.47084995, 0.52915005],\n",
       "       [0.29732471, 0.70267529],\n",
       "       [0.4465509 , 0.5534491 ],\n",
       "       [0.40461652, 0.59538348],\n",
       "       [0.52465767, 0.47534233],\n",
       "       [0.39239961, 0.60760039],\n",
       "       [0.43622818, 0.56377182],\n",
       "       [0.50144163, 0.49855837],\n",
       "       [0.72993892, 0.27006108],\n",
       "       [0.55818524, 0.44181476],\n",
       "       [0.49319237, 0.50680763],\n",
       "       [0.58487913, 0.41512087],\n",
       "       [0.46413878, 0.53586122],\n",
       "       [0.4859687 , 0.5140313 ],\n",
       "       [0.42363665, 0.57636335],\n",
       "       [0.36665184, 0.63334816],\n",
       "       [0.50985847, 0.49014153],\n",
       "       [0.45755047, 0.54244953],\n",
       "       [0.4243525 , 0.5756475 ],\n",
       "       [0.43165569, 0.56834431],\n",
       "       [0.40892832, 0.59107168],\n",
       "       [0.35228957, 0.64771043],\n",
       "       [0.43515668, 0.56484332],\n",
       "       [0.43364232, 0.56635768],\n",
       "       [0.48307758, 0.51692242],\n",
       "       [0.42343743, 0.57656257],\n",
       "       [0.33766487, 0.66233513],\n",
       "       [0.40952753, 0.59047247],\n",
       "       [0.42347502, 0.57652498],\n",
       "       [0.56898245, 0.43101755],\n",
       "       [0.48923912, 0.51076088],\n",
       "       [0.40305858, 0.59694142],\n",
       "       [0.49990804, 0.50009196],\n",
       "       [0.39820586, 0.60179414],\n",
       "       [0.44660078, 0.55339922],\n",
       "       [0.42480635, 0.57519365],\n",
       "       [0.43940758, 0.56059242],\n",
       "       [0.44829665, 0.55170335],\n",
       "       [0.51640753, 0.48359247],\n",
       "       [0.40581532, 0.59418468],\n",
       "       [0.4316363 , 0.5683637 ],\n",
       "       [0.39063664, 0.60936336],\n",
       "       [0.26250652, 0.73749348],\n",
       "       [0.4394072 , 0.5605928 ],\n",
       "       [0.45753025, 0.54246975],\n",
       "       [0.41671953, 0.58328047],\n",
       "       [0.40045974, 0.59954026],\n",
       "       [0.4834923 , 0.5165077 ],\n",
       "       [0.49768018, 0.50231982],\n",
       "       [0.49859881, 0.50140119],\n",
       "       [0.41968236, 0.58031764],\n",
       "       [0.44187682, 0.55812318],\n",
       "       [0.39335558, 0.60664442],\n",
       "       [0.38902265, 0.61097735],\n",
       "       [0.50963462, 0.49036538],\n",
       "       [0.51411755, 0.48588245],\n",
       "       [0.53942719, 0.46057281],\n",
       "       [0.46450337, 0.53549663],\n",
       "       [0.49054491, 0.50945509],\n",
       "       [0.42543456, 0.57456544],\n",
       "       [0.49275638, 0.50724362],\n",
       "       [0.47272616, 0.52727384],\n",
       "       [0.43105634, 0.56894366],\n",
       "       [0.48486169, 0.51513831],\n",
       "       [0.49527818, 0.50472182],\n",
       "       [0.5313958 , 0.4686042 ],\n",
       "       [0.45251107, 0.54748893],\n",
       "       [0.41750924, 0.58249076],\n",
       "       [0.45881744, 0.54118256],\n",
       "       [0.39947475, 0.60052525],\n",
       "       [0.48692368, 0.51307632],\n",
       "       [0.44194735, 0.55805265],\n",
       "       [0.42413906, 0.57586094],\n",
       "       [0.49788797, 0.50211203],\n",
       "       [0.45863456, 0.54136544],\n",
       "       [0.48891414, 0.51108586],\n",
       "       [0.43369729, 0.56630271],\n",
       "       [0.51076853, 0.48923147],\n",
       "       [0.4249289 , 0.5750711 ],\n",
       "       [0.47715813, 0.52284187],\n",
       "       [0.45440832, 0.54559168],\n",
       "       [0.44315668, 0.55684332],\n",
       "       [0.46244786, 0.53755214],\n",
       "       [0.44395933, 0.55604067],\n",
       "       [0.38502834, 0.61497166],\n",
       "       [0.42531797, 0.57468203],\n",
       "       [0.44191445, 0.55808555],\n",
       "       [0.43438057, 0.56561943],\n",
       "       [0.5069107 , 0.4930893 ],\n",
       "       [0.44699389, 0.55300611],\n",
       "       [0.42757773, 0.57242227],\n",
       "       [0.45618023, 0.54381977],\n",
       "       [0.44601878, 0.55398122],\n",
       "       [0.32811824, 0.67188176],\n",
       "       [0.48564974, 0.51435026],\n",
       "       [0.40671157, 0.59328843],\n",
       "       [0.51804909, 0.48195091],\n",
       "       [0.42869792, 0.57130208],\n",
       "       [0.38183873, 0.61816127],\n",
       "       [0.43738413, 0.56261587],\n",
       "       [0.34841204, 0.65158796],\n",
       "       [0.34810266, 0.65189734],\n",
       "       [0.31822302, 0.68177698],\n",
       "       [0.40569454, 0.59430546],\n",
       "       [0.33124177, 0.66875823],\n",
       "       [0.51070875, 0.48929125],\n",
       "       [0.49871501, 0.50128499],\n",
       "       [0.47349145, 0.52650855],\n",
       "       [0.31763848, 0.68236152],\n",
       "       [0.42575734, 0.57424266],\n",
       "       [0.42345595, 0.57654405],\n",
       "       [0.46461978, 0.53538022],\n",
       "       [0.53206963, 0.46793037],\n",
       "       [0.45960317, 0.54039683],\n",
       "       [0.50048706, 0.49951294],\n",
       "       [0.41222214, 0.58777786],\n",
       "       [0.52441886, 0.47558114],\n",
       "       [0.37212502, 0.62787498],\n",
       "       [0.50782034, 0.49217966],\n",
       "       [0.32781062, 0.67218938],\n",
       "       [0.44626643, 0.55373357],\n",
       "       [0.42995714, 0.57004286],\n",
       "       [0.40397486, 0.59602514],\n",
       "       [0.39808488, 0.60191512],\n",
       "       [0.53061762, 0.46938238],\n",
       "       [0.47025006, 0.52974994],\n",
       "       [0.48718468, 0.51281532],\n",
       "       [0.46443098, 0.53556902],\n",
       "       [0.4901441 , 0.5098559 ],\n",
       "       [0.43618935, 0.56381065],\n",
       "       [0.4464125 , 0.5535875 ],\n",
       "       [0.53880326, 0.46119674],\n",
       "       [0.4413327 , 0.5586673 ],\n",
       "       [0.46249423, 0.53750577],\n",
       "       [0.47184535, 0.52815465],\n",
       "       [0.48850682, 0.51149318],\n",
       "       [0.49939992, 0.50060008],\n",
       "       [0.38912296, 0.61087704],\n",
       "       [0.43425473, 0.56574527],\n",
       "       [0.32517294, 0.67482706],\n",
       "       [0.46551407, 0.53448593],\n",
       "       [0.38988613, 0.61011387],\n",
       "       [0.41889511, 0.58110489],\n",
       "       [0.46342032, 0.53657968],\n",
       "       [0.46681758, 0.53318242],\n",
       "       [0.4256362 , 0.5743638 ],\n",
       "       [0.32341354, 0.67658646],\n",
       "       [0.43426828, 0.56573172],\n",
       "       [0.47269978, 0.52730022],\n",
       "       [0.33046471, 0.66953529],\n",
       "       [0.43400135, 0.56599865],\n",
       "       [0.46353972, 0.53646028],\n",
       "       [0.44025178, 0.55974822],\n",
       "       [0.44873387, 0.55126613],\n",
       "       [0.47861196, 0.52138804],\n",
       "       [0.45253962, 0.54746038],\n",
       "       [0.46986243, 0.53013757],\n",
       "       [0.49804702, 0.50195298],\n",
       "       [0.45011806, 0.54988194],\n",
       "       [0.42411123, 0.57588877],\n",
       "       [0.45303076, 0.54696924],\n",
       "       [0.44766373, 0.55233627],\n",
       "       [0.42579056, 0.57420944],\n",
       "       [0.43873597, 0.56126403],\n",
       "       [0.36168576, 0.63831424],\n",
       "       [0.40679622, 0.59320378],\n",
       "       [0.46214709, 0.53785291],\n",
       "       [0.3982099 , 0.6017901 ],\n",
       "       [0.37018573, 0.62981427],\n",
       "       [0.43396702, 0.56603298],\n",
       "       [0.29055725, 0.70944275],\n",
       "       [0.52430315, 0.47569685],\n",
       "       [0.34504894, 0.65495106],\n",
       "       [0.37515666, 0.62484334],\n",
       "       [0.41057144, 0.58942856],\n",
       "       [0.51116166, 0.48883834],\n",
       "       [0.51862645, 0.48137355],\n",
       "       [0.49375693, 0.50624307],\n",
       "       [0.51321259, 0.48678741],\n",
       "       [0.3567556 , 0.6432444 ],\n",
       "       [0.40412225, 0.59587775],\n",
       "       [0.44143514, 0.55856486],\n",
       "       [0.42937787, 0.57062213],\n",
       "       [0.51073023, 0.48926977],\n",
       "       [0.45670511, 0.54329489],\n",
       "       [0.41443299, 0.58556701],\n",
       "       [0.42276497, 0.57723503],\n",
       "       [0.47061375, 0.52938625],\n",
       "       [0.43195432, 0.56804568],\n",
       "       [0.43651262, 0.56348738],\n",
       "       [0.40112969, 0.59887031],\n",
       "       [0.40322701, 0.59677299],\n",
       "       [0.45026775, 0.54973225],\n",
       "       [0.38386989, 0.61613011],\n",
       "       [0.3833444 , 0.6166556 ],\n",
       "       [0.37514675, 0.62485325],\n",
       "       [0.42693828, 0.57306172],\n",
       "       [0.42591974, 0.57408026],\n",
       "       [0.47690571, 0.52309429],\n",
       "       [0.41208319, 0.58791681],\n",
       "       [0.45087418, 0.54912582],\n",
       "       [0.3466885 , 0.6533115 ],\n",
       "       [0.44621836, 0.55378164],\n",
       "       [0.47263261, 0.52736739],\n",
       "       [0.48079075, 0.51920925],\n",
       "       [0.27654342, 0.72345658],\n",
       "       [0.46582489, 0.53417511],\n",
       "       [0.4029866 , 0.5970134 ],\n",
       "       [0.50355379, 0.49644621],\n",
       "       [0.52770548, 0.47229452],\n",
       "       [0.43576169, 0.56423831],\n",
       "       [0.55061235, 0.44938765],\n",
       "       [0.42038469, 0.57961531],\n",
       "       [0.35993597, 0.64006403],\n",
       "       [0.4362864 , 0.5637136 ],\n",
       "       [0.44228367, 0.55771633],\n",
       "       [0.43828177, 0.56171823],\n",
       "       [0.44068575, 0.55931425],\n",
       "       [0.40117796, 0.59882204],\n",
       "       [0.40286172, 0.59713828],\n",
       "       [0.4698606 , 0.5301394 ],\n",
       "       [0.44535475, 0.55464525],\n",
       "       [0.49973979, 0.50026021],\n",
       "       [0.50604512, 0.49395488],\n",
       "       [0.40874217, 0.59125783],\n",
       "       [0.56535311, 0.43464689],\n",
       "       [0.50923135, 0.49076865],\n",
       "       [0.30813833, 0.69186167],\n",
       "       [0.4328937 , 0.5671063 ],\n",
       "       [0.42526572, 0.57473428],\n",
       "       [0.42285879, 0.57714121],\n",
       "       [0.51848842, 0.48151158],\n",
       "       [0.49723603, 0.50276397],\n",
       "       [0.24011469, 0.75988531],\n",
       "       [0.30151256, 0.69848744],\n",
       "       [0.56203398, 0.43796602],\n",
       "       [0.42551218, 0.57448782],\n",
       "       [0.41851733, 0.58148267],\n",
       "       [0.45963358, 0.54036642],\n",
       "       [0.45183511, 0.54816489],\n",
       "       [0.36349072, 0.63650928],\n",
       "       [0.2759468 , 0.7240532 ],\n",
       "       [0.40316693, 0.59683307],\n",
       "       [0.43913676, 0.56086324],\n",
       "       [0.47056225, 0.52943775],\n",
       "       [0.36636394, 0.63363606],\n",
       "       [0.45677143, 0.54322857],\n",
       "       [0.36300243, 0.63699757],\n",
       "       [0.44434594, 0.55565406],\n",
       "       [0.43501306, 0.56498694],\n",
       "       [0.3763688 , 0.6236312 ],\n",
       "       [0.47041244, 0.52958756],\n",
       "       [0.44702838, 0.55297162],\n",
       "       [0.4374914 , 0.5625086 ],\n",
       "       [0.42355709, 0.57644291],\n",
       "       [0.41830532, 0.58169468],\n",
       "       [0.46327175, 0.53672825],\n",
       "       [0.46996076, 0.53003924],\n",
       "       [0.47180966, 0.52819034],\n",
       "       [0.44311859, 0.55688141],\n",
       "       [0.43695181, 0.56304819],\n",
       "       [0.74261469, 0.25738531],\n",
       "       [0.45257611, 0.54742389],\n",
       "       [0.32924118, 0.67075882],\n",
       "       [0.40079177, 0.59920823],\n",
       "       [0.35765416, 0.64234584],\n",
       "       [0.41848821, 0.58151179],\n",
       "       [0.43411812, 0.56588188],\n",
       "       [0.43872577, 0.56127423],\n",
       "       [0.44080546, 0.55919454],\n",
       "       [0.55720909, 0.44279091],\n",
       "       [0.47046322, 0.52953678],\n",
       "       [0.12767701, 0.87232299],\n",
       "       [0.44670421, 0.55329579],\n",
       "       [0.48390698, 0.51609302],\n",
       "       [0.4145218 , 0.5854782 ],\n",
       "       [0.4699334 , 0.5300666 ],\n",
       "       [0.36559709, 0.63440291],\n",
       "       [0.46969696, 0.53030304],\n",
       "       [0.43046762, 0.56953238],\n",
       "       [0.4068651 , 0.5931349 ],\n",
       "       [0.44871894, 0.55128106],\n",
       "       [0.39968495, 0.60031505],\n",
       "       [0.51367735, 0.48632265],\n",
       "       [0.46448639, 0.53551361],\n",
       "       [0.53709402, 0.46290598],\n",
       "       [0.43101688, 0.56898312],\n",
       "       [0.3933377 , 0.6066623 ],\n",
       "       [0.4561081 , 0.5438919 ],\n",
       "       [0.42397703, 0.57602297],\n",
       "       [0.47474108, 0.52525892],\n",
       "       [0.43067209, 0.56932791],\n",
       "       [0.47500944, 0.52499056],\n",
       "       [0.43507439, 0.56492561],\n",
       "       [0.52180989, 0.47819011],\n",
       "       [0.41262371, 0.58737629],\n",
       "       [0.44305849, 0.55694151],\n",
       "       [0.39000958, 0.60999042],\n",
       "       [0.3975778 , 0.6024222 ],\n",
       "       [0.4809589 , 0.5190411 ],\n",
       "       [0.46935315, 0.53064685],\n",
       "       [0.41451844, 0.58548156],\n",
       "       [0.44245887, 0.55754113],\n",
       "       [0.42533528, 0.57466472],\n",
       "       [0.41347845, 0.58652155],\n",
       "       [0.43246184, 0.56753816],\n",
       "       [0.38020977, 0.61979023],\n",
       "       [0.51933146, 0.48066854],\n",
       "       [0.45657714, 0.54342286],\n",
       "       [0.4708454 , 0.5291546 ],\n",
       "       [0.44660323, 0.55339677],\n",
       "       [0.37982887, 0.62017113],\n",
       "       [0.45556332, 0.54443668],\n",
       "       [0.43974495, 0.56025505],\n",
       "       [0.44697124, 0.55302876],\n",
       "       [0.40303675, 0.59696325],\n",
       "       [0.4454971 , 0.5545029 ]])"
      ]
     },
     "execution_count": 127,
     "metadata": {},
     "output_type": "execute_result"
    }
   ],
   "source": [
    "logr.predict_proba(X_test)"
   ]
  },
  {
   "cell_type": "code",
   "execution_count": 128,
   "id": "f36d4e2d",
   "metadata": {},
   "outputs": [],
   "source": [
    "pred_logr=logr.predict(X_test)"
   ]
  },
  {
   "cell_type": "code",
   "execution_count": 129,
   "id": "f4ba16f4",
   "metadata": {},
   "outputs": [
    {
     "data": {
      "text/plain": [
       "array([[ 19, 130],\n",
       "       [ 22, 156]], dtype=int64)"
      ]
     },
     "execution_count": 129,
     "metadata": {},
     "output_type": "execute_result"
    }
   ],
   "source": [
    "C_M=confusion_matrix(y_test,pred_logr)\n",
    "C_M"
   ]
  },
  {
   "cell_type": "code",
   "execution_count": 130,
   "id": "75cb2f05",
   "metadata": {},
   "outputs": [],
   "source": [
    "TN=C_M[0,0]\n",
    "TP=C_M[1,1]\n",
    "FN=C_M[1,0]\n",
    "FP=C_M[0,1]"
   ]
  },
  {
   "cell_type": "code",
   "execution_count": 131,
   "id": "2f3f6679",
   "metadata": {},
   "outputs": [
    {
     "data": {
      "text/plain": [
       "0.5351681957186545"
      ]
     },
     "execution_count": 131,
     "metadata": {},
     "output_type": "execute_result"
    }
   ],
   "source": [
    "Accuracy=(TN+TP)/(TP+TN+FN+FP)\n",
    "Accuracy "
   ]
  },
  {
   "cell_type": "code",
   "execution_count": 132,
   "id": "d535cee8",
   "metadata": {},
   "outputs": [
    {
     "data": {
      "text/plain": [
       "0.5454545454545454"
      ]
     },
     "execution_count": 132,
     "metadata": {},
     "output_type": "execute_result"
    }
   ],
   "source": [
    "Precision=TP/(TP+FP)\n",
    "Precision"
   ]
  },
  {
   "cell_type": "code",
   "execution_count": 133,
   "id": "81e23ae9",
   "metadata": {},
   "outputs": [
    {
     "data": {
      "text/plain": [
       "0.8764044943820225"
      ]
     },
     "execution_count": 133,
     "metadata": {},
     "output_type": "execute_result"
    }
   ],
   "source": [
    "Sensitivity=TP/(TP+FN)\n",
    "Sensitivity"
   ]
  },
  {
   "cell_type": "code",
   "execution_count": 134,
   "id": "23193c9d",
   "metadata": {},
   "outputs": [
    {
     "data": {
      "text/plain": [
       "0.12751677852348994"
      ]
     },
     "execution_count": 134,
     "metadata": {},
     "output_type": "execute_result"
    }
   ],
   "source": [
    "Specificity=TN/(TN+FP)\n",
    "Specificity"
   ]
  },
  {
   "cell_type": "markdown",
   "id": "40d2195f",
   "metadata": {},
   "source": [
    "# End of code"
   ]
  }
 ],
 "metadata": {
  "kernelspec": {
   "display_name": "Python 3 (ipykernel)",
   "language": "python",
   "name": "python3"
  },
  "language_info": {
   "codemirror_mode": {
    "name": "ipython",
    "version": 3
   },
   "file_extension": ".py",
   "mimetype": "text/x-python",
   "name": "python",
   "nbconvert_exporter": "python",
   "pygments_lexer": "ipython3",
   "version": "3.9.12"
  }
 },
 "nbformat": 4,
 "nbformat_minor": 5
}
